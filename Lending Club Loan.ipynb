{
 "cells": [
  {
   "cell_type": "markdown",
   "id": "2fd67909",
   "metadata": {},
   "source": [
    "# Lending Club Loan Data\n",
    "\n",
    "This Project is Dataquest's Monthly Challenge for the month of October, 2016.\n",
    "Data is from year 2007-2019.\n",
    "\n",
    "LendingClub is a US peer-to-peer lending company, headquartered in San Francisco, California. It was the first peer-to-peer lender to register its offerings as securities with the Securities and Exchange Commission (SEC), and to offer loan trading on a secondary market. LendingClub is the world's largest peer-to-peer lending platform.\n",
    "\n",
    "Solving this case study will give us an idea about how real business problems are solved using EDA and Machine Learning. In this case study, we will also develop a basic understanding of risk analytics in banking and financial services and understand how data is used to minimise the risk of losing money while lending to customers.\n",
    "\n",
    "In this challenge, we are to explore using past loan data from Lending Club to build models that can predict if a loan will be paid off on time or not."
   ]
  },
  {
   "cell_type": "markdown",
   "id": "856576ab",
   "metadata": {},
   "source": [
    "## Importing Modules"
   ]
  },
  {
   "cell_type": "code",
   "execution_count": 1,
   "id": "8903ab3a",
   "metadata": {},
   "outputs": [
    {
     "data": {
      "text/plain": [
       "['#003f5c', '#58508d', '#bc5090', '#ff6361', '#ffa600']"
      ]
     },
     "execution_count": 1,
     "metadata": {},
     "output_type": "execute_result"
    }
   ],
   "source": [
    "import pandas as pd\n",
    "import numpy as np\n",
    "import seaborn as sns\n",
    "import matplotlib.pyplot as plt\n",
    "import warnings\n",
    "warnings.filterwarnings(\"ignore\")\n",
    "import os\n",
    "import pickle\n",
    "colors = ['#003f5c','#58508d','#bc5090','#ff6361','#ffa600']\n",
    "colors"
   ]
  },
  {
   "cell_type": "markdown",
   "id": "dbd50bed",
   "metadata": {},
   "source": [
    "## ImportIng DataSet"
   ]
  },
  {
   "cell_type": "code",
   "execution_count": 2,
   "id": "1c8faaaf",
   "metadata": {},
   "outputs": [],
   "source": [
    "data=pd.DataFrame()\n",
    "for i in os.listdir():\n",
    "    if \".csv\" in i:\n",
    "        data=pd.read_csv(i)\n",
    "    elif \".xlsx\" in i:\n",
    "        details=pd.read_excel(i)"
   ]
  },
  {
   "cell_type": "markdown",
   "id": "7fa7769f",
   "metadata": {},
   "source": [
    "## Summary On Dataset"
   ]
  },
  {
   "cell_type": "markdown",
   "id": "d305c217",
   "metadata": {},
   "source": [
    "1. data - Loan_Club_Data\n",
    "2. details - Info on each Column from Loan_Club_Data"
   ]
  },
  {
   "cell_type": "markdown",
   "id": "6e99e9e5",
   "metadata": {},
   "source": [
    "### 1. data - Loan_Club_Data"
   ]
  },
  {
   "cell_type": "code",
   "execution_count": 3,
   "id": "c0f60fad",
   "metadata": {},
   "outputs": [
    {
     "data": {
      "text/html": [
       "<div>\n",
       "<style scoped>\n",
       "    .dataframe tbody tr th:only-of-type {\n",
       "        vertical-align: middle;\n",
       "    }\n",
       "\n",
       "    .dataframe tbody tr th {\n",
       "        vertical-align: top;\n",
       "    }\n",
       "\n",
       "    .dataframe thead th {\n",
       "        text-align: right;\n",
       "    }\n",
       "</style>\n",
       "<table border=\"1\" class=\"dataframe\">\n",
       "  <thead>\n",
       "    <tr style=\"text-align: right;\">\n",
       "      <th></th>\n",
       "      <th>id</th>\n",
       "      <th>member_id</th>\n",
       "      <th>loan_amnt</th>\n",
       "      <th>funded_amnt</th>\n",
       "      <th>funded_amnt_inv</th>\n",
       "      <th>term</th>\n",
       "      <th>int_rate</th>\n",
       "      <th>installment</th>\n",
       "      <th>grade</th>\n",
       "      <th>sub_grade</th>\n",
       "      <th>...</th>\n",
       "      <th>hardship_payoff_balance_amount</th>\n",
       "      <th>hardship_last_payment_amount</th>\n",
       "      <th>disbursement_method</th>\n",
       "      <th>debt_settlement_flag</th>\n",
       "      <th>debt_settlement_flag_date</th>\n",
       "      <th>settlement_status</th>\n",
       "      <th>settlement_date</th>\n",
       "      <th>settlement_amount</th>\n",
       "      <th>settlement_percentage</th>\n",
       "      <th>settlement_term</th>\n",
       "    </tr>\n",
       "  </thead>\n",
       "  <tbody>\n",
       "    <tr>\n",
       "      <th>0</th>\n",
       "      <td>NaN</td>\n",
       "      <td>NaN</td>\n",
       "      <td>2500</td>\n",
       "      <td>2500</td>\n",
       "      <td>2500.0</td>\n",
       "      <td>36 months</td>\n",
       "      <td>13.56</td>\n",
       "      <td>84.92</td>\n",
       "      <td>C</td>\n",
       "      <td>C1</td>\n",
       "      <td>...</td>\n",
       "      <td>NaN</td>\n",
       "      <td>NaN</td>\n",
       "      <td>Cash</td>\n",
       "      <td>N</td>\n",
       "      <td>NaN</td>\n",
       "      <td>NaN</td>\n",
       "      <td>NaN</td>\n",
       "      <td>NaN</td>\n",
       "      <td>NaN</td>\n",
       "      <td>NaN</td>\n",
       "    </tr>\n",
       "  </tbody>\n",
       "</table>\n",
       "<p>1 rows × 145 columns</p>\n",
       "</div>"
      ],
      "text/plain": [
       "   id  member_id  loan_amnt  funded_amnt  funded_amnt_inv        term  \\\n",
       "0 NaN        NaN       2500         2500           2500.0   36 months   \n",
       "\n",
       "   int_rate  installment grade sub_grade  ... hardship_payoff_balance_amount  \\\n",
       "0     13.56        84.92     C        C1  ...                            NaN   \n",
       "\n",
       "  hardship_last_payment_amount disbursement_method  debt_settlement_flag  \\\n",
       "0                          NaN                Cash                     N   \n",
       "\n",
       "  debt_settlement_flag_date settlement_status settlement_date  \\\n",
       "0                       NaN               NaN             NaN   \n",
       "\n",
       "  settlement_amount  settlement_percentage settlement_term  \n",
       "0               NaN                    NaN             NaN  \n",
       "\n",
       "[1 rows x 145 columns]"
      ]
     },
     "execution_count": 3,
     "metadata": {},
     "output_type": "execute_result"
    }
   ],
   "source": [
    "data.head(1)"
   ]
  },
  {
   "cell_type": "code",
   "execution_count": 4,
   "id": "45285d8e",
   "metadata": {},
   "outputs": [
    {
     "data": {
      "text/plain": [
       "(2260668, 145)"
      ]
     },
     "execution_count": 4,
     "metadata": {},
     "output_type": "execute_result"
    }
   ],
   "source": [
    "data.shape"
   ]
  },
  {
   "cell_type": "code",
   "execution_count": 5,
   "id": "280c2530",
   "metadata": {},
   "outputs": [
    {
     "name": "stdout",
     "output_type": "stream",
     "text": [
      "<class 'pandas.core.frame.DataFrame'>\n",
      "RangeIndex: 2260668 entries, 0 to 2260667\n",
      "Data columns (total 145 columns):\n",
      " #    Column                                      Non-Null Count    Dtype  \n",
      "---   ------                                      --------------    -----  \n",
      " 0    id                                          0 non-null        float64\n",
      " 1    member_id                                   0 non-null        float64\n",
      " 2    loan_amnt                                   2260668 non-null  int64  \n",
      " 3    funded_amnt                                 2260668 non-null  int64  \n",
      " 4    funded_amnt_inv                             2260668 non-null  float64\n",
      " 5    term                                        2260668 non-null  object \n",
      " 6    int_rate                                    2260668 non-null  float64\n",
      " 7    installment                                 2260668 non-null  float64\n",
      " 8    grade                                       2260668 non-null  object \n",
      " 9    sub_grade                                   2260668 non-null  object \n",
      " 10   emp_title                                   2093699 non-null  object \n",
      " 11   emp_length                                  2113761 non-null  object \n",
      " 12   home_ownership                              2260668 non-null  object \n",
      " 13   annual_inc                                  2260664 non-null  float64\n",
      " 14   verification_status                         2260668 non-null  object \n",
      " 15   issue_d                                     2260668 non-null  object \n",
      " 16   loan_status                                 2260668 non-null  object \n",
      " 17   pymnt_plan                                  2260668 non-null  object \n",
      " 18   url                                         0 non-null        float64\n",
      " 19   desc                                        126067 non-null   object \n",
      " 20   purpose                                     2260668 non-null  object \n",
      " 21   title                                       2237343 non-null  object \n",
      " 22   zip_code                                    2260667 non-null  object \n",
      " 23   addr_state                                  2260668 non-null  object \n",
      " 24   dti                                         2258957 non-null  float64\n",
      " 25   delinq_2yrs                                 2260639 non-null  float64\n",
      " 26   earliest_cr_line                            2260639 non-null  object \n",
      " 27   inq_last_6mths                              2260638 non-null  float64\n",
      " 28   mths_since_last_delinq                      1102166 non-null  float64\n",
      " 29   mths_since_last_record                      359156 non-null   float64\n",
      " 30   open_acc                                    2260639 non-null  float64\n",
      " 31   pub_rec                                     2260639 non-null  float64\n",
      " 32   revol_bal                                   2260668 non-null  int64  \n",
      " 33   revol_util                                  2258866 non-null  float64\n",
      " 34   total_acc                                   2260639 non-null  float64\n",
      " 35   initial_list_status                         2260668 non-null  object \n",
      " 36   out_prncp                                   2260668 non-null  float64\n",
      " 37   out_prncp_inv                               2260668 non-null  float64\n",
      " 38   total_pymnt                                 2260668 non-null  float64\n",
      " 39   total_pymnt_inv                             2260668 non-null  float64\n",
      " 40   total_rec_prncp                             2260668 non-null  float64\n",
      " 41   total_rec_int                               2260668 non-null  float64\n",
      " 42   total_rec_late_fee                          2260668 non-null  float64\n",
      " 43   recoveries                                  2260668 non-null  float64\n",
      " 44   collection_recovery_fee                     2260668 non-null  float64\n",
      " 45   last_pymnt_d                                2258242 non-null  object \n",
      " 46   last_pymnt_amnt                             2260668 non-null  float64\n",
      " 47   next_pymnt_d                                957061 non-null   object \n",
      " 48   last_credit_pull_d                          2260595 non-null  object \n",
      " 49   collections_12_mths_ex_med                  2260523 non-null  float64\n",
      " 50   mths_since_last_major_derog                 580775 non-null   float64\n",
      " 51   policy_code                                 2260668 non-null  int64  \n",
      " 52   application_type                            2260668 non-null  object \n",
      " 53   annual_inc_joint                            120710 non-null   float64\n",
      " 54   dti_joint                                   120706 non-null   float64\n",
      " 55   verification_status_joint                   115730 non-null   object \n",
      " 56   acc_now_delinq                              2260639 non-null  float64\n",
      " 57   tot_coll_amt                                2190392 non-null  float64\n",
      " 58   tot_cur_bal                                 2190392 non-null  float64\n",
      " 59   open_acc_6m                                 1394538 non-null  float64\n",
      " 60   open_act_il                                 1394539 non-null  float64\n",
      " 61   open_il_12m                                 1394539 non-null  float64\n",
      " 62   open_il_24m                                 1394539 non-null  float64\n",
      " 63   mths_since_rcnt_il                          1350744 non-null  float64\n",
      " 64   total_bal_il                                1394539 non-null  float64\n",
      " 65   il_util                                     1191818 non-null  float64\n",
      " 66   open_rv_12m                                 1394539 non-null  float64\n",
      " 67   open_rv_24m                                 1394539 non-null  float64\n",
      " 68   max_bal_bc                                  1394539 non-null  float64\n",
      " 69   all_util                                    1394320 non-null  float64\n",
      " 70   total_rev_hi_lim                            2190392 non-null  float64\n",
      " 71   inq_fi                                      1394539 non-null  float64\n",
      " 72   total_cu_tl                                 1394538 non-null  float64\n",
      " 73   inq_last_12m                                1394538 non-null  float64\n",
      " 74   acc_open_past_24mths                        2210638 non-null  float64\n",
      " 75   avg_cur_bal                                 2190322 non-null  float64\n",
      " 76   bc_open_to_buy                              2185733 non-null  float64\n",
      " 77   bc_util                                     2184597 non-null  float64\n",
      " 78   chargeoff_within_12_mths                    2260523 non-null  float64\n",
      " 79   delinq_amnt                                 2260639 non-null  float64\n",
      " 80   mo_sin_old_il_acct                          2121597 non-null  float64\n",
      " 81   mo_sin_old_rev_tl_op                        2190391 non-null  float64\n",
      " 82   mo_sin_rcnt_rev_tl_op                       2190391 non-null  float64\n",
      " 83   mo_sin_rcnt_tl                              2190392 non-null  float64\n",
      " 84   mort_acc                                    2210638 non-null  float64\n",
      " 85   mths_since_recent_bc                        2187256 non-null  float64\n",
      " 86   mths_since_recent_bc_dlq                    519701 non-null   float64\n",
      " 87   mths_since_recent_inq                       1965233 non-null  float64\n",
      " 88   mths_since_recent_revol_delinq              740359 non-null   float64\n",
      " 89   num_accts_ever_120_pd                       2190392 non-null  float64\n",
      " 90   num_actv_bc_tl                              2190392 non-null  float64\n",
      " 91   num_actv_rev_tl                             2190392 non-null  float64\n",
      " 92   num_bc_sats                                 2202078 non-null  float64\n",
      " 93   num_bc_tl                                   2190392 non-null  float64\n",
      " 94   num_il_tl                                   2190392 non-null  float64\n",
      " 95   num_op_rev_tl                               2190392 non-null  float64\n",
      " 96   num_rev_accts                               2190391 non-null  float64\n",
      " 97   num_rev_tl_bal_gt_0                         2190392 non-null  float64\n",
      " 98   num_sats                                    2202078 non-null  float64\n",
      " 99   num_tl_120dpd_2m                            2107011 non-null  float64\n",
      " 100  num_tl_30dpd                                2190392 non-null  float64\n",
      " 101  num_tl_90g_dpd_24m                          2190392 non-null  float64\n",
      " 102  num_tl_op_past_12m                          2190392 non-null  float64\n",
      " 103  pct_tl_nvr_dlq                              2190237 non-null  float64\n",
      " 104  percent_bc_gt_75                            2185289 non-null  float64\n",
      " 105  pub_rec_bankruptcies                        2259303 non-null  float64\n",
      " 106  tax_liens                                   2260563 non-null  float64\n",
      " 107  tot_hi_cred_lim                             2190392 non-null  float64\n",
      " 108  total_bal_ex_mort                           2210638 non-null  float64\n",
      " 109  total_bc_limit                              2210638 non-null  float64\n",
      " 110  total_il_high_credit_limit                  2190392 non-null  float64\n",
      " 111  revol_bal_joint                             108020 non-null   float64\n",
      " 112  sec_app_earliest_cr_line                    108021 non-null   object \n",
      " 113  sec_app_inq_last_6mths                      108021 non-null   float64\n",
      " 114  sec_app_mort_acc                            108021 non-null   float64\n",
      " 115  sec_app_open_acc                            108021 non-null   float64\n",
      " 116  sec_app_revol_util                          106184 non-null   float64\n",
      " 117  sec_app_open_act_il                         108021 non-null   float64\n",
      " 118  sec_app_num_rev_accts                       108021 non-null   float64\n",
      " 119  sec_app_chargeoff_within_12_mths            108021 non-null   float64\n",
      " 120  sec_app_collections_12_mths_ex_med          108021 non-null   float64\n",
      " 121  sec_app_mths_since_last_major_derog         35942 non-null    float64\n",
      " 122  hardship_flag                               2260668 non-null  object \n",
      " 123  hardship_type                               10613 non-null    object \n",
      " 124  hardship_reason                             10613 non-null    object \n",
      " 125  hardship_status                             10613 non-null    object \n",
      " 126  deferral_term                               10613 non-null    float64\n",
      " 127  hardship_amount                             10613 non-null    float64\n",
      " 128  hardship_start_date                         10613 non-null    object \n",
      " 129  hardship_end_date                           10613 non-null    object \n",
      " 130  payment_plan_start_date                     10613 non-null    object \n",
      " 131  hardship_length                             10613 non-null    float64\n",
      " 132  hardship_dpd                                10613 non-null    float64\n",
      " 133  hardship_loan_status                        10613 non-null    object \n",
      " 134  orig_projected_additional_accrued_interest  8426 non-null     float64\n",
      " 135  hardship_payoff_balance_amount              10613 non-null    float64\n",
      " 136  hardship_last_payment_amount                10613 non-null    float64\n",
      " 137  disbursement_method                         2260668 non-null  object \n",
      " 138  debt_settlement_flag                        2260668 non-null  object \n",
      " 139  debt_settlement_flag_date                   33056 non-null    object \n",
      " 140  settlement_status                           33056 non-null    object \n",
      " 141  settlement_date                             33056 non-null    object \n",
      " 142  settlement_amount                           33056 non-null    float64\n",
      " 143  settlement_percentage                       33056 non-null    float64\n",
      " 144  settlement_term                             33056 non-null    float64\n",
      "dtypes: float64(105), int64(4), object(36)\n",
      "memory usage: 2.4+ GB\n"
     ]
    }
   ],
   "source": [
    "data.info(verbose=True, show_counts=True)"
   ]
  },
  {
   "cell_type": "markdown",
   "id": "638bacc2",
   "metadata": {},
   "source": [
    "### 2. details - Info on each Column from Loan_Club_Data"
   ]
  },
  {
   "cell_type": "code",
   "execution_count": 6,
   "id": "57d06919",
   "metadata": {},
   "outputs": [
    {
     "data": {
      "text/html": [
       "<div>\n",
       "<style scoped>\n",
       "    .dataframe tbody tr th:only-of-type {\n",
       "        vertical-align: middle;\n",
       "    }\n",
       "\n",
       "    .dataframe tbody tr th {\n",
       "        vertical-align: top;\n",
       "    }\n",
       "\n",
       "    .dataframe thead th {\n",
       "        text-align: right;\n",
       "    }\n",
       "</style>\n",
       "<table border=\"1\" class=\"dataframe\">\n",
       "  <thead>\n",
       "    <tr style=\"text-align: right;\">\n",
       "      <th></th>\n",
       "      <th>LoanStatNew</th>\n",
       "      <th>Description</th>\n",
       "    </tr>\n",
       "  </thead>\n",
       "  <tbody>\n",
       "    <tr>\n",
       "      <th>0</th>\n",
       "      <td>acc_now_delinq</td>\n",
       "      <td>The number of accounts on which the borrower i...</td>\n",
       "    </tr>\n",
       "  </tbody>\n",
       "</table>\n",
       "</div>"
      ],
      "text/plain": [
       "      LoanStatNew                                        Description\n",
       "0  acc_now_delinq  The number of accounts on which the borrower i..."
      ]
     },
     "execution_count": 6,
     "metadata": {},
     "output_type": "execute_result"
    }
   ],
   "source": [
    "details.head(1)"
   ]
  },
  {
   "cell_type": "code",
   "execution_count": 7,
   "id": "d4cb9d78",
   "metadata": {},
   "outputs": [
    {
     "data": {
      "text/plain": [
       "(153, 2)"
      ]
     },
     "execution_count": 7,
     "metadata": {},
     "output_type": "execute_result"
    }
   ],
   "source": [
    "details.shape"
   ]
  },
  {
   "cell_type": "code",
   "execution_count": 8,
   "id": "c358cdd7",
   "metadata": {},
   "outputs": [
    {
     "name": "stdout",
     "output_type": "stream",
     "text": [
      "<class 'pandas.core.frame.DataFrame'>\n",
      "RangeIndex: 153 entries, 0 to 152\n",
      "Data columns (total 2 columns):\n",
      " #   Column       Non-Null Count  Dtype \n",
      "---  ------       --------------  ----- \n",
      " 0   LoanStatNew  151 non-null    object\n",
      " 1   Description  152 non-null    object\n",
      "dtypes: object(2)\n",
      "memory usage: 2.5+ KB\n"
     ]
    }
   ],
   "source": [
    "details.info(verbose=True, show_counts=True)"
   ]
  },
  {
   "cell_type": "markdown",
   "id": "a2100cde",
   "metadata": {},
   "source": [
    "1. Details dataset seems to have more no. of column details compared to data dataset\n",
    "2. Dropping those rows from details which are not present as columns or feature in main data dataset."
   ]
  },
  {
   "cell_type": "code",
   "execution_count": 9,
   "id": "00cd4130",
   "metadata": {},
   "outputs": [],
   "source": [
    "c=[]\n",
    "for i in details['LoanStatNew']:\n",
    "    if i not in data.columns:\n",
    "        c.append(i)"
   ]
  },
  {
   "cell_type": "code",
   "execution_count": 10,
   "id": "aa5ffde0",
   "metadata": {},
   "outputs": [],
   "source": [
    "details=details.drop(index=details[details['LoanStatNew'].isin(c)].index)"
   ]
  },
  {
   "cell_type": "code",
   "execution_count": 11,
   "id": "1bb0178f",
   "metadata": {},
   "outputs": [],
   "source": [
    "details.reset_index(drop=True,inplace=True)"
   ]
  },
  {
   "cell_type": "code",
   "execution_count": 12,
   "id": "a6443335",
   "metadata": {},
   "outputs": [
    {
     "data": {
      "text/plain": [
       "(133, 2)"
      ]
     },
     "execution_count": 12,
     "metadata": {},
     "output_type": "execute_result"
    }
   ],
   "source": [
    "details.shape"
   ]
  },
  {
   "cell_type": "markdown",
   "id": "cf65f98f",
   "metadata": {},
   "source": [
    "1. 20 rows have been dropped as they weren't in data dataframe"
   ]
  },
  {
   "cell_type": "markdown",
   "id": "9b81b1ac",
   "metadata": {},
   "source": [
    "## Collection of Information from Main dataset and combining with details"
   ]
  },
  {
   "cell_type": "markdown",
   "id": "2d853602",
   "metadata": {},
   "source": [
    "### So Detail dataset should contain:\n",
    "1. Feature name\n",
    "2. Datatype\n",
    "3. Value\n",
    "4. Description"
   ]
  },
  {
   "cell_type": "code",
   "execution_count": 13,
   "id": "d42da987",
   "metadata": {},
   "outputs": [],
   "source": [
    "dtypes = pd.DataFrame(data.dtypes,columns=['dtypes'])\n",
    "dtypes['values']=data.iloc[0]\n",
    "dtypes=dtypes.reset_index()"
   ]
  },
  {
   "cell_type": "code",
   "execution_count": 14,
   "id": "8b461ebb",
   "metadata": {},
   "outputs": [],
   "source": [
    "details.rename(columns={'LoanStatNew':'Feature names'},inplace=True)\n",
    "details=dtypes.merge(details,left_on='index',right_on='Feature names').drop('index',axis=1)"
   ]
  },
  {
   "cell_type": "code",
   "execution_count": 15,
   "id": "ba6f10b2",
   "metadata": {},
   "outputs": [
    {
     "data": {
      "text/html": [
       "<div>\n",
       "<style scoped>\n",
       "    .dataframe tbody tr th:only-of-type {\n",
       "        vertical-align: middle;\n",
       "    }\n",
       "\n",
       "    .dataframe tbody tr th {\n",
       "        vertical-align: top;\n",
       "    }\n",
       "\n",
       "    .dataframe thead th {\n",
       "        text-align: right;\n",
       "    }\n",
       "</style>\n",
       "<table border=\"1\" class=\"dataframe\">\n",
       "  <thead>\n",
       "    <tr style=\"text-align: right;\">\n",
       "      <th></th>\n",
       "      <th>dtypes</th>\n",
       "      <th>values</th>\n",
       "      <th>Feature names</th>\n",
       "      <th>Description</th>\n",
       "    </tr>\n",
       "  </thead>\n",
       "  <tbody>\n",
       "    <tr>\n",
       "      <th>0</th>\n",
       "      <td>float64</td>\n",
       "      <td>NaN</td>\n",
       "      <td>id</td>\n",
       "      <td>A unique LC assigned ID for the loan listing.</td>\n",
       "    </tr>\n",
       "    <tr>\n",
       "      <th>1</th>\n",
       "      <td>float64</td>\n",
       "      <td>NaN</td>\n",
       "      <td>member_id</td>\n",
       "      <td>A unique LC assigned Id for the borrower member.</td>\n",
       "    </tr>\n",
       "    <tr>\n",
       "      <th>2</th>\n",
       "      <td>int64</td>\n",
       "      <td>2500</td>\n",
       "      <td>loan_amnt</td>\n",
       "      <td>The listed amount of the loan applied for by t...</td>\n",
       "    </tr>\n",
       "    <tr>\n",
       "      <th>3</th>\n",
       "      <td>int64</td>\n",
       "      <td>2500</td>\n",
       "      <td>funded_amnt</td>\n",
       "      <td>The total amount committed to that loan at tha...</td>\n",
       "    </tr>\n",
       "    <tr>\n",
       "      <th>4</th>\n",
       "      <td>float64</td>\n",
       "      <td>2500.0</td>\n",
       "      <td>funded_amnt_inv</td>\n",
       "      <td>The total amount committed by investors for th...</td>\n",
       "    </tr>\n",
       "  </tbody>\n",
       "</table>\n",
       "</div>"
      ],
      "text/plain": [
       "    dtypes  values    Feature names  \\\n",
       "0  float64     NaN               id   \n",
       "1  float64     NaN        member_id   \n",
       "2    int64    2500        loan_amnt   \n",
       "3    int64    2500      funded_amnt   \n",
       "4  float64  2500.0  funded_amnt_inv   \n",
       "\n",
       "                                         Description  \n",
       "0      A unique LC assigned ID for the loan listing.  \n",
       "1   A unique LC assigned Id for the borrower member.  \n",
       "2  The listed amount of the loan applied for by t...  \n",
       "3  The total amount committed to that loan at tha...  \n",
       "4  The total amount committed by investors for th...  "
      ]
     },
     "execution_count": 15,
     "metadata": {},
     "output_type": "execute_result"
    }
   ],
   "source": [
    "details.head()"
   ]
  },
  {
   "cell_type": "markdown",
   "id": "f562081c",
   "metadata": {},
   "source": [
    "1. Now that we have megred two informations together we need to view them\n",
    "2. As there are 133 columns we can split them into 5-6 groups for understanding all features"
   ]
  },
  {
   "cell_type": "code",
   "execution_count": 16,
   "id": "9f2348eb",
   "metadata": {},
   "outputs": [
    {
     "data": {
      "text/html": [
       "<div>\n",
       "<style scoped>\n",
       "    .dataframe tbody tr th:only-of-type {\n",
       "        vertical-align: middle;\n",
       "    }\n",
       "\n",
       "    .dataframe tbody tr th {\n",
       "        vertical-align: top;\n",
       "    }\n",
       "\n",
       "    .dataframe thead th {\n",
       "        text-align: right;\n",
       "    }\n",
       "</style>\n",
       "<table border=\"1\" class=\"dataframe\">\n",
       "  <thead>\n",
       "    <tr style=\"text-align: right;\">\n",
       "      <th></th>\n",
       "      <th>dtypes</th>\n",
       "      <th>values</th>\n",
       "      <th>Feature names</th>\n",
       "      <th>Description</th>\n",
       "    </tr>\n",
       "  </thead>\n",
       "  <tbody>\n",
       "    <tr>\n",
       "      <th>0</th>\n",
       "      <td>float64</td>\n",
       "      <td>NaN</td>\n",
       "      <td>id</td>\n",
       "      <td>A unique LC assigned ID for the loan listing.</td>\n",
       "    </tr>\n",
       "    <tr>\n",
       "      <th>1</th>\n",
       "      <td>float64</td>\n",
       "      <td>NaN</td>\n",
       "      <td>member_id</td>\n",
       "      <td>A unique LC assigned Id for the borrower member.</td>\n",
       "    </tr>\n",
       "    <tr>\n",
       "      <th>2</th>\n",
       "      <td>int64</td>\n",
       "      <td>2500</td>\n",
       "      <td>loan_amnt</td>\n",
       "      <td>The listed amount of the loan applied for by the borrower. If at some point in time, the credit department reduces the loan amount, then it will be reflected in this value.</td>\n",
       "    </tr>\n",
       "    <tr>\n",
       "      <th>3</th>\n",
       "      <td>int64</td>\n",
       "      <td>2500</td>\n",
       "      <td>funded_amnt</td>\n",
       "      <td>The total amount committed to that loan at that point in time.</td>\n",
       "    </tr>\n",
       "    <tr>\n",
       "      <th>4</th>\n",
       "      <td>float64</td>\n",
       "      <td>2500.0</td>\n",
       "      <td>funded_amnt_inv</td>\n",
       "      <td>The total amount committed by investors for that loan at that point in time.</td>\n",
       "    </tr>\n",
       "    <tr>\n",
       "      <th>5</th>\n",
       "      <td>object</td>\n",
       "      <td>36 months</td>\n",
       "      <td>term</td>\n",
       "      <td>The number of payments on the loan. Values are in months and can be either 36 or 60.</td>\n",
       "    </tr>\n",
       "    <tr>\n",
       "      <th>6</th>\n",
       "      <td>float64</td>\n",
       "      <td>13.56</td>\n",
       "      <td>int_rate</td>\n",
       "      <td>Interest Rate on the loan</td>\n",
       "    </tr>\n",
       "    <tr>\n",
       "      <th>7</th>\n",
       "      <td>float64</td>\n",
       "      <td>84.92</td>\n",
       "      <td>installment</td>\n",
       "      <td>The monthly payment owed by the borrower if the loan originates.</td>\n",
       "    </tr>\n",
       "    <tr>\n",
       "      <th>8</th>\n",
       "      <td>object</td>\n",
       "      <td>C</td>\n",
       "      <td>grade</td>\n",
       "      <td>LC assigned loan grade</td>\n",
       "    </tr>\n",
       "    <tr>\n",
       "      <th>9</th>\n",
       "      <td>object</td>\n",
       "      <td>C1</td>\n",
       "      <td>sub_grade</td>\n",
       "      <td>LC assigned loan subgrade</td>\n",
       "    </tr>\n",
       "    <tr>\n",
       "      <th>10</th>\n",
       "      <td>object</td>\n",
       "      <td>Chef</td>\n",
       "      <td>emp_title</td>\n",
       "      <td>The job title supplied by the Borrower when applying for the loan.*</td>\n",
       "    </tr>\n",
       "    <tr>\n",
       "      <th>11</th>\n",
       "      <td>object</td>\n",
       "      <td>10+ years</td>\n",
       "      <td>emp_length</td>\n",
       "      <td>Employment length in years. Possible values are between 0 and 10 where 0 means less than one year and 10 means ten or more years.</td>\n",
       "    </tr>\n",
       "    <tr>\n",
       "      <th>12</th>\n",
       "      <td>object</td>\n",
       "      <td>RENT</td>\n",
       "      <td>home_ownership</td>\n",
       "      <td>The home ownership status provided by the borrower during registration or obtained from the credit report. Our values are: RENT, OWN, MORTGAGE, OTHER</td>\n",
       "    </tr>\n",
       "    <tr>\n",
       "      <th>13</th>\n",
       "      <td>float64</td>\n",
       "      <td>55000.0</td>\n",
       "      <td>annual_inc</td>\n",
       "      <td>The self-reported annual income provided by the borrower during registration.</td>\n",
       "    </tr>\n",
       "    <tr>\n",
       "      <th>14</th>\n",
       "      <td>object</td>\n",
       "      <td>Not Verified</td>\n",
       "      <td>verification_status</td>\n",
       "      <td>Indicates if income was verified by LC, not verified, or if the income source was verified</td>\n",
       "    </tr>\n",
       "    <tr>\n",
       "      <th>15</th>\n",
       "      <td>object</td>\n",
       "      <td>Dec-2018</td>\n",
       "      <td>issue_d</td>\n",
       "      <td>The month which the loan was funded</td>\n",
       "    </tr>\n",
       "    <tr>\n",
       "      <th>16</th>\n",
       "      <td>object</td>\n",
       "      <td>Current</td>\n",
       "      <td>loan_status</td>\n",
       "      <td>Current status of the loan</td>\n",
       "    </tr>\n",
       "    <tr>\n",
       "      <th>17</th>\n",
       "      <td>object</td>\n",
       "      <td>n</td>\n",
       "      <td>pymnt_plan</td>\n",
       "      <td>Indicates if a payment plan has been put in place for the loan</td>\n",
       "    </tr>\n",
       "    <tr>\n",
       "      <th>18</th>\n",
       "      <td>float64</td>\n",
       "      <td>NaN</td>\n",
       "      <td>url</td>\n",
       "      <td>URL for the LC page with listing data.</td>\n",
       "    </tr>\n",
       "    <tr>\n",
       "      <th>19</th>\n",
       "      <td>object</td>\n",
       "      <td>NaN</td>\n",
       "      <td>desc</td>\n",
       "      <td>Loan description provided by the borrower</td>\n",
       "    </tr>\n",
       "    <tr>\n",
       "      <th>20</th>\n",
       "      <td>object</td>\n",
       "      <td>debt_consolidation</td>\n",
       "      <td>purpose</td>\n",
       "      <td>A category provided by the borrower for the loan request.</td>\n",
       "    </tr>\n",
       "    <tr>\n",
       "      <th>21</th>\n",
       "      <td>object</td>\n",
       "      <td>Debt consolidation</td>\n",
       "      <td>title</td>\n",
       "      <td>The loan title provided by the borrower</td>\n",
       "    </tr>\n",
       "    <tr>\n",
       "      <th>22</th>\n",
       "      <td>object</td>\n",
       "      <td>109xx</td>\n",
       "      <td>zip_code</td>\n",
       "      <td>The first 3 numbers of the zip code provided by the borrower in the loan application.</td>\n",
       "    </tr>\n",
       "    <tr>\n",
       "      <th>23</th>\n",
       "      <td>object</td>\n",
       "      <td>NY</td>\n",
       "      <td>addr_state</td>\n",
       "      <td>The state provided by the borrower in the loan application</td>\n",
       "    </tr>\n",
       "    <tr>\n",
       "      <th>24</th>\n",
       "      <td>float64</td>\n",
       "      <td>18.24</td>\n",
       "      <td>dti</td>\n",
       "      <td>A ratio calculated using the borrower’s total monthly debt payments on the total debt obligations, excluding mortgage and the requested LC loan, divided by the borrower’s self-reported monthly income.</td>\n",
       "    </tr>\n",
       "  </tbody>\n",
       "</table>\n",
       "</div>"
      ],
      "text/plain": [
       "     dtypes              values        Feature names  \\\n",
       "0   float64                 NaN                   id   \n",
       "1   float64                 NaN            member_id   \n",
       "2     int64                2500            loan_amnt   \n",
       "3     int64                2500          funded_amnt   \n",
       "4   float64              2500.0      funded_amnt_inv   \n",
       "5    object           36 months                 term   \n",
       "6   float64               13.56             int_rate   \n",
       "7   float64               84.92          installment   \n",
       "8    object                   C                grade   \n",
       "9    object                  C1            sub_grade   \n",
       "10   object                Chef            emp_title   \n",
       "11   object           10+ years           emp_length   \n",
       "12   object                RENT       home_ownership   \n",
       "13  float64             55000.0           annual_inc   \n",
       "14   object        Not Verified  verification_status   \n",
       "15   object            Dec-2018              issue_d   \n",
       "16   object             Current          loan_status   \n",
       "17   object                   n           pymnt_plan   \n",
       "18  float64                 NaN                  url   \n",
       "19   object                 NaN                 desc   \n",
       "20   object  debt_consolidation              purpose   \n",
       "21   object  Debt consolidation                title   \n",
       "22   object               109xx             zip_code   \n",
       "23   object                  NY           addr_state   \n",
       "24  float64               18.24                  dti   \n",
       "\n",
       "                                                                                                                                                                                                 Description  \n",
       "0                                                                                                                                                              A unique LC assigned ID for the loan listing.  \n",
       "1                                                                                                                                                           A unique LC assigned Id for the borrower member.  \n",
       "2                               The listed amount of the loan applied for by the borrower. If at some point in time, the credit department reduces the loan amount, then it will be reflected in this value.  \n",
       "3                                                                                                                                             The total amount committed to that loan at that point in time.  \n",
       "4                                                                                                                               The total amount committed by investors for that loan at that point in time.  \n",
       "5                                                                                                                       The number of payments on the loan. Values are in months and can be either 36 or 60.  \n",
       "6                                                                                                                                                                                  Interest Rate on the loan  \n",
       "7                                                                                                                                           The monthly payment owed by the borrower if the loan originates.  \n",
       "8                                                                                                                                                                                     LC assigned loan grade  \n",
       "9                                                                                                                                                                                  LC assigned loan subgrade  \n",
       "10                                                                                                                                       The job title supplied by the Borrower when applying for the loan.*  \n",
       "11                                                                        Employment length in years. Possible values are between 0 and 10 where 0 means less than one year and 10 means ten or more years.   \n",
       "12                                                     The home ownership status provided by the borrower during registration or obtained from the credit report. Our values are: RENT, OWN, MORTGAGE, OTHER  \n",
       "13                                                                                                                             The self-reported annual income provided by the borrower during registration.  \n",
       "14                                                                                                                Indicates if income was verified by LC, not verified, or if the income source was verified  \n",
       "15                                                                                                                                                                       The month which the loan was funded  \n",
       "16                                                                                                                                                                                Current status of the loan  \n",
       "17                                                                                                                                            Indicates if a payment plan has been put in place for the loan  \n",
       "18                                                                                                                                                                    URL for the LC page with listing data.  \n",
       "19                                                                                                                                                                 Loan description provided by the borrower  \n",
       "20                                                                                                                                                A category provided by the borrower for the loan request.   \n",
       "21                                                                                                                                                                   The loan title provided by the borrower  \n",
       "22                                                                                                                     The first 3 numbers of the zip code provided by the borrower in the loan application.  \n",
       "23                                                                                                                                                The state provided by the borrower in the loan application  \n",
       "24  A ratio calculated using the borrower’s total monthly debt payments on the total debt obligations, excluding mortgage and the requested LC loan, divided by the borrower’s self-reported monthly income.  "
      ]
     },
     "execution_count": 16,
     "metadata": {},
     "output_type": "execute_result"
    }
   ],
   "source": [
    "pd.set_option('max_colwidth', 5000) #to adjust max row width\n",
    "details[:25]"
   ]
  },
  {
   "cell_type": "code",
   "execution_count": 17,
   "id": "2ce3afde",
   "metadata": {},
   "outputs": [
    {
     "data": {
      "text/html": [
       "<div>\n",
       "<style scoped>\n",
       "    .dataframe tbody tr th:only-of-type {\n",
       "        vertical-align: middle;\n",
       "    }\n",
       "\n",
       "    .dataframe tbody tr th {\n",
       "        vertical-align: top;\n",
       "    }\n",
       "\n",
       "    .dataframe thead th {\n",
       "        text-align: right;\n",
       "    }\n",
       "</style>\n",
       "<table border=\"1\" class=\"dataframe\">\n",
       "  <thead>\n",
       "    <tr style=\"text-align: right;\">\n",
       "      <th></th>\n",
       "      <th>dtypes</th>\n",
       "      <th>values</th>\n",
       "      <th>Feature names</th>\n",
       "      <th>Description</th>\n",
       "    </tr>\n",
       "  </thead>\n",
       "  <tbody>\n",
       "    <tr>\n",
       "      <th>25</th>\n",
       "      <td>float64</td>\n",
       "      <td>0.0</td>\n",
       "      <td>delinq_2yrs</td>\n",
       "      <td>The number of 30+ days past-due incidences of delinquency in the borrower's credit file for the past 2 years</td>\n",
       "    </tr>\n",
       "    <tr>\n",
       "      <th>26</th>\n",
       "      <td>object</td>\n",
       "      <td>Apr-2001</td>\n",
       "      <td>earliest_cr_line</td>\n",
       "      <td>The month the borrower's earliest reported credit line was opened</td>\n",
       "    </tr>\n",
       "    <tr>\n",
       "      <th>27</th>\n",
       "      <td>float64</td>\n",
       "      <td>1.0</td>\n",
       "      <td>inq_last_6mths</td>\n",
       "      <td>The number of inquiries in past 6 months (excluding auto and mortgage inquiries)</td>\n",
       "    </tr>\n",
       "    <tr>\n",
       "      <th>28</th>\n",
       "      <td>float64</td>\n",
       "      <td>NaN</td>\n",
       "      <td>mths_since_last_delinq</td>\n",
       "      <td>The number of months since the borrower's last delinquency.</td>\n",
       "    </tr>\n",
       "    <tr>\n",
       "      <th>29</th>\n",
       "      <td>float64</td>\n",
       "      <td>45.0</td>\n",
       "      <td>mths_since_last_record</td>\n",
       "      <td>The number of months since the last public record.</td>\n",
       "    </tr>\n",
       "    <tr>\n",
       "      <th>30</th>\n",
       "      <td>float64</td>\n",
       "      <td>9.0</td>\n",
       "      <td>open_acc</td>\n",
       "      <td>The number of open credit lines in the borrower's credit file.</td>\n",
       "    </tr>\n",
       "    <tr>\n",
       "      <th>31</th>\n",
       "      <td>float64</td>\n",
       "      <td>1.0</td>\n",
       "      <td>pub_rec</td>\n",
       "      <td>Number of derogatory public records</td>\n",
       "    </tr>\n",
       "    <tr>\n",
       "      <th>32</th>\n",
       "      <td>int64</td>\n",
       "      <td>4341</td>\n",
       "      <td>revol_bal</td>\n",
       "      <td>Total credit revolving balance</td>\n",
       "    </tr>\n",
       "    <tr>\n",
       "      <th>33</th>\n",
       "      <td>float64</td>\n",
       "      <td>10.3</td>\n",
       "      <td>revol_util</td>\n",
       "      <td>Revolving line utilization rate, or the amount of credit the borrower is using relative to all available revolving credit.</td>\n",
       "    </tr>\n",
       "    <tr>\n",
       "      <th>34</th>\n",
       "      <td>float64</td>\n",
       "      <td>34.0</td>\n",
       "      <td>total_acc</td>\n",
       "      <td>The total number of credit lines currently in the borrower's credit file</td>\n",
       "    </tr>\n",
       "    <tr>\n",
       "      <th>35</th>\n",
       "      <td>object</td>\n",
       "      <td>w</td>\n",
       "      <td>initial_list_status</td>\n",
       "      <td>The initial listing status of the loan. Possible values are – W, F</td>\n",
       "    </tr>\n",
       "    <tr>\n",
       "      <th>36</th>\n",
       "      <td>float64</td>\n",
       "      <td>2386.02</td>\n",
       "      <td>out_prncp</td>\n",
       "      <td>Remaining outstanding principal for total amount funded</td>\n",
       "    </tr>\n",
       "    <tr>\n",
       "      <th>37</th>\n",
       "      <td>float64</td>\n",
       "      <td>2386.02</td>\n",
       "      <td>out_prncp_inv</td>\n",
       "      <td>Remaining outstanding principal for portion of total amount funded by investors</td>\n",
       "    </tr>\n",
       "    <tr>\n",
       "      <th>38</th>\n",
       "      <td>float64</td>\n",
       "      <td>167.02</td>\n",
       "      <td>total_pymnt</td>\n",
       "      <td>Payments received to date for total amount funded</td>\n",
       "    </tr>\n",
       "    <tr>\n",
       "      <th>39</th>\n",
       "      <td>float64</td>\n",
       "      <td>167.02</td>\n",
       "      <td>total_pymnt_inv</td>\n",
       "      <td>Payments received to date for portion of total amount funded by investors</td>\n",
       "    </tr>\n",
       "    <tr>\n",
       "      <th>40</th>\n",
       "      <td>float64</td>\n",
       "      <td>113.98</td>\n",
       "      <td>total_rec_prncp</td>\n",
       "      <td>Principal received to date</td>\n",
       "    </tr>\n",
       "    <tr>\n",
       "      <th>41</th>\n",
       "      <td>float64</td>\n",
       "      <td>53.04</td>\n",
       "      <td>total_rec_int</td>\n",
       "      <td>Interest received to date</td>\n",
       "    </tr>\n",
       "    <tr>\n",
       "      <th>42</th>\n",
       "      <td>float64</td>\n",
       "      <td>0.0</td>\n",
       "      <td>total_rec_late_fee</td>\n",
       "      <td>Late fees received to date</td>\n",
       "    </tr>\n",
       "    <tr>\n",
       "      <th>43</th>\n",
       "      <td>float64</td>\n",
       "      <td>0.0</td>\n",
       "      <td>recoveries</td>\n",
       "      <td>post charge off gross recovery</td>\n",
       "    </tr>\n",
       "    <tr>\n",
       "      <th>44</th>\n",
       "      <td>float64</td>\n",
       "      <td>0.0</td>\n",
       "      <td>collection_recovery_fee</td>\n",
       "      <td>post charge off collection fee</td>\n",
       "    </tr>\n",
       "    <tr>\n",
       "      <th>45</th>\n",
       "      <td>object</td>\n",
       "      <td>Feb-2019</td>\n",
       "      <td>last_pymnt_d</td>\n",
       "      <td>Last month payment was received</td>\n",
       "    </tr>\n",
       "    <tr>\n",
       "      <th>46</th>\n",
       "      <td>float64</td>\n",
       "      <td>84.92</td>\n",
       "      <td>last_pymnt_amnt</td>\n",
       "      <td>Last total payment amount received</td>\n",
       "    </tr>\n",
       "    <tr>\n",
       "      <th>47</th>\n",
       "      <td>object</td>\n",
       "      <td>Mar-2019</td>\n",
       "      <td>next_pymnt_d</td>\n",
       "      <td>Next scheduled payment date</td>\n",
       "    </tr>\n",
       "    <tr>\n",
       "      <th>48</th>\n",
       "      <td>object</td>\n",
       "      <td>Feb-2019</td>\n",
       "      <td>last_credit_pull_d</td>\n",
       "      <td>The most recent month LC pulled credit for this loan</td>\n",
       "    </tr>\n",
       "    <tr>\n",
       "      <th>49</th>\n",
       "      <td>float64</td>\n",
       "      <td>0.0</td>\n",
       "      <td>collections_12_mths_ex_med</td>\n",
       "      <td>Number of collections in 12 months excluding medical collections</td>\n",
       "    </tr>\n",
       "  </tbody>\n",
       "</table>\n",
       "</div>"
      ],
      "text/plain": [
       "     dtypes    values               Feature names  \\\n",
       "25  float64       0.0                 delinq_2yrs   \n",
       "26   object  Apr-2001            earliest_cr_line   \n",
       "27  float64       1.0              inq_last_6mths   \n",
       "28  float64       NaN      mths_since_last_delinq   \n",
       "29  float64      45.0      mths_since_last_record   \n",
       "30  float64       9.0                    open_acc   \n",
       "31  float64       1.0                     pub_rec   \n",
       "32    int64      4341                   revol_bal   \n",
       "33  float64      10.3                  revol_util   \n",
       "34  float64      34.0                   total_acc   \n",
       "35   object         w         initial_list_status   \n",
       "36  float64   2386.02                   out_prncp   \n",
       "37  float64   2386.02               out_prncp_inv   \n",
       "38  float64    167.02                 total_pymnt   \n",
       "39  float64    167.02             total_pymnt_inv   \n",
       "40  float64    113.98             total_rec_prncp   \n",
       "41  float64     53.04               total_rec_int   \n",
       "42  float64       0.0          total_rec_late_fee   \n",
       "43  float64       0.0                  recoveries   \n",
       "44  float64       0.0     collection_recovery_fee   \n",
       "45   object  Feb-2019                last_pymnt_d   \n",
       "46  float64     84.92             last_pymnt_amnt   \n",
       "47   object  Mar-2019                next_pymnt_d   \n",
       "48   object  Feb-2019          last_credit_pull_d   \n",
       "49  float64       0.0  collections_12_mths_ex_med   \n",
       "\n",
       "                                                                                                                   Description  \n",
       "25                The number of 30+ days past-due incidences of delinquency in the borrower's credit file for the past 2 years  \n",
       "26                                                           The month the borrower's earliest reported credit line was opened  \n",
       "27                                            The number of inquiries in past 6 months (excluding auto and mortgage inquiries)  \n",
       "28                                                                 The number of months since the borrower's last delinquency.  \n",
       "29                                                                          The number of months since the last public record.  \n",
       "30                                                              The number of open credit lines in the borrower's credit file.  \n",
       "31                                                                                         Number of derogatory public records  \n",
       "32                                                                                              Total credit revolving balance  \n",
       "33  Revolving line utilization rate, or the amount of credit the borrower is using relative to all available revolving credit.  \n",
       "34                                                    The total number of credit lines currently in the borrower's credit file  \n",
       "35                                                          The initial listing status of the loan. Possible values are – W, F  \n",
       "36                                                                     Remaining outstanding principal for total amount funded  \n",
       "37                                             Remaining outstanding principal for portion of total amount funded by investors  \n",
       "38                                                                           Payments received to date for total amount funded  \n",
       "39                                                   Payments received to date for portion of total amount funded by investors  \n",
       "40                                                                                                  Principal received to date  \n",
       "41                                                                                                   Interest received to date  \n",
       "42                                                                                                  Late fees received to date  \n",
       "43                                                                                              post charge off gross recovery  \n",
       "44                                                                                              post charge off collection fee  \n",
       "45                                                                                             Last month payment was received  \n",
       "46                                                                                          Last total payment amount received  \n",
       "47                                                                                                 Next scheduled payment date  \n",
       "48                                                                        The most recent month LC pulled credit for this loan  \n",
       "49                                                            Number of collections in 12 months excluding medical collections  "
      ]
     },
     "execution_count": 17,
     "metadata": {},
     "output_type": "execute_result"
    }
   ],
   "source": [
    "details[25:50]"
   ]
  },
  {
   "cell_type": "code",
   "execution_count": 18,
   "id": "dce3c3e4",
   "metadata": {},
   "outputs": [
    {
     "data": {
      "text/html": [
       "<div>\n",
       "<style scoped>\n",
       "    .dataframe tbody tr th:only-of-type {\n",
       "        vertical-align: middle;\n",
       "    }\n",
       "\n",
       "    .dataframe tbody tr th {\n",
       "        vertical-align: top;\n",
       "    }\n",
       "\n",
       "    .dataframe thead th {\n",
       "        text-align: right;\n",
       "    }\n",
       "</style>\n",
       "<table border=\"1\" class=\"dataframe\">\n",
       "  <thead>\n",
       "    <tr style=\"text-align: right;\">\n",
       "      <th></th>\n",
       "      <th>dtypes</th>\n",
       "      <th>values</th>\n",
       "      <th>Feature names</th>\n",
       "      <th>Description</th>\n",
       "    </tr>\n",
       "  </thead>\n",
       "  <tbody>\n",
       "    <tr>\n",
       "      <th>50</th>\n",
       "      <td>float64</td>\n",
       "      <td>NaN</td>\n",
       "      <td>mths_since_last_major_derog</td>\n",
       "      <td>Months since most recent 90-day or worse rating</td>\n",
       "    </tr>\n",
       "    <tr>\n",
       "      <th>51</th>\n",
       "      <td>int64</td>\n",
       "      <td>1</td>\n",
       "      <td>policy_code</td>\n",
       "      <td>publicly available policy_code=1\\nnew products not publicly available policy_code=2</td>\n",
       "    </tr>\n",
       "    <tr>\n",
       "      <th>52</th>\n",
       "      <td>object</td>\n",
       "      <td>Individual</td>\n",
       "      <td>application_type</td>\n",
       "      <td>Indicates whether the loan is an individual application or a joint application with two co-borrowers</td>\n",
       "    </tr>\n",
       "    <tr>\n",
       "      <th>53</th>\n",
       "      <td>float64</td>\n",
       "      <td>NaN</td>\n",
       "      <td>annual_inc_joint</td>\n",
       "      <td>The combined self-reported annual income provided by the co-borrowers during registration</td>\n",
       "    </tr>\n",
       "    <tr>\n",
       "      <th>54</th>\n",
       "      <td>float64</td>\n",
       "      <td>NaN</td>\n",
       "      <td>dti_joint</td>\n",
       "      <td>A ratio calculated using the co-borrowers' total monthly payments on the total debt obligations, excluding mortgages and the requested LC loan, divided by the co-borrowers' combined self-reported monthly income</td>\n",
       "    </tr>\n",
       "    <tr>\n",
       "      <th>55</th>\n",
       "      <td>float64</td>\n",
       "      <td>0.0</td>\n",
       "      <td>acc_now_delinq</td>\n",
       "      <td>The number of accounts on which the borrower is now delinquent.</td>\n",
       "    </tr>\n",
       "    <tr>\n",
       "      <th>56</th>\n",
       "      <td>float64</td>\n",
       "      <td>0.0</td>\n",
       "      <td>tot_coll_amt</td>\n",
       "      <td>Total collection amounts ever owed</td>\n",
       "    </tr>\n",
       "    <tr>\n",
       "      <th>57</th>\n",
       "      <td>float64</td>\n",
       "      <td>16901.0</td>\n",
       "      <td>tot_cur_bal</td>\n",
       "      <td>Total current balance of all accounts</td>\n",
       "    </tr>\n",
       "    <tr>\n",
       "      <th>58</th>\n",
       "      <td>float64</td>\n",
       "      <td>2.0</td>\n",
       "      <td>open_acc_6m</td>\n",
       "      <td>Number of open trades in last 6 months</td>\n",
       "    </tr>\n",
       "    <tr>\n",
       "      <th>59</th>\n",
       "      <td>float64</td>\n",
       "      <td>2.0</td>\n",
       "      <td>open_act_il</td>\n",
       "      <td>Number of currently active installment trades</td>\n",
       "    </tr>\n",
       "    <tr>\n",
       "      <th>60</th>\n",
       "      <td>float64</td>\n",
       "      <td>1.0</td>\n",
       "      <td>open_il_12m</td>\n",
       "      <td>Number of installment accounts opened in past 12 months</td>\n",
       "    </tr>\n",
       "    <tr>\n",
       "      <th>61</th>\n",
       "      <td>float64</td>\n",
       "      <td>2.0</td>\n",
       "      <td>open_il_24m</td>\n",
       "      <td>Number of installment accounts opened in past 24 months</td>\n",
       "    </tr>\n",
       "    <tr>\n",
       "      <th>62</th>\n",
       "      <td>float64</td>\n",
       "      <td>2.0</td>\n",
       "      <td>mths_since_rcnt_il</td>\n",
       "      <td>Months since most recent installment accounts opened</td>\n",
       "    </tr>\n",
       "    <tr>\n",
       "      <th>63</th>\n",
       "      <td>float64</td>\n",
       "      <td>12560.0</td>\n",
       "      <td>total_bal_il</td>\n",
       "      <td>Total current balance of all installment accounts</td>\n",
       "    </tr>\n",
       "    <tr>\n",
       "      <th>64</th>\n",
       "      <td>float64</td>\n",
       "      <td>69.0</td>\n",
       "      <td>il_util</td>\n",
       "      <td>Ratio of total current balance to high credit/credit limit on all install acct</td>\n",
       "    </tr>\n",
       "    <tr>\n",
       "      <th>65</th>\n",
       "      <td>float64</td>\n",
       "      <td>2.0</td>\n",
       "      <td>open_rv_12m</td>\n",
       "      <td>Number of revolving trades opened in past 12 months</td>\n",
       "    </tr>\n",
       "    <tr>\n",
       "      <th>66</th>\n",
       "      <td>float64</td>\n",
       "      <td>7.0</td>\n",
       "      <td>open_rv_24m</td>\n",
       "      <td>Number of revolving trades opened in past 24 months</td>\n",
       "    </tr>\n",
       "    <tr>\n",
       "      <th>67</th>\n",
       "      <td>float64</td>\n",
       "      <td>2137.0</td>\n",
       "      <td>max_bal_bc</td>\n",
       "      <td>Maximum current balance owed on all revolving accounts</td>\n",
       "    </tr>\n",
       "    <tr>\n",
       "      <th>68</th>\n",
       "      <td>float64</td>\n",
       "      <td>28.0</td>\n",
       "      <td>all_util</td>\n",
       "      <td>Balance to credit limit on all trades</td>\n",
       "    </tr>\n",
       "    <tr>\n",
       "      <th>69</th>\n",
       "      <td>float64</td>\n",
       "      <td>1.0</td>\n",
       "      <td>inq_fi</td>\n",
       "      <td>Number of personal finance inquiries</td>\n",
       "    </tr>\n",
       "    <tr>\n",
       "      <th>70</th>\n",
       "      <td>float64</td>\n",
       "      <td>11.0</td>\n",
       "      <td>total_cu_tl</td>\n",
       "      <td>Number of finance trades</td>\n",
       "    </tr>\n",
       "    <tr>\n",
       "      <th>71</th>\n",
       "      <td>float64</td>\n",
       "      <td>2.0</td>\n",
       "      <td>inq_last_12m</td>\n",
       "      <td>Number of credit inquiries in past 12 months</td>\n",
       "    </tr>\n",
       "    <tr>\n",
       "      <th>72</th>\n",
       "      <td>float64</td>\n",
       "      <td>9.0</td>\n",
       "      <td>acc_open_past_24mths</td>\n",
       "      <td>Number of trades opened in past 24 months.</td>\n",
       "    </tr>\n",
       "    <tr>\n",
       "      <th>73</th>\n",
       "      <td>float64</td>\n",
       "      <td>1878.0</td>\n",
       "      <td>avg_cur_bal</td>\n",
       "      <td>Average current balance of all accounts</td>\n",
       "    </tr>\n",
       "    <tr>\n",
       "      <th>74</th>\n",
       "      <td>float64</td>\n",
       "      <td>34360.0</td>\n",
       "      <td>bc_open_to_buy</td>\n",
       "      <td>Total open to buy on revolving bankcards.</td>\n",
       "    </tr>\n",
       "  </tbody>\n",
       "</table>\n",
       "</div>"
      ],
      "text/plain": [
       "     dtypes      values                Feature names  \\\n",
       "50  float64         NaN  mths_since_last_major_derog   \n",
       "51    int64           1                  policy_code   \n",
       "52   object  Individual             application_type   \n",
       "53  float64         NaN             annual_inc_joint   \n",
       "54  float64         NaN                    dti_joint   \n",
       "55  float64         0.0               acc_now_delinq   \n",
       "56  float64         0.0                 tot_coll_amt   \n",
       "57  float64     16901.0                  tot_cur_bal   \n",
       "58  float64         2.0                  open_acc_6m   \n",
       "59  float64         2.0                  open_act_il   \n",
       "60  float64         1.0                  open_il_12m   \n",
       "61  float64         2.0                  open_il_24m   \n",
       "62  float64         2.0           mths_since_rcnt_il   \n",
       "63  float64     12560.0                 total_bal_il   \n",
       "64  float64        69.0                      il_util   \n",
       "65  float64         2.0                  open_rv_12m   \n",
       "66  float64         7.0                  open_rv_24m   \n",
       "67  float64      2137.0                   max_bal_bc   \n",
       "68  float64        28.0                     all_util   \n",
       "69  float64         1.0                       inq_fi   \n",
       "70  float64        11.0                  total_cu_tl   \n",
       "71  float64         2.0                 inq_last_12m   \n",
       "72  float64         9.0         acc_open_past_24mths   \n",
       "73  float64      1878.0                  avg_cur_bal   \n",
       "74  float64     34360.0               bc_open_to_buy   \n",
       "\n",
       "                                                                                                                                                                                                           Description  \n",
       "50                                                                                                                                                                     Months since most recent 90-day or worse rating  \n",
       "51                                                                                                                                 publicly available policy_code=1\\nnew products not publicly available policy_code=2  \n",
       "52                                                                                                                Indicates whether the loan is an individual application or a joint application with two co-borrowers  \n",
       "53                                                                                                                           The combined self-reported annual income provided by the co-borrowers during registration  \n",
       "54  A ratio calculated using the co-borrowers' total monthly payments on the total debt obligations, excluding mortgages and the requested LC loan, divided by the co-borrowers' combined self-reported monthly income  \n",
       "55                                                                                                                                                     The number of accounts on which the borrower is now delinquent.  \n",
       "56                                                                                                                                                                                  Total collection amounts ever owed  \n",
       "57                                                                                                                                                                               Total current balance of all accounts  \n",
       "58                                                                                                                                                                              Number of open trades in last 6 months  \n",
       "59                                                                                                                                                                       Number of currently active installment trades  \n",
       "60                                                                                                                                                             Number of installment accounts opened in past 12 months  \n",
       "61                                                                                                                                                             Number of installment accounts opened in past 24 months  \n",
       "62                                                                                                                                                                Months since most recent installment accounts opened  \n",
       "63                                                                                                                                                                   Total current balance of all installment accounts  \n",
       "64                                                                                                                                      Ratio of total current balance to high credit/credit limit on all install acct  \n",
       "65                                                                                                                                                                 Number of revolving trades opened in past 12 months  \n",
       "66                                                                                                                                                                 Number of revolving trades opened in past 24 months  \n",
       "67                                                                                                                                                              Maximum current balance owed on all revolving accounts  \n",
       "68                                                                                                                                                                               Balance to credit limit on all trades  \n",
       "69                                                                                                                                                                                Number of personal finance inquiries  \n",
       "70                                                                                                                                                                                            Number of finance trades  \n",
       "71                                                                                                                                                                        Number of credit inquiries in past 12 months  \n",
       "72                                                                                                                                                                          Number of trades opened in past 24 months.  \n",
       "73                                                                                                                                                                             Average current balance of all accounts  \n",
       "74                                                                                                                                                                           Total open to buy on revolving bankcards.  "
      ]
     },
     "execution_count": 18,
     "metadata": {},
     "output_type": "execute_result"
    }
   ],
   "source": [
    "details[50:75]"
   ]
  },
  {
   "cell_type": "code",
   "execution_count": 19,
   "id": "5b550e01",
   "metadata": {},
   "outputs": [
    {
     "data": {
      "text/html": [
       "<div>\n",
       "<style scoped>\n",
       "    .dataframe tbody tr th:only-of-type {\n",
       "        vertical-align: middle;\n",
       "    }\n",
       "\n",
       "    .dataframe tbody tr th {\n",
       "        vertical-align: top;\n",
       "    }\n",
       "\n",
       "    .dataframe thead th {\n",
       "        text-align: right;\n",
       "    }\n",
       "</style>\n",
       "<table border=\"1\" class=\"dataframe\">\n",
       "  <thead>\n",
       "    <tr style=\"text-align: right;\">\n",
       "      <th></th>\n",
       "      <th>dtypes</th>\n",
       "      <th>values</th>\n",
       "      <th>Feature names</th>\n",
       "      <th>Description</th>\n",
       "    </tr>\n",
       "  </thead>\n",
       "  <tbody>\n",
       "    <tr>\n",
       "      <th>75</th>\n",
       "      <td>float64</td>\n",
       "      <td>5.9</td>\n",
       "      <td>bc_util</td>\n",
       "      <td>Ratio of total current balance to high credit/credit limit for all bankcard accounts.</td>\n",
       "    </tr>\n",
       "    <tr>\n",
       "      <th>76</th>\n",
       "      <td>float64</td>\n",
       "      <td>0.0</td>\n",
       "      <td>chargeoff_within_12_mths</td>\n",
       "      <td>Number of charge-offs within 12 months</td>\n",
       "    </tr>\n",
       "    <tr>\n",
       "      <th>77</th>\n",
       "      <td>float64</td>\n",
       "      <td>0.0</td>\n",
       "      <td>delinq_amnt</td>\n",
       "      <td>The past-due amount owed for the accounts on which the borrower is now delinquent.</td>\n",
       "    </tr>\n",
       "    <tr>\n",
       "      <th>78</th>\n",
       "      <td>float64</td>\n",
       "      <td>140.0</td>\n",
       "      <td>mo_sin_old_il_acct</td>\n",
       "      <td>Months since oldest bank installment account opened</td>\n",
       "    </tr>\n",
       "    <tr>\n",
       "      <th>79</th>\n",
       "      <td>float64</td>\n",
       "      <td>212.0</td>\n",
       "      <td>mo_sin_old_rev_tl_op</td>\n",
       "      <td>Months since oldest revolving account opened</td>\n",
       "    </tr>\n",
       "    <tr>\n",
       "      <th>80</th>\n",
       "      <td>float64</td>\n",
       "      <td>1.0</td>\n",
       "      <td>mo_sin_rcnt_rev_tl_op</td>\n",
       "      <td>Months since most recent revolving account opened</td>\n",
       "    </tr>\n",
       "    <tr>\n",
       "      <th>81</th>\n",
       "      <td>float64</td>\n",
       "      <td>1.0</td>\n",
       "      <td>mo_sin_rcnt_tl</td>\n",
       "      <td>Months since most recent account opened</td>\n",
       "    </tr>\n",
       "    <tr>\n",
       "      <th>82</th>\n",
       "      <td>float64</td>\n",
       "      <td>0.0</td>\n",
       "      <td>mort_acc</td>\n",
       "      <td>Number of mortgage accounts.</td>\n",
       "    </tr>\n",
       "    <tr>\n",
       "      <th>83</th>\n",
       "      <td>float64</td>\n",
       "      <td>1.0</td>\n",
       "      <td>mths_since_recent_bc</td>\n",
       "      <td>Months since most recent bankcard account opened.</td>\n",
       "    </tr>\n",
       "    <tr>\n",
       "      <th>84</th>\n",
       "      <td>float64</td>\n",
       "      <td>NaN</td>\n",
       "      <td>mths_since_recent_bc_dlq</td>\n",
       "      <td>Months since most recent bankcard delinquency</td>\n",
       "    </tr>\n",
       "    <tr>\n",
       "      <th>85</th>\n",
       "      <td>float64</td>\n",
       "      <td>2.0</td>\n",
       "      <td>mths_since_recent_inq</td>\n",
       "      <td>Months since most recent inquiry.</td>\n",
       "    </tr>\n",
       "    <tr>\n",
       "      <th>86</th>\n",
       "      <td>float64</td>\n",
       "      <td>NaN</td>\n",
       "      <td>mths_since_recent_revol_delinq</td>\n",
       "      <td>Months since most recent revolving delinquency.</td>\n",
       "    </tr>\n",
       "    <tr>\n",
       "      <th>87</th>\n",
       "      <td>float64</td>\n",
       "      <td>0.0</td>\n",
       "      <td>num_accts_ever_120_pd</td>\n",
       "      <td>Number of accounts ever 120 or more days past due</td>\n",
       "    </tr>\n",
       "    <tr>\n",
       "      <th>88</th>\n",
       "      <td>float64</td>\n",
       "      <td>2.0</td>\n",
       "      <td>num_actv_bc_tl</td>\n",
       "      <td>Number of currently active bankcard accounts</td>\n",
       "    </tr>\n",
       "    <tr>\n",
       "      <th>89</th>\n",
       "      <td>float64</td>\n",
       "      <td>5.0</td>\n",
       "      <td>num_actv_rev_tl</td>\n",
       "      <td>Number of currently active revolving trades</td>\n",
       "    </tr>\n",
       "    <tr>\n",
       "      <th>90</th>\n",
       "      <td>float64</td>\n",
       "      <td>3.0</td>\n",
       "      <td>num_bc_sats</td>\n",
       "      <td>Number of satisfactory bankcard accounts</td>\n",
       "    </tr>\n",
       "    <tr>\n",
       "      <th>91</th>\n",
       "      <td>float64</td>\n",
       "      <td>3.0</td>\n",
       "      <td>num_bc_tl</td>\n",
       "      <td>Number of bankcard accounts</td>\n",
       "    </tr>\n",
       "    <tr>\n",
       "      <th>92</th>\n",
       "      <td>float64</td>\n",
       "      <td>16.0</td>\n",
       "      <td>num_il_tl</td>\n",
       "      <td>Number of installment accounts</td>\n",
       "    </tr>\n",
       "    <tr>\n",
       "      <th>93</th>\n",
       "      <td>float64</td>\n",
       "      <td>7.0</td>\n",
       "      <td>num_op_rev_tl</td>\n",
       "      <td>Number of open revolving accounts</td>\n",
       "    </tr>\n",
       "    <tr>\n",
       "      <th>94</th>\n",
       "      <td>float64</td>\n",
       "      <td>18.0</td>\n",
       "      <td>num_rev_accts</td>\n",
       "      <td>Number of revolving accounts</td>\n",
       "    </tr>\n",
       "    <tr>\n",
       "      <th>95</th>\n",
       "      <td>float64</td>\n",
       "      <td>5.0</td>\n",
       "      <td>num_rev_tl_bal_gt_0</td>\n",
       "      <td>Number of revolving trades with balance &gt;0</td>\n",
       "    </tr>\n",
       "    <tr>\n",
       "      <th>96</th>\n",
       "      <td>float64</td>\n",
       "      <td>9.0</td>\n",
       "      <td>num_sats</td>\n",
       "      <td>Number of satisfactory accounts</td>\n",
       "    </tr>\n",
       "    <tr>\n",
       "      <th>97</th>\n",
       "      <td>float64</td>\n",
       "      <td>0.0</td>\n",
       "      <td>num_tl_120dpd_2m</td>\n",
       "      <td>Number of accounts currently 120 days past due (updated in past 2 months)</td>\n",
       "    </tr>\n",
       "    <tr>\n",
       "      <th>98</th>\n",
       "      <td>float64</td>\n",
       "      <td>0.0</td>\n",
       "      <td>num_tl_30dpd</td>\n",
       "      <td>Number of accounts currently 30 days past due (updated in past 2 months)</td>\n",
       "    </tr>\n",
       "    <tr>\n",
       "      <th>99</th>\n",
       "      <td>float64</td>\n",
       "      <td>0.0</td>\n",
       "      <td>num_tl_90g_dpd_24m</td>\n",
       "      <td>Number of accounts 90 or more days past due in last 24 months</td>\n",
       "    </tr>\n",
       "  </tbody>\n",
       "</table>\n",
       "</div>"
      ],
      "text/plain": [
       "     dtypes values                   Feature names  \\\n",
       "75  float64    5.9                         bc_util   \n",
       "76  float64    0.0        chargeoff_within_12_mths   \n",
       "77  float64    0.0                     delinq_amnt   \n",
       "78  float64  140.0              mo_sin_old_il_acct   \n",
       "79  float64  212.0            mo_sin_old_rev_tl_op   \n",
       "80  float64    1.0           mo_sin_rcnt_rev_tl_op   \n",
       "81  float64    1.0                  mo_sin_rcnt_tl   \n",
       "82  float64    0.0                        mort_acc   \n",
       "83  float64    1.0            mths_since_recent_bc   \n",
       "84  float64    NaN        mths_since_recent_bc_dlq   \n",
       "85  float64    2.0           mths_since_recent_inq   \n",
       "86  float64    NaN  mths_since_recent_revol_delinq   \n",
       "87  float64    0.0           num_accts_ever_120_pd   \n",
       "88  float64    2.0                  num_actv_bc_tl   \n",
       "89  float64    5.0                 num_actv_rev_tl   \n",
       "90  float64    3.0                     num_bc_sats   \n",
       "91  float64    3.0                       num_bc_tl   \n",
       "92  float64   16.0                       num_il_tl   \n",
       "93  float64    7.0                   num_op_rev_tl   \n",
       "94  float64   18.0                   num_rev_accts   \n",
       "95  float64    5.0             num_rev_tl_bal_gt_0   \n",
       "96  float64    9.0                        num_sats   \n",
       "97  float64    0.0                num_tl_120dpd_2m   \n",
       "98  float64    0.0                    num_tl_30dpd   \n",
       "99  float64    0.0              num_tl_90g_dpd_24m   \n",
       "\n",
       "                                                                              Description  \n",
       "75  Ratio of total current balance to high credit/credit limit for all bankcard accounts.  \n",
       "76                                                 Number of charge-offs within 12 months  \n",
       "77     The past-due amount owed for the accounts on which the borrower is now delinquent.  \n",
       "78                                    Months since oldest bank installment account opened  \n",
       "79                                           Months since oldest revolving account opened  \n",
       "80                                      Months since most recent revolving account opened  \n",
       "81                                                Months since most recent account opened  \n",
       "82                                                           Number of mortgage accounts.  \n",
       "83                                      Months since most recent bankcard account opened.  \n",
       "84                                          Months since most recent bankcard delinquency  \n",
       "85                                                      Months since most recent inquiry.  \n",
       "86                                        Months since most recent revolving delinquency.  \n",
       "87                                      Number of accounts ever 120 or more days past due  \n",
       "88                                           Number of currently active bankcard accounts  \n",
       "89                                            Number of currently active revolving trades  \n",
       "90                                               Number of satisfactory bankcard accounts  \n",
       "91                                                            Number of bankcard accounts  \n",
       "92                                                         Number of installment accounts  \n",
       "93                                                      Number of open revolving accounts  \n",
       "94                                                           Number of revolving accounts  \n",
       "95                                             Number of revolving trades with balance >0  \n",
       "96                                                        Number of satisfactory accounts  \n",
       "97              Number of accounts currently 120 days past due (updated in past 2 months)  \n",
       "98               Number of accounts currently 30 days past due (updated in past 2 months)  \n",
       "99                          Number of accounts 90 or more days past due in last 24 months  "
      ]
     },
     "execution_count": 19,
     "metadata": {},
     "output_type": "execute_result"
    }
   ],
   "source": [
    "details[75:100]"
   ]
  },
  {
   "cell_type": "code",
   "execution_count": 20,
   "id": "38dc7d4d",
   "metadata": {},
   "outputs": [
    {
     "data": {
      "text/html": [
       "<div>\n",
       "<style scoped>\n",
       "    .dataframe tbody tr th:only-of-type {\n",
       "        vertical-align: middle;\n",
       "    }\n",
       "\n",
       "    .dataframe tbody tr th {\n",
       "        vertical-align: top;\n",
       "    }\n",
       "\n",
       "    .dataframe thead th {\n",
       "        text-align: right;\n",
       "    }\n",
       "</style>\n",
       "<table border=\"1\" class=\"dataframe\">\n",
       "  <thead>\n",
       "    <tr style=\"text-align: right;\">\n",
       "      <th></th>\n",
       "      <th>dtypes</th>\n",
       "      <th>values</th>\n",
       "      <th>Feature names</th>\n",
       "      <th>Description</th>\n",
       "    </tr>\n",
       "  </thead>\n",
       "  <tbody>\n",
       "    <tr>\n",
       "      <th>100</th>\n",
       "      <td>float64</td>\n",
       "      <td>3.0</td>\n",
       "      <td>num_tl_op_past_12m</td>\n",
       "      <td>Number of accounts opened in past 12 months</td>\n",
       "    </tr>\n",
       "    <tr>\n",
       "      <th>101</th>\n",
       "      <td>float64</td>\n",
       "      <td>100.0</td>\n",
       "      <td>pct_tl_nvr_dlq</td>\n",
       "      <td>Percent of trades never delinquent</td>\n",
       "    </tr>\n",
       "    <tr>\n",
       "      <th>102</th>\n",
       "      <td>float64</td>\n",
       "      <td>0.0</td>\n",
       "      <td>percent_bc_gt_75</td>\n",
       "      <td>Percentage of all bankcard accounts &gt; 75% of limit.</td>\n",
       "    </tr>\n",
       "    <tr>\n",
       "      <th>103</th>\n",
       "      <td>float64</td>\n",
       "      <td>1.0</td>\n",
       "      <td>pub_rec_bankruptcies</td>\n",
       "      <td>Number of public record bankruptcies</td>\n",
       "    </tr>\n",
       "    <tr>\n",
       "      <th>104</th>\n",
       "      <td>float64</td>\n",
       "      <td>0.0</td>\n",
       "      <td>tax_liens</td>\n",
       "      <td>Number of tax liens</td>\n",
       "    </tr>\n",
       "    <tr>\n",
       "      <th>105</th>\n",
       "      <td>float64</td>\n",
       "      <td>60124.0</td>\n",
       "      <td>tot_hi_cred_lim</td>\n",
       "      <td>Total high credit/credit limit</td>\n",
       "    </tr>\n",
       "    <tr>\n",
       "      <th>106</th>\n",
       "      <td>float64</td>\n",
       "      <td>16901.0</td>\n",
       "      <td>total_bal_ex_mort</td>\n",
       "      <td>Total credit balance excluding mortgage</td>\n",
       "    </tr>\n",
       "    <tr>\n",
       "      <th>107</th>\n",
       "      <td>float64</td>\n",
       "      <td>36500.0</td>\n",
       "      <td>total_bc_limit</td>\n",
       "      <td>Total bankcard high credit/credit limit</td>\n",
       "    </tr>\n",
       "    <tr>\n",
       "      <th>108</th>\n",
       "      <td>float64</td>\n",
       "      <td>18124.0</td>\n",
       "      <td>total_il_high_credit_limit</td>\n",
       "      <td>Total installment high credit/credit limit</td>\n",
       "    </tr>\n",
       "    <tr>\n",
       "      <th>109</th>\n",
       "      <td>float64</td>\n",
       "      <td>NaN</td>\n",
       "      <td>sec_app_open_act_il</td>\n",
       "      <td>Number of currently active installment trades at time of application for the secondary applicant</td>\n",
       "    </tr>\n",
       "    <tr>\n",
       "      <th>110</th>\n",
       "      <td>object</td>\n",
       "      <td>N</td>\n",
       "      <td>hardship_flag</td>\n",
       "      <td>Flags whether or not the borrower is on a hardship plan</td>\n",
       "    </tr>\n",
       "    <tr>\n",
       "      <th>111</th>\n",
       "      <td>object</td>\n",
       "      <td>NaN</td>\n",
       "      <td>hardship_type</td>\n",
       "      <td>Describes the hardship plan offering</td>\n",
       "    </tr>\n",
       "    <tr>\n",
       "      <th>112</th>\n",
       "      <td>object</td>\n",
       "      <td>NaN</td>\n",
       "      <td>hardship_reason</td>\n",
       "      <td>Describes the reason the hardship plan was offered</td>\n",
       "    </tr>\n",
       "    <tr>\n",
       "      <th>113</th>\n",
       "      <td>object</td>\n",
       "      <td>NaN</td>\n",
       "      <td>hardship_status</td>\n",
       "      <td>Describes if the hardship plan is active, pending, canceled, completed, or broken</td>\n",
       "    </tr>\n",
       "    <tr>\n",
       "      <th>114</th>\n",
       "      <td>float64</td>\n",
       "      <td>NaN</td>\n",
       "      <td>deferral_term</td>\n",
       "      <td>Amount of months that the borrower is expected to pay less than the contractual monthly payment amount due to a hardship plan</td>\n",
       "    </tr>\n",
       "    <tr>\n",
       "      <th>115</th>\n",
       "      <td>float64</td>\n",
       "      <td>NaN</td>\n",
       "      <td>hardship_amount</td>\n",
       "      <td>The interest payment that the borrower has committed to make each month while they are on a hardship plan</td>\n",
       "    </tr>\n",
       "    <tr>\n",
       "      <th>116</th>\n",
       "      <td>object</td>\n",
       "      <td>NaN</td>\n",
       "      <td>hardship_start_date</td>\n",
       "      <td>The start date of the hardship plan period</td>\n",
       "    </tr>\n",
       "    <tr>\n",
       "      <th>117</th>\n",
       "      <td>object</td>\n",
       "      <td>NaN</td>\n",
       "      <td>hardship_end_date</td>\n",
       "      <td>The end date of the hardship plan period</td>\n",
       "    </tr>\n",
       "    <tr>\n",
       "      <th>118</th>\n",
       "      <td>object</td>\n",
       "      <td>NaN</td>\n",
       "      <td>payment_plan_start_date</td>\n",
       "      <td>The day the first hardship plan payment is due. For example, if a borrower has a hardship plan period of 3 months, the start date is the start of the three-month period in which the borrower is allowed to make interest-only payments.</td>\n",
       "    </tr>\n",
       "    <tr>\n",
       "      <th>119</th>\n",
       "      <td>float64</td>\n",
       "      <td>NaN</td>\n",
       "      <td>hardship_length</td>\n",
       "      <td>The number of months the borrower will make smaller payments than normally obligated due to a hardship plan</td>\n",
       "    </tr>\n",
       "    <tr>\n",
       "      <th>120</th>\n",
       "      <td>float64</td>\n",
       "      <td>NaN</td>\n",
       "      <td>hardship_dpd</td>\n",
       "      <td>Account days past due as of the hardship plan start date</td>\n",
       "    </tr>\n",
       "    <tr>\n",
       "      <th>121</th>\n",
       "      <td>object</td>\n",
       "      <td>NaN</td>\n",
       "      <td>hardship_loan_status</td>\n",
       "      <td>Loan Status as of the hardship plan start date</td>\n",
       "    </tr>\n",
       "    <tr>\n",
       "      <th>122</th>\n",
       "      <td>float64</td>\n",
       "      <td>NaN</td>\n",
       "      <td>orig_projected_additional_accrued_interest</td>\n",
       "      <td>The original projected additional interest amount that will accrue for the given hardship payment plan as of the Hardship Start Date. This field will be null if the borrower has broken their hardship payment plan.</td>\n",
       "    </tr>\n",
       "    <tr>\n",
       "      <th>123</th>\n",
       "      <td>float64</td>\n",
       "      <td>NaN</td>\n",
       "      <td>hardship_payoff_balance_amount</td>\n",
       "      <td>The payoff balance amount as of the hardship plan start date</td>\n",
       "    </tr>\n",
       "    <tr>\n",
       "      <th>124</th>\n",
       "      <td>float64</td>\n",
       "      <td>NaN</td>\n",
       "      <td>hardship_last_payment_amount</td>\n",
       "      <td>The last payment amount as of the hardship plan start date</td>\n",
       "    </tr>\n",
       "  </tbody>\n",
       "</table>\n",
       "</div>"
      ],
      "text/plain": [
       "      dtypes   values                               Feature names  \\\n",
       "100  float64      3.0                          num_tl_op_past_12m   \n",
       "101  float64    100.0                              pct_tl_nvr_dlq   \n",
       "102  float64      0.0                            percent_bc_gt_75   \n",
       "103  float64      1.0                        pub_rec_bankruptcies   \n",
       "104  float64      0.0                                   tax_liens   \n",
       "105  float64  60124.0                             tot_hi_cred_lim   \n",
       "106  float64  16901.0                           total_bal_ex_mort   \n",
       "107  float64  36500.0                              total_bc_limit   \n",
       "108  float64  18124.0                  total_il_high_credit_limit   \n",
       "109  float64      NaN                         sec_app_open_act_il   \n",
       "110   object        N                               hardship_flag   \n",
       "111   object      NaN                               hardship_type   \n",
       "112   object      NaN                             hardship_reason   \n",
       "113   object      NaN                             hardship_status   \n",
       "114  float64      NaN                               deferral_term   \n",
       "115  float64      NaN                             hardship_amount   \n",
       "116   object      NaN                         hardship_start_date   \n",
       "117   object      NaN                           hardship_end_date   \n",
       "118   object      NaN                     payment_plan_start_date   \n",
       "119  float64      NaN                             hardship_length   \n",
       "120  float64      NaN                                hardship_dpd   \n",
       "121   object      NaN                        hardship_loan_status   \n",
       "122  float64      NaN  orig_projected_additional_accrued_interest   \n",
       "123  float64      NaN              hardship_payoff_balance_amount   \n",
       "124  float64      NaN                hardship_last_payment_amount   \n",
       "\n",
       "                                                                                                                                                                                                                                   Description  \n",
       "100                                                                                                                                                                                                Number of accounts opened in past 12 months  \n",
       "101                                                                                                                                                                                                         Percent of trades never delinquent  \n",
       "102                                                                                                                                                                                        Percentage of all bankcard accounts > 75% of limit.  \n",
       "103                                                                                                                                                                                                       Number of public record bankruptcies  \n",
       "104                                                                                                                                                                                                                        Number of tax liens  \n",
       "105                                                                                                                                                                                                             Total high credit/credit limit  \n",
       "106                                                                                                                                                                                                    Total credit balance excluding mortgage  \n",
       "107                                                                                                                                                                                                    Total bankcard high credit/credit limit  \n",
       "108                                                                                                                                                                                                 Total installment high credit/credit limit  \n",
       "109                                                                                                                                           Number of currently active installment trades at time of application for the secondary applicant  \n",
       "110                                                                                                                                                                                    Flags whether or not the borrower is on a hardship plan  \n",
       "111                                                                                                                                                                                                       Describes the hardship plan offering  \n",
       "112                                                                                                                                                                                         Describes the reason the hardship plan was offered  \n",
       "113                                                                                                                                                          Describes if the hardship plan is active, pending, canceled, completed, or broken  \n",
       "114                                                                                                              Amount of months that the borrower is expected to pay less than the contractual monthly payment amount due to a hardship plan  \n",
       "115                                                                                                                                  The interest payment that the borrower has committed to make each month while they are on a hardship plan  \n",
       "116                                                                                                                                                                                                 The start date of the hardship plan period  \n",
       "117                                                                                                                                                                                                   The end date of the hardship plan period  \n",
       "118  The day the first hardship plan payment is due. For example, if a borrower has a hardship plan period of 3 months, the start date is the start of the three-month period in which the borrower is allowed to make interest-only payments.  \n",
       "119                                                                                                                                The number of months the borrower will make smaller payments than normally obligated due to a hardship plan  \n",
       "120                                                                                                                                                                                   Account days past due as of the hardship plan start date  \n",
       "121                                                                                                                                                                                             Loan Status as of the hardship plan start date  \n",
       "122                      The original projected additional interest amount that will accrue for the given hardship payment plan as of the Hardship Start Date. This field will be null if the borrower has broken their hardship payment plan.  \n",
       "123                                                                                                                                                                               The payoff balance amount as of the hardship plan start date  \n",
       "124                                                                                                                                                                                 The last payment amount as of the hardship plan start date  "
      ]
     },
     "execution_count": 20,
     "metadata": {},
     "output_type": "execute_result"
    }
   ],
   "source": [
    "details[100:125]"
   ]
  },
  {
   "cell_type": "code",
   "execution_count": 21,
   "id": "e4de4f10",
   "metadata": {},
   "outputs": [
    {
     "data": {
      "text/html": [
       "<div>\n",
       "<style scoped>\n",
       "    .dataframe tbody tr th:only-of-type {\n",
       "        vertical-align: middle;\n",
       "    }\n",
       "\n",
       "    .dataframe tbody tr th {\n",
       "        vertical-align: top;\n",
       "    }\n",
       "\n",
       "    .dataframe thead th {\n",
       "        text-align: right;\n",
       "    }\n",
       "</style>\n",
       "<table border=\"1\" class=\"dataframe\">\n",
       "  <thead>\n",
       "    <tr style=\"text-align: right;\">\n",
       "      <th></th>\n",
       "      <th>dtypes</th>\n",
       "      <th>values</th>\n",
       "      <th>Feature names</th>\n",
       "      <th>Description</th>\n",
       "    </tr>\n",
       "  </thead>\n",
       "  <tbody>\n",
       "    <tr>\n",
       "      <th>100</th>\n",
       "      <td>float64</td>\n",
       "      <td>3.0</td>\n",
       "      <td>num_tl_op_past_12m</td>\n",
       "      <td>Number of accounts opened in past 12 months</td>\n",
       "    </tr>\n",
       "    <tr>\n",
       "      <th>101</th>\n",
       "      <td>float64</td>\n",
       "      <td>100.0</td>\n",
       "      <td>pct_tl_nvr_dlq</td>\n",
       "      <td>Percent of trades never delinquent</td>\n",
       "    </tr>\n",
       "    <tr>\n",
       "      <th>102</th>\n",
       "      <td>float64</td>\n",
       "      <td>0.0</td>\n",
       "      <td>percent_bc_gt_75</td>\n",
       "      <td>Percentage of all bankcard accounts &gt; 75% of limit.</td>\n",
       "    </tr>\n",
       "    <tr>\n",
       "      <th>103</th>\n",
       "      <td>float64</td>\n",
       "      <td>1.0</td>\n",
       "      <td>pub_rec_bankruptcies</td>\n",
       "      <td>Number of public record bankruptcies</td>\n",
       "    </tr>\n",
       "    <tr>\n",
       "      <th>104</th>\n",
       "      <td>float64</td>\n",
       "      <td>0.0</td>\n",
       "      <td>tax_liens</td>\n",
       "      <td>Number of tax liens</td>\n",
       "    </tr>\n",
       "    <tr>\n",
       "      <th>105</th>\n",
       "      <td>float64</td>\n",
       "      <td>60124.0</td>\n",
       "      <td>tot_hi_cred_lim</td>\n",
       "      <td>Total high credit/credit limit</td>\n",
       "    </tr>\n",
       "    <tr>\n",
       "      <th>106</th>\n",
       "      <td>float64</td>\n",
       "      <td>16901.0</td>\n",
       "      <td>total_bal_ex_mort</td>\n",
       "      <td>Total credit balance excluding mortgage</td>\n",
       "    </tr>\n",
       "    <tr>\n",
       "      <th>107</th>\n",
       "      <td>float64</td>\n",
       "      <td>36500.0</td>\n",
       "      <td>total_bc_limit</td>\n",
       "      <td>Total bankcard high credit/credit limit</td>\n",
       "    </tr>\n",
       "    <tr>\n",
       "      <th>108</th>\n",
       "      <td>float64</td>\n",
       "      <td>18124.0</td>\n",
       "      <td>total_il_high_credit_limit</td>\n",
       "      <td>Total installment high credit/credit limit</td>\n",
       "    </tr>\n",
       "    <tr>\n",
       "      <th>109</th>\n",
       "      <td>float64</td>\n",
       "      <td>NaN</td>\n",
       "      <td>sec_app_open_act_il</td>\n",
       "      <td>Number of currently active installment trades at time of application for the secondary applicant</td>\n",
       "    </tr>\n",
       "    <tr>\n",
       "      <th>110</th>\n",
       "      <td>object</td>\n",
       "      <td>N</td>\n",
       "      <td>hardship_flag</td>\n",
       "      <td>Flags whether or not the borrower is on a hardship plan</td>\n",
       "    </tr>\n",
       "    <tr>\n",
       "      <th>111</th>\n",
       "      <td>object</td>\n",
       "      <td>NaN</td>\n",
       "      <td>hardship_type</td>\n",
       "      <td>Describes the hardship plan offering</td>\n",
       "    </tr>\n",
       "    <tr>\n",
       "      <th>112</th>\n",
       "      <td>object</td>\n",
       "      <td>NaN</td>\n",
       "      <td>hardship_reason</td>\n",
       "      <td>Describes the reason the hardship plan was offered</td>\n",
       "    </tr>\n",
       "    <tr>\n",
       "      <th>113</th>\n",
       "      <td>object</td>\n",
       "      <td>NaN</td>\n",
       "      <td>hardship_status</td>\n",
       "      <td>Describes if the hardship plan is active, pending, canceled, completed, or broken</td>\n",
       "    </tr>\n",
       "    <tr>\n",
       "      <th>114</th>\n",
       "      <td>float64</td>\n",
       "      <td>NaN</td>\n",
       "      <td>deferral_term</td>\n",
       "      <td>Amount of months that the borrower is expected to pay less than the contractual monthly payment amount due to a hardship plan</td>\n",
       "    </tr>\n",
       "    <tr>\n",
       "      <th>115</th>\n",
       "      <td>float64</td>\n",
       "      <td>NaN</td>\n",
       "      <td>hardship_amount</td>\n",
       "      <td>The interest payment that the borrower has committed to make each month while they are on a hardship plan</td>\n",
       "    </tr>\n",
       "    <tr>\n",
       "      <th>116</th>\n",
       "      <td>object</td>\n",
       "      <td>NaN</td>\n",
       "      <td>hardship_start_date</td>\n",
       "      <td>The start date of the hardship plan period</td>\n",
       "    </tr>\n",
       "    <tr>\n",
       "      <th>117</th>\n",
       "      <td>object</td>\n",
       "      <td>NaN</td>\n",
       "      <td>hardship_end_date</td>\n",
       "      <td>The end date of the hardship plan period</td>\n",
       "    </tr>\n",
       "    <tr>\n",
       "      <th>118</th>\n",
       "      <td>object</td>\n",
       "      <td>NaN</td>\n",
       "      <td>payment_plan_start_date</td>\n",
       "      <td>The day the first hardship plan payment is due. For example, if a borrower has a hardship plan period of 3 months, the start date is the start of the three-month period in which the borrower is allowed to make interest-only payments.</td>\n",
       "    </tr>\n",
       "    <tr>\n",
       "      <th>119</th>\n",
       "      <td>float64</td>\n",
       "      <td>NaN</td>\n",
       "      <td>hardship_length</td>\n",
       "      <td>The number of months the borrower will make smaller payments than normally obligated due to a hardship plan</td>\n",
       "    </tr>\n",
       "    <tr>\n",
       "      <th>120</th>\n",
       "      <td>float64</td>\n",
       "      <td>NaN</td>\n",
       "      <td>hardship_dpd</td>\n",
       "      <td>Account days past due as of the hardship plan start date</td>\n",
       "    </tr>\n",
       "    <tr>\n",
       "      <th>121</th>\n",
       "      <td>object</td>\n",
       "      <td>NaN</td>\n",
       "      <td>hardship_loan_status</td>\n",
       "      <td>Loan Status as of the hardship plan start date</td>\n",
       "    </tr>\n",
       "    <tr>\n",
       "      <th>122</th>\n",
       "      <td>float64</td>\n",
       "      <td>NaN</td>\n",
       "      <td>orig_projected_additional_accrued_interest</td>\n",
       "      <td>The original projected additional interest amount that will accrue for the given hardship payment plan as of the Hardship Start Date. This field will be null if the borrower has broken their hardship payment plan.</td>\n",
       "    </tr>\n",
       "    <tr>\n",
       "      <th>123</th>\n",
       "      <td>float64</td>\n",
       "      <td>NaN</td>\n",
       "      <td>hardship_payoff_balance_amount</td>\n",
       "      <td>The payoff balance amount as of the hardship plan start date</td>\n",
       "    </tr>\n",
       "    <tr>\n",
       "      <th>124</th>\n",
       "      <td>float64</td>\n",
       "      <td>NaN</td>\n",
       "      <td>hardship_last_payment_amount</td>\n",
       "      <td>The last payment amount as of the hardship plan start date</td>\n",
       "    </tr>\n",
       "  </tbody>\n",
       "</table>\n",
       "</div>"
      ],
      "text/plain": [
       "      dtypes   values                               Feature names  \\\n",
       "100  float64      3.0                          num_tl_op_past_12m   \n",
       "101  float64    100.0                              pct_tl_nvr_dlq   \n",
       "102  float64      0.0                            percent_bc_gt_75   \n",
       "103  float64      1.0                        pub_rec_bankruptcies   \n",
       "104  float64      0.0                                   tax_liens   \n",
       "105  float64  60124.0                             tot_hi_cred_lim   \n",
       "106  float64  16901.0                           total_bal_ex_mort   \n",
       "107  float64  36500.0                              total_bc_limit   \n",
       "108  float64  18124.0                  total_il_high_credit_limit   \n",
       "109  float64      NaN                         sec_app_open_act_il   \n",
       "110   object        N                               hardship_flag   \n",
       "111   object      NaN                               hardship_type   \n",
       "112   object      NaN                             hardship_reason   \n",
       "113   object      NaN                             hardship_status   \n",
       "114  float64      NaN                               deferral_term   \n",
       "115  float64      NaN                             hardship_amount   \n",
       "116   object      NaN                         hardship_start_date   \n",
       "117   object      NaN                           hardship_end_date   \n",
       "118   object      NaN                     payment_plan_start_date   \n",
       "119  float64      NaN                             hardship_length   \n",
       "120  float64      NaN                                hardship_dpd   \n",
       "121   object      NaN                        hardship_loan_status   \n",
       "122  float64      NaN  orig_projected_additional_accrued_interest   \n",
       "123  float64      NaN              hardship_payoff_balance_amount   \n",
       "124  float64      NaN                hardship_last_payment_amount   \n",
       "\n",
       "                                                                                                                                                                                                                                   Description  \n",
       "100                                                                                                                                                                                                Number of accounts opened in past 12 months  \n",
       "101                                                                                                                                                                                                         Percent of trades never delinquent  \n",
       "102                                                                                                                                                                                        Percentage of all bankcard accounts > 75% of limit.  \n",
       "103                                                                                                                                                                                                       Number of public record bankruptcies  \n",
       "104                                                                                                                                                                                                                        Number of tax liens  \n",
       "105                                                                                                                                                                                                             Total high credit/credit limit  \n",
       "106                                                                                                                                                                                                    Total credit balance excluding mortgage  \n",
       "107                                                                                                                                                                                                    Total bankcard high credit/credit limit  \n",
       "108                                                                                                                                                                                                 Total installment high credit/credit limit  \n",
       "109                                                                                                                                           Number of currently active installment trades at time of application for the secondary applicant  \n",
       "110                                                                                                                                                                                    Flags whether or not the borrower is on a hardship plan  \n",
       "111                                                                                                                                                                                                       Describes the hardship plan offering  \n",
       "112                                                                                                                                                                                         Describes the reason the hardship plan was offered  \n",
       "113                                                                                                                                                          Describes if the hardship plan is active, pending, canceled, completed, or broken  \n",
       "114                                                                                                              Amount of months that the borrower is expected to pay less than the contractual monthly payment amount due to a hardship plan  \n",
       "115                                                                                                                                  The interest payment that the borrower has committed to make each month while they are on a hardship plan  \n",
       "116                                                                                                                                                                                                 The start date of the hardship plan period  \n",
       "117                                                                                                                                                                                                   The end date of the hardship plan period  \n",
       "118  The day the first hardship plan payment is due. For example, if a borrower has a hardship plan period of 3 months, the start date is the start of the three-month period in which the borrower is allowed to make interest-only payments.  \n",
       "119                                                                                                                                The number of months the borrower will make smaller payments than normally obligated due to a hardship plan  \n",
       "120                                                                                                                                                                                   Account days past due as of the hardship plan start date  \n",
       "121                                                                                                                                                                                             Loan Status as of the hardship plan start date  \n",
       "122                      The original projected additional interest amount that will accrue for the given hardship payment plan as of the Hardship Start Date. This field will be null if the borrower has broken their hardship payment plan.  \n",
       "123                                                                                                                                                                               The payoff balance amount as of the hardship plan start date  \n",
       "124                                                                                                                                                                                 The last payment amount as of the hardship plan start date  "
      ]
     },
     "execution_count": 21,
     "metadata": {},
     "output_type": "execute_result"
    }
   ],
   "source": [
    "details[100:125]"
   ]
  },
  {
   "cell_type": "markdown",
   "id": "e28c6307",
   "metadata": {},
   "source": [
    "### Selecting the target Column"
   ]
  },
  {
   "cell_type": "markdown",
   "id": "a5a2d24a",
   "metadata": {},
   "source": [
    "Studing the above data we can conclude :\n",
    "\n",
    "There are a few variables that are good targets for Loan predictive modelling:\n",
    "\n",
    "1. Application outcome (accepted or rejected)\n",
    "2. Interest rate (int_rate)\n",
    "3. Grade of the loan (grade)\n",
    "4. The loan status, if paid or defaulted (loan_status)\n",
    "\n",
    "Picking Loan Status because it can give a overall Idea on how the borrower's nature is:\n",
    "1. If he has defaulted or delayed then it tells us that loan should'nt be given out to such people.\n",
    "2. If he pays it back, it means he is trust worthy and indirectly it increases his credit score, Capable of getting a loan."
   ]
  },
  {
   "cell_type": "markdown",
   "id": "b211e71d",
   "metadata": {},
   "source": [
    "## Visualization"
   ]
  },
  {
   "cell_type": "markdown",
   "id": "d5e29412",
   "metadata": {},
   "source": [
    "### Loan Payment Term"
   ]
  },
  {
   "cell_type": "code",
   "execution_count": 22,
   "id": "6efb6dd9",
   "metadata": {},
   "outputs": [
    {
     "data": {
      "image/png": "[encoded data removed]",
      "text/plain": [
       "<Figure size 576x576 with 1 Axes>"
      ]
     },
     "metadata": {
      "needs_background": "light"
     },
     "output_type": "display_data"
    }
   ],
   "source": [
    "plt.figure(figsize=(8,8))\n",
    "sns.countplot(x=data[\"term\"],palette=colors[3:],order= data['term'].value_counts().index[::-1],saturation=1)\n",
    "plt.title('LOAN PAYMENT TERM')\n",
    "plt.ylabel('COUNT')\n",
    "plt.xlabel('TERM')\n",
    "plt.show()"
   ]
  },
  {
   "cell_type": "markdown",
   "id": "709c0b42",
   "metadata": {},
   "source": [
    "1. Most People prefer Short Loan Payment Duration"
   ]
  },
  {
   "cell_type": "markdown",
   "id": "9e3d1718",
   "metadata": {},
   "source": [
    "### Job Duration of Borrower"
   ]
  },
  {
   "cell_type": "code",
   "execution_count": 23,
   "id": "97ee589c",
   "metadata": {},
   "outputs": [
    {
     "data": {
      "image/png": "[encoded data removed]",
      "text/plain": [
       "<Figure size 720x720 with 1 Axes>"
      ]
     },
     "metadata": {
      "needs_background": "light"
     },
     "output_type": "display_data"
    }
   ],
   "source": [
    "plt.figure(figsize=(10,10))\n",
    "sns.countplot(y=data['emp_length'],color=colors[4],order=data['emp_length'].value_counts().index[::],saturation=1)\n",
    "plt.title('JOB DURATION OF BORROWER')\n",
    "plt.xlabel('COUNT')\n",
    "plt.ylabel('JOB DURATION')\n",
    "plt.show()"
   ]
  },
  {
   "cell_type": "markdown",
   "id": "32f0eae9",
   "metadata": {},
   "source": [
    "1. People who Have been working for a decade are more likely to get a loan"
   ]
  },
  {
   "cell_type": "markdown",
   "id": "1e28fce3",
   "metadata": {},
   "source": [
    "### Loan Status vs Home Owners"
   ]
  },
  {
   "cell_type": "code",
   "execution_count": 24,
   "id": "700dfeca",
   "metadata": {},
   "outputs": [
    {
     "data": {
      "image/png": "[encoded data removed]",
      "text/plain": [
       "<Figure size 720x720 with 1 Axes>"
      ]
     },
     "metadata": {
      "needs_background": "light"
     },
     "output_type": "display_data"
    }
   ],
   "source": [
    "plt.figure(figsize=(10,10))\n",
    "sns.countplot(x=data['home_ownership'],hue=data['loan_status'],hue_order=data['loan_status'].value_counts().index[:1:],palette=colors[::-1],order=data['home_ownership'].value_counts().index[:3:],saturation=1)\n",
    "sns.countplot(x=data['home_ownership'],hue=data['loan_status'],hue_order=data['loan_status'].value_counts().index[1:2:],palette=colors[3:],order=data['home_ownership'].value_counts().index[:3:],saturation=1)\n",
    "sns.countplot(x=data['home_ownership'],hue=data['loan_status'],hue_order=data['loan_status'].value_counts().index[2:3:],palette=colors[2:],order=data['home_ownership'].value_counts().index[:3:],saturation=1)\n",
    "plt.title('LOAN STATUS VS HOME OWNERS')\n",
    "plt.ylabel('COUNT')\n",
    "plt.xlabel('HOME OWNERS')\n",
    "plt.legend(title='LOAN STATUS')\n",
    "plt.show()"
   ]
  },
  {
   "cell_type": "markdown",
   "id": "bceefc60",
   "metadata": {},
   "source": [
    "1. People who Own a home are less likely to apply for a loan, Means most people seem to apply a loan for buying a house"
   ]
  },
  {
   "cell_type": "markdown",
   "id": "23625a92",
   "metadata": {},
   "source": [
    "### Application Type"
   ]
  },
  {
   "cell_type": "code",
   "execution_count": 25,
   "id": "149d704f",
   "metadata": {},
   "outputs": [
    {
     "data": {
      "image/png": "[encoded data removed]",
      "text/plain": [
       "<Figure size 720x720 with 1 Axes>"
      ]
     },
     "metadata": {
      "needs_background": "light"
     },
     "output_type": "display_data"
    }
   ],
   "source": [
    "plt.figure(figsize=(10,10))\n",
    "sns.countplot(x=data['application_type'],hue=data['loan_status'],hue_order=data['loan_status'].value_counts().index[:1:],palette=colors[::-1],order=data['application_type'].value_counts().index[:3:],saturation=1)\n",
    "sns.countplot(x=data['application_type'],hue=data['loan_status'],hue_order=data['loan_status'].value_counts().index[1:2:],palette=colors[3:],order=data['application_type'].value_counts().index[:3:],saturation=1)\n",
    "sns.countplot(x=data['application_type'],hue=data['loan_status'],hue_order=data['loan_status'].value_counts().index[2:3:],palette=colors[2:],order=data['application_type'].value_counts().index[:3:],saturation=1)\n",
    "plt.title('LOAN STATUS VS HOME OWNERS')\n",
    "plt.title('APPLICATION TYPE VS LOAN')\n",
    "plt.ylabel('COUNT')\n",
    "plt.xlabel('APPLICATION STATUS')\n",
    "plt.legend(title='LOAN STATUS')\n",
    "plt.show()"
   ]
  },
  {
   "cell_type": "markdown",
   "id": "f92ba3a9",
   "metadata": {},
   "source": [
    "1. Loans are mostly applied as a individual being"
   ]
  },
  {
   "cell_type": "markdown",
   "id": "bb5cdbfc",
   "metadata": {},
   "source": [
    "### Disbursement"
   ]
  },
  {
   "cell_type": "code",
   "execution_count": 26,
   "id": "85f5e190",
   "metadata": {},
   "outputs": [
    {
     "data": {
      "image/png": "[encoded data removed]",
      "text/plain": [
       "<Figure size 576x576 with 1 Axes>"
      ]
     },
     "metadata": {},
     "output_type": "display_data"
    }
   ],
   "source": [
    "plt.figure(figsize=(8,8))\n",
    "plt.pie(data['disbursement_method'].value_counts(),autopct='%.2f%%',labels=data['disbursement_method'].value_counts().index,colors=colors[::-1],explode=[0, 0.1])\n",
    "plt.title('DISBURSEMENT METHOD')\n",
    "plt.legend(title='DISBURSEMENT METHOD')\n",
    "plt.show()"
   ]
  },
  {
   "cell_type": "markdown",
   "id": "b8528533",
   "metadata": {},
   "source": [
    "1. People like paying loan using cash"
   ]
  },
  {
   "cell_type": "markdown",
   "id": "43eed718",
   "metadata": {},
   "source": [
    "### Employee Title vs Loan"
   ]
  },
  {
   "cell_type": "code",
   "execution_count": 27,
   "id": "173b62d5",
   "metadata": {},
   "outputs": [
    {
     "data": {
      "image/png": "[encoded data removed]",
      "text/plain": [
       "<Figure size 720x720 with 1 Axes>"
      ]
     },
     "metadata": {
      "needs_background": "light"
     },
     "output_type": "display_data"
    }
   ],
   "source": [
    "plt.figure(figsize=(10,10))\n",
    "sns.countplot(x=data['emp_title'],hue=data['purpose'],hue_order=data['purpose'].value_counts().index[:1:],order=data['emp_title'].value_counts().index[:3:],palette=colors[::-1],saturation=1)\n",
    "sns.countplot(x=data['emp_title'],hue=data['purpose'],hue_order=data['purpose'].value_counts().index[1:2:],order=data['emp_title'].value_counts().index[:3:],palette=colors[3::],saturation=1)\n",
    "sns.countplot(x=data['emp_title'],hue=data['purpose'],hue_order=data['purpose'].value_counts().index[2:3:],order=data['emp_title'].value_counts().index[:3:],palette=colors[2::],saturation=1)\n",
    "plt.title('EMPLOYEE TITLE VS LOAN')\n",
    "plt.ylabel('COUNT')\n",
    "plt.xlabel('EMPLOYEE TITLE')\n",
    "plt.legend(title='PURPOSE')\n",
    "plt.show()"
   ]
  },
  {
   "cell_type": "markdown",
   "id": "004ea3ee",
   "metadata": {},
   "source": [
    "1. Seems like most of Teachers income is not enough and requires a loan\n",
    "2. Once taken a loan, people start to apply for more loans."
   ]
  },
  {
   "cell_type": "markdown",
   "id": "18f66461",
   "metadata": {},
   "source": [
    "### Employee Title vs Loan Grade"
   ]
  },
  {
   "cell_type": "code",
   "execution_count": 28,
   "id": "2ba8e714",
   "metadata": {},
   "outputs": [
    {
     "data": {
      "image/png": "[encoded data removed]",
      "text/plain": [
       "<Figure size 720x720 with 1 Axes>"
      ]
     },
     "metadata": {
      "needs_background": "light"
     },
     "output_type": "display_data"
    }
   ],
   "source": [
    "plt.figure(figsize=(10,10))\n",
    "sns.countplot(x=data['emp_title'],hue=data['grade'],hue_order=data['grade'].value_counts().index[:3:],order=data['emp_title'].value_counts().index[:3:],palette=colors[2::],saturation=1)\n",
    "plt.title('JOB TITLE VS GRADE')\n",
    "plt.ylabel('COUNT')\n",
    "plt.xlabel('JOB TITLE')\n",
    "plt.legend(title='GRADE')\n",
    "plt.show()"
   ]
  },
  {
   "cell_type": "markdown",
   "id": "e41f62e9",
   "metadata": {},
   "source": [
    "1. Mostly People Prefer Grade A, B, and C loans"
   ]
  },
  {
   "cell_type": "markdown",
   "id": "d61f718b",
   "metadata": {},
   "source": [
    "## Cleaning Dataset"
   ]
  },
  {
   "cell_type": "markdown",
   "id": "f1c9a2fb",
   "metadata": {},
   "source": [
    "Important Factors to consider while Giving out Loan\n",
    "1. Credit Score\n",
    "2. Current Income\n",
    "3. Employment History\n",
    "4. Occupation\n",
    "5. Repayment History\n",
    "6. Amount of Loan\n",
    "7. Purpose of the Loan\n",
    "8. Surplus Income\n",
    "9. Collateral\n",
    "\n",
    "ref-https://www.gopaysense.com/blog/important-factors-personal-loan-applications/"
   ]
  },
  {
   "cell_type": "markdown",
   "id": "6e6c9790",
   "metadata": {},
   "source": [
    "### Encode Target Column and Clean data"
   ]
  },
  {
   "cell_type": "code",
   "execution_count": 29,
   "id": "fd763355",
   "metadata": {},
   "outputs": [
    {
     "data": {
      "text/plain": [
       "Fully Paid                                             1041952\n",
       "Current                                                 919695\n",
       "Charged Off                                             261655\n",
       "Late (31-120 days)                                       21897\n",
       "In Grace Period                                           8952\n",
       "Late (16-30 days)                                         3737\n",
       "Does not meet the credit policy. Status:Fully Paid        1988\n",
       "Does not meet the credit policy. Status:Charged Off        761\n",
       "Default                                                     31\n",
       "Name: loan_status, dtype: int64"
      ]
     },
     "execution_count": 29,
     "metadata": {},
     "output_type": "execute_result"
    }
   ],
   "source": [
    "data['loan_status'].value_counts()"
   ]
  },
  {
   "cell_type": "markdown",
   "id": "5e920851",
   "metadata": {},
   "source": [
    "For our model to work we need few sub category from above:\n",
    "1. Fully Paid (important to understand if the person will repay or not)\n",
    "2. Does not meet the credit policy. Status:Fully Paid (important to understand if the person will repay or not)\n",
    "\n",
    "rest are to be considered as defaulters as they are unable to pay in time"
   ]
  },
  {
   "cell_type": "code",
   "execution_count": 30,
   "id": "42704ab7",
   "metadata": {},
   "outputs": [],
   "source": [
    "mapping_dict = {'loan_status':{'Fully Paid':'Fully Paid','Does not meet the credit policy. Status:Fully Paid' : 'Fully Paid','Does not meet the credit policy. Status:Charged Off' : 'Default','Charged Off': 'Default','Late (31-120 days)': 'Default','Default': 'Default','Late (16-30 days)':'Default'}}\n",
    "data = data.replace(mapping_dict)"
   ]
  },
  {
   "cell_type": "code",
   "execution_count": 31,
   "id": "d9449ac4",
   "metadata": {},
   "outputs": [
    {
     "data": {
      "text/plain": [
       "Fully Paid         1043940\n",
       "Current             919695\n",
       "Default             288081\n",
       "In Grace Period       8952\n",
       "Name: loan_status, dtype: int64"
      ]
     },
     "execution_count": 31,
     "metadata": {},
     "output_type": "execute_result"
    }
   ],
   "source": [
    "data['loan_status'].value_counts()"
   ]
  },
  {
   "cell_type": "markdown",
   "id": "5a984e32",
   "metadata": {},
   "source": [
    "As our model will be predicting the Payment and Default\n",
    "1. Current doesnt give the clear insight whether the person will pay or not\n",
    "2. Hence we extract only that that data which is usefull to us"
   ]
  },
  {
   "cell_type": "code",
   "execution_count": 32,
   "id": "4acd77fb",
   "metadata": {},
   "outputs": [],
   "source": [
    "data=data[(data['loan_status']=='Fully Paid') | (data['loan_status']=='Default')].reset_index(drop=True)"
   ]
  },
  {
   "cell_type": "code",
   "execution_count": 33,
   "id": "f5449eda",
   "metadata": {},
   "outputs": [
    {
     "data": {
      "text/plain": [
       "Fully Paid    1043940\n",
       "Default        288081\n",
       "Name: loan_status, dtype: int64"
      ]
     },
     "execution_count": 33,
     "metadata": {},
     "output_type": "execute_result"
    }
   ],
   "source": [
    "data['loan_status'].value_counts()"
   ]
  },
  {
   "cell_type": "markdown",
   "id": "83466970",
   "metadata": {},
   "source": [
    "Now that we have extracted the required data:\n",
    "1. Drop the columns with Null Values over 45%\n",
    "2. Drop Unrelated Columns"
   ]
  },
  {
   "cell_type": "code",
   "execution_count": 34,
   "id": "5ec01124",
   "metadata": {},
   "outputs": [
    {
     "name": "stdout",
     "output_type": "stream",
     "text": [
      "id                                            1332021\n",
      "member_id                                     1332021\n",
      "loan_amnt                                           0\n",
      "funded_amnt                                         0\n",
      "funded_amnt_inv                                     0\n",
      "term                                                0\n",
      "int_rate                                            0\n",
      "installment                                         0\n",
      "grade                                               0\n",
      "sub_grade                                           0\n",
      "emp_title                                       85267\n",
      "emp_length                                      77856\n",
      "home_ownership                                      0\n",
      "annual_inc                                          4\n",
      "verification_status                                 0\n",
      "issue_d                                             0\n",
      "loan_status                                         0\n",
      "pymnt_plan                                          0\n",
      "url                                           1332021\n",
      "desc                                          1206250\n",
      "purpose                                             0\n",
      "title                                           15819\n",
      "zip_code                                            1\n",
      "addr_state                                          0\n",
      "dti                                               348\n",
      "delinq_2yrs                                        29\n",
      "earliest_cr_line                                   29\n",
      "inq_last_6mths                                     30\n",
      "mths_since_last_delinq                         670990\n",
      "mths_since_last_record                        1104707\n",
      "open_acc                                           29\n",
      "pub_rec                                            29\n",
      "revol_bal                                           0\n",
      "revol_util                                        891\n",
      "total_acc                                          29\n",
      "initial_list_status                                 0\n",
      "out_prncp                                           0\n",
      "out_prncp_inv                                       0\n",
      "total_pymnt                                         0\n",
      "total_pymnt_inv                                     0\n",
      "total_rec_prncp                                     0\n",
      "total_rec_int                                       0\n",
      "total_rec_late_fee                                  0\n",
      "recoveries                                          0\n",
      "collection_recovery_fee                             0\n",
      "last_pymnt_d                                     2426\n",
      "last_pymnt_amnt                                     0\n",
      "next_pymnt_d                                  1303607\n",
      "last_credit_pull_d                                 57\n",
      "collections_12_mths_ex_med                        145\n",
      "mths_since_last_major_derog                    981675\n",
      "policy_code                                         0\n",
      "application_type                                    0\n",
      "annual_inc_joint                              1306182\n",
      "dti_joint                                     1306184\n",
      "verification_status_joint                     1306356\n",
      "acc_now_delinq                                     29\n",
      "tot_coll_amt                                    70276\n",
      "tot_cur_bal                                     70276\n",
      "open_acc_6m                                    808918\n",
      "open_act_il                                    808917\n",
      "open_il_12m                                    808917\n",
      "open_il_24m                                    808917\n",
      "mths_since_rcnt_il                             822778\n",
      "total_bal_il                                   808917\n",
      "il_util                                        879236\n",
      "open_rv_12m                                    808917\n",
      "open_rv_24m                                    808917\n",
      "max_bal_bc                                     808917\n",
      "all_util                                       808973\n",
      "total_rev_hi_lim                                70276\n",
      "inq_fi                                         808917\n",
      "total_cu_tl                                    808918\n",
      "inq_last_12m                                   808918\n",
      "acc_open_past_24mths                            50030\n",
      "avg_cur_bal                                     70299\n",
      "bc_open_to_buy                                  63778\n",
      "bc_util                                         64542\n",
      "chargeoff_within_12_mths                          145\n",
      "delinq_amnt                                        29\n",
      "mo_sin_old_il_acct                             107950\n",
      "mo_sin_old_rev_tl_op                            70277\n",
      "mo_sin_rcnt_rev_tl_op                           70277\n",
      "mo_sin_rcnt_tl                                  70276\n",
      "mort_acc                                        50030\n",
      "mths_since_recent_bc                            62859\n",
      "mths_since_recent_bc_dlq                      1016221\n",
      "mths_since_recent_inq                          174428\n",
      "mths_since_recent_revol_delinq                 886907\n",
      "num_accts_ever_120_pd                           70276\n",
      "num_actv_bc_tl                                  70276\n",
      "num_actv_rev_tl                                 70276\n",
      "num_bc_sats                                     58590\n",
      "num_bc_tl                                       70276\n",
      "num_il_tl                                       70276\n",
      "num_op_rev_tl                                   70276\n",
      "num_rev_accts                                   70277\n",
      "num_rev_tl_bal_gt_0                             70276\n",
      "num_sats                                        58590\n",
      "num_tl_120dpd_2m                               119968\n",
      "num_tl_30dpd                                    70276\n",
      "num_tl_90g_dpd_24m                              70276\n",
      "num_tl_op_past_12m                              70276\n",
      "pct_tl_nvr_dlq                                  70430\n",
      "percent_bc_gt_75                                64189\n",
      "pub_rec_bankruptcies                             1365\n",
      "tax_liens                                         105\n",
      "tot_hi_cred_lim                                 70276\n",
      "total_bal_ex_mort                               50030\n",
      "total_bc_limit                                  50030\n",
      "total_il_high_credit_limit                      70276\n",
      "revol_bal_joint                               1313126\n",
      "sec_app_earliest_cr_line                      1313125\n",
      "sec_app_inq_last_6mths                        1313125\n",
      "sec_app_mort_acc                              1313125\n",
      "sec_app_open_acc                              1313125\n",
      "sec_app_revol_util                            1313475\n",
      "sec_app_open_act_il                           1313125\n",
      "sec_app_num_rev_accts                         1313125\n",
      "sec_app_chargeoff_within_12_mths              1313125\n",
      "sec_app_collections_12_mths_ex_med            1313125\n",
      "sec_app_mths_since_last_major_derog           1325071\n",
      "hardship_flag                                       0\n",
      "hardship_type                                 1324818\n",
      "hardship_reason                               1324818\n",
      "hardship_status                               1324818\n",
      "deferral_term                                 1324818\n",
      "hardship_amount                               1324818\n",
      "hardship_start_date                           1324818\n",
      "hardship_end_date                             1324818\n",
      "payment_plan_start_date                       1324818\n",
      "hardship_length                               1324818\n",
      "hardship_dpd                                  1324818\n",
      "hardship_loan_status                          1324818\n",
      "orig_projected_additional_accrued_interest    1326917\n",
      "hardship_payoff_balance_amount                1324818\n",
      "hardship_last_payment_amount                  1324818\n",
      "disbursement_method                                 0\n",
      "debt_settlement_flag                                0\n",
      "debt_settlement_flag_date                     1298996\n",
      "settlement_status                             1298996\n",
      "settlement_date                               1298996\n",
      "settlement_amount                             1298996\n",
      "settlement_percentage                         1298996\n",
      "settlement_term                               1298996\n"
     ]
    }
   ],
   "source": [
    "print(data.isnull().sum().to_string())"
   ]
  },
  {
   "cell_type": "markdown",
   "id": "5f5885f3",
   "metadata": {},
   "source": [
    "Creating a temporary dataset which stores feature name and its null values count"
   ]
  },
  {
   "cell_type": "code",
   "execution_count": 35,
   "id": "9e1ca2a8",
   "metadata": {},
   "outputs": [],
   "source": [
    "temp=pd.DataFrame({'Name':data.isnull().sum().index,'Null Count':data.isnull().sum().values})"
   ]
  },
  {
   "cell_type": "code",
   "execution_count": 36,
   "id": "f816740f",
   "metadata": {},
   "outputs": [
    {
     "data": {
      "text/html": [
       "<div>\n",
       "<style scoped>\n",
       "    .dataframe tbody tr th:only-of-type {\n",
       "        vertical-align: middle;\n",
       "    }\n",
       "\n",
       "    .dataframe tbody tr th {\n",
       "        vertical-align: top;\n",
       "    }\n",
       "\n",
       "    .dataframe thead th {\n",
       "        text-align: right;\n",
       "    }\n",
       "</style>\n",
       "<table border=\"1\" class=\"dataframe\">\n",
       "  <thead>\n",
       "    <tr style=\"text-align: right;\">\n",
       "      <th></th>\n",
       "      <th>Name</th>\n",
       "      <th>Null Count</th>\n",
       "    </tr>\n",
       "  </thead>\n",
       "  <tbody>\n",
       "    <tr>\n",
       "      <th>0</th>\n",
       "      <td>id</td>\n",
       "      <td>1332021</td>\n",
       "    </tr>\n",
       "    <tr>\n",
       "      <th>1</th>\n",
       "      <td>member_id</td>\n",
       "      <td>1332021</td>\n",
       "    </tr>\n",
       "    <tr>\n",
       "      <th>2</th>\n",
       "      <td>loan_amnt</td>\n",
       "      <td>0</td>\n",
       "    </tr>\n",
       "    <tr>\n",
       "      <th>3</th>\n",
       "      <td>funded_amnt</td>\n",
       "      <td>0</td>\n",
       "    </tr>\n",
       "    <tr>\n",
       "      <th>4</th>\n",
       "      <td>funded_amnt_inv</td>\n",
       "      <td>0</td>\n",
       "    </tr>\n",
       "  </tbody>\n",
       "</table>\n",
       "</div>"
      ],
      "text/plain": [
       "              Name  Null Count\n",
       "0               id     1332021\n",
       "1        member_id     1332021\n",
       "2        loan_amnt           0\n",
       "3      funded_amnt           0\n",
       "4  funded_amnt_inv           0"
      ]
     },
     "execution_count": 36,
     "metadata": {},
     "output_type": "execute_result"
    }
   ],
   "source": [
    "temp.head()"
   ]
  },
  {
   "cell_type": "markdown",
   "id": "4cc7fa0e",
   "metadata": {},
   "source": [
    "Dropping Columns which contains more than 45% of null Values"
   ]
  },
  {
   "cell_type": "code",
   "execution_count": 37,
   "id": "3d87a18d",
   "metadata": {},
   "outputs": [],
   "source": [
    "data.drop(temp['Name'][temp['Null Count']>(45/100)*data.shape[0]],axis=1,inplace=True)"
   ]
  },
  {
   "cell_type": "code",
   "execution_count": 38,
   "id": "e1c6d026",
   "metadata": {},
   "outputs": [
    {
     "name": "stdout",
     "output_type": "stream",
     "text": [
      "loan_amnt                          0\n",
      "funded_amnt                        0\n",
      "funded_amnt_inv                    0\n",
      "term                               0\n",
      "int_rate                           0\n",
      "installment                        0\n",
      "grade                              0\n",
      "sub_grade                          0\n",
      "emp_title                      85267\n",
      "emp_length                     77856\n",
      "home_ownership                     0\n",
      "annual_inc                         4\n",
      "verification_status                0\n",
      "issue_d                            0\n",
      "loan_status                        0\n",
      "pymnt_plan                         0\n",
      "purpose                            0\n",
      "title                          15819\n",
      "zip_code                           1\n",
      "addr_state                         0\n",
      "dti                              348\n",
      "delinq_2yrs                       29\n",
      "earliest_cr_line                  29\n",
      "inq_last_6mths                    30\n",
      "open_acc                          29\n",
      "pub_rec                           29\n",
      "revol_bal                          0\n",
      "revol_util                       891\n",
      "total_acc                         29\n",
      "initial_list_status                0\n",
      "out_prncp                          0\n",
      "out_prncp_inv                      0\n",
      "total_pymnt                        0\n",
      "total_pymnt_inv                    0\n",
      "total_rec_prncp                    0\n",
      "total_rec_int                      0\n",
      "total_rec_late_fee                 0\n",
      "recoveries                         0\n",
      "collection_recovery_fee            0\n",
      "last_pymnt_d                    2426\n",
      "last_pymnt_amnt                    0\n",
      "last_credit_pull_d                57\n",
      "collections_12_mths_ex_med       145\n",
      "policy_code                        0\n",
      "application_type                   0\n",
      "acc_now_delinq                    29\n",
      "tot_coll_amt                   70276\n",
      "tot_cur_bal                    70276\n",
      "total_rev_hi_lim               70276\n",
      "acc_open_past_24mths           50030\n",
      "avg_cur_bal                    70299\n",
      "bc_open_to_buy                 63778\n",
      "bc_util                        64542\n",
      "chargeoff_within_12_mths         145\n",
      "delinq_amnt                       29\n",
      "mo_sin_old_il_acct            107950\n",
      "mo_sin_old_rev_tl_op           70277\n",
      "mo_sin_rcnt_rev_tl_op          70277\n",
      "mo_sin_rcnt_tl                 70276\n",
      "mort_acc                       50030\n",
      "mths_since_recent_bc           62859\n",
      "mths_since_recent_inq         174428\n",
      "num_accts_ever_120_pd          70276\n",
      "num_actv_bc_tl                 70276\n",
      "num_actv_rev_tl                70276\n",
      "num_bc_sats                    58590\n",
      "num_bc_tl                      70276\n",
      "num_il_tl                      70276\n",
      "num_op_rev_tl                  70276\n",
      "num_rev_accts                  70277\n",
      "num_rev_tl_bal_gt_0            70276\n",
      "num_sats                       58590\n",
      "num_tl_120dpd_2m              119968\n",
      "num_tl_30dpd                   70276\n",
      "num_tl_90g_dpd_24m             70276\n",
      "num_tl_op_past_12m             70276\n",
      "pct_tl_nvr_dlq                 70430\n",
      "percent_bc_gt_75               64189\n",
      "pub_rec_bankruptcies            1365\n",
      "tax_liens                        105\n",
      "tot_hi_cred_lim                70276\n",
      "total_bal_ex_mort              50030\n",
      "total_bc_limit                 50030\n",
      "total_il_high_credit_limit     70276\n",
      "hardship_flag                      0\n",
      "disbursement_method                0\n",
      "debt_settlement_flag               0\n"
     ]
    }
   ],
   "source": [
    "print(data.isnull().sum().to_string())"
   ]
  },
  {
   "cell_type": "markdown",
   "id": "6c04d6e7",
   "metadata": {},
   "source": [
    "Filling Null values which are present in columns which are between 3% and 45%, by mode because some of them contains outliers "
   ]
  },
  {
   "cell_type": "code",
   "execution_count": 39,
   "id": "4fb61ed6",
   "metadata": {},
   "outputs": [],
   "source": [
    "temp1=pd.DataFrame({'Name':data.isnull().sum().index,'Null Count':data.isnull().sum().values})"
   ]
  },
  {
   "cell_type": "code",
   "execution_count": 40,
   "id": "f49107da",
   "metadata": {},
   "outputs": [],
   "source": [
    "null=temp1['Name'][(temp1['Null Count']<(45/100)*data.shape[0]) & (temp1['Null Count']>(3/100)*data.shape[0])]"
   ]
  },
  {
   "cell_type": "code",
   "execution_count": 41,
   "id": "7fef24fe",
   "metadata": {},
   "outputs": [],
   "source": [
    "for i in null:\n",
    "    data.loc[data[i].isnull(),i]=data[i].mode()[0]"
   ]
  },
  {
   "cell_type": "markdown",
   "id": "40d9fba5",
   "metadata": {},
   "source": [
    "Dropping Rows from features which has less than 3% of null values"
   ]
  },
  {
   "cell_type": "code",
   "execution_count": 42,
   "id": "24e3586a",
   "metadata": {},
   "outputs": [],
   "source": [
    "data.dropna(inplace=True)"
   ]
  },
  {
   "cell_type": "code",
   "execution_count": 43,
   "id": "d1371ea0",
   "metadata": {},
   "outputs": [
    {
     "data": {
      "text/plain": [
       "loan_amnt                     0\n",
       "funded_amnt                   0\n",
       "funded_amnt_inv               0\n",
       "term                          0\n",
       "int_rate                      0\n",
       "                             ..\n",
       "total_bc_limit                0\n",
       "total_il_high_credit_limit    0\n",
       "hardship_flag                 0\n",
       "disbursement_method           0\n",
       "debt_settlement_flag          0\n",
       "Length: 87, dtype: int64"
      ]
     },
     "execution_count": 43,
     "metadata": {},
     "output_type": "execute_result"
    }
   ],
   "source": [
    "data.isnull().sum()"
   ]
  },
  {
   "cell_type": "code",
   "execution_count": 44,
   "id": "981ae99b",
   "metadata": {},
   "outputs": [
    {
     "name": "stdout",
     "output_type": "stream",
     "text": [
      "<class 'pandas.core.frame.DataFrame'>\n",
      "Int64Index: 1311215 entries, 0 to 1332020\n",
      "Data columns (total 87 columns):\n",
      " #   Column                      Non-Null Count    Dtype  \n",
      "---  ------                      --------------    -----  \n",
      " 0   loan_amnt                   1311215 non-null  int64  \n",
      " 1   funded_amnt                 1311215 non-null  int64  \n",
      " 2   funded_amnt_inv             1311215 non-null  float64\n",
      " 3   term                        1311215 non-null  object \n",
      " 4   int_rate                    1311215 non-null  float64\n",
      " 5   installment                 1311215 non-null  float64\n",
      " 6   grade                       1311215 non-null  object \n",
      " 7   sub_grade                   1311215 non-null  object \n",
      " 8   emp_title                   1311215 non-null  object \n",
      " 9   emp_length                  1311215 non-null  object \n",
      " 10  home_ownership              1311215 non-null  object \n",
      " 11  annual_inc                  1311215 non-null  float64\n",
      " 12  verification_status         1311215 non-null  object \n",
      " 13  issue_d                     1311215 non-null  object \n",
      " 14  loan_status                 1311215 non-null  object \n",
      " 15  pymnt_plan                  1311215 non-null  object \n",
      " 16  purpose                     1311215 non-null  object \n",
      " 17  title                       1311215 non-null  object \n",
      " 18  zip_code                    1311215 non-null  object \n",
      " 19  addr_state                  1311215 non-null  object \n",
      " 20  dti                         1311215 non-null  float64\n",
      " 21  delinq_2yrs                 1311215 non-null  float64\n",
      " 22  earliest_cr_line            1311215 non-null  object \n",
      " 23  inq_last_6mths              1311215 non-null  float64\n",
      " 24  open_acc                    1311215 non-null  float64\n",
      " 25  pub_rec                     1311215 non-null  float64\n",
      " 26  revol_bal                   1311215 non-null  int64  \n",
      " 27  revol_util                  1311215 non-null  float64\n",
      " 28  total_acc                   1311215 non-null  float64\n",
      " 29  initial_list_status         1311215 non-null  object \n",
      " 30  out_prncp                   1311215 non-null  float64\n",
      " 31  out_prncp_inv               1311215 non-null  float64\n",
      " 32  total_pymnt                 1311215 non-null  float64\n",
      " 33  total_pymnt_inv             1311215 non-null  float64\n",
      " 34  total_rec_prncp             1311215 non-null  float64\n",
      " 35  total_rec_int               1311215 non-null  float64\n",
      " 36  total_rec_late_fee          1311215 non-null  float64\n",
      " 37  recoveries                  1311215 non-null  float64\n",
      " 38  collection_recovery_fee     1311215 non-null  float64\n",
      " 39  last_pymnt_d                1311215 non-null  object \n",
      " 40  last_pymnt_amnt             1311215 non-null  float64\n",
      " 41  last_credit_pull_d          1311215 non-null  object \n",
      " 42  collections_12_mths_ex_med  1311215 non-null  float64\n",
      " 43  policy_code                 1311215 non-null  int64  \n",
      " 44  application_type            1311215 non-null  object \n",
      " 45  acc_now_delinq              1311215 non-null  float64\n",
      " 46  tot_coll_amt                1311215 non-null  float64\n",
      " 47  tot_cur_bal                 1311215 non-null  float64\n",
      " 48  total_rev_hi_lim            1311215 non-null  float64\n",
      " 49  acc_open_past_24mths        1311215 non-null  float64\n",
      " 50  avg_cur_bal                 1311215 non-null  float64\n",
      " 51  bc_open_to_buy              1311215 non-null  float64\n",
      " 52  bc_util                     1311215 non-null  float64\n",
      " 53  chargeoff_within_12_mths    1311215 non-null  float64\n",
      " 54  delinq_amnt                 1311215 non-null  float64\n",
      " 55  mo_sin_old_il_acct          1311215 non-null  float64\n",
      " 56  mo_sin_old_rev_tl_op        1311215 non-null  float64\n",
      " 57  mo_sin_rcnt_rev_tl_op       1311215 non-null  float64\n",
      " 58  mo_sin_rcnt_tl              1311215 non-null  float64\n",
      " 59  mort_acc                    1311215 non-null  float64\n",
      " 60  mths_since_recent_bc        1311215 non-null  float64\n",
      " 61  mths_since_recent_inq       1311215 non-null  float64\n",
      " 62  num_accts_ever_120_pd       1311215 non-null  float64\n",
      " 63  num_actv_bc_tl              1311215 non-null  float64\n",
      " 64  num_actv_rev_tl             1311215 non-null  float64\n",
      " 65  num_bc_sats                 1311215 non-null  float64\n",
      " 66  num_bc_tl                   1311215 non-null  float64\n",
      " 67  num_il_tl                   1311215 non-null  float64\n",
      " 68  num_op_rev_tl               1311215 non-null  float64\n",
      " 69  num_rev_accts               1311215 non-null  float64\n",
      " 70  num_rev_tl_bal_gt_0         1311215 non-null  float64\n",
      " 71  num_sats                    1311215 non-null  float64\n",
      " 72  num_tl_120dpd_2m            1311215 non-null  float64\n",
      " 73  num_tl_30dpd                1311215 non-null  float64\n",
      " 74  num_tl_90g_dpd_24m          1311215 non-null  float64\n",
      " 75  num_tl_op_past_12m          1311215 non-null  float64\n",
      " 76  pct_tl_nvr_dlq              1311215 non-null  float64\n",
      " 77  percent_bc_gt_75            1311215 non-null  float64\n",
      " 78  pub_rec_bankruptcies        1311215 non-null  float64\n",
      " 79  tax_liens                   1311215 non-null  float64\n",
      " 80  tot_hi_cred_lim             1311215 non-null  float64\n",
      " 81  total_bal_ex_mort           1311215 non-null  float64\n",
      " 82  total_bc_limit              1311215 non-null  float64\n",
      " 83  total_il_high_credit_limit  1311215 non-null  float64\n",
      " 84  hardship_flag               1311215 non-null  object \n",
      " 85  disbursement_method         1311215 non-null  object \n",
      " 86  debt_settlement_flag        1311215 non-null  object \n",
      "dtypes: float64(61), int64(4), object(22)\n",
      "memory usage: 880.3+ MB\n"
     ]
    }
   ],
   "source": [
    "data.info(verbose=True, show_counts=True)"
   ]
  },
  {
   "cell_type": "code",
   "execution_count": 45,
   "id": "fc776a47",
   "metadata": {},
   "outputs": [
    {
     "name": "stdout",
     "output_type": "stream",
     "text": [
      "loan_amnt                                  30000\n",
      "funded_amnt                                30000\n",
      "funded_amnt_inv                          30000.0\n",
      "term                                   36 months\n",
      "int_rate                                   22.35\n",
      "installment                              1151.16\n",
      "grade                                          D\n",
      "sub_grade                                     D5\n",
      "emp_title                            Supervisor \n",
      "emp_length                               5 years\n",
      "home_ownership                          MORTGAGE\n",
      "annual_inc                              100000.0\n",
      "verification_status              Source Verified\n",
      "issue_d                                 Dec-2018\n",
      "loan_status                           Fully Paid\n",
      "pymnt_plan                                     n\n",
      "purpose                       debt_consolidation\n",
      "title                         Debt consolidation\n",
      "zip_code                                   917xx\n",
      "addr_state                                    CA\n",
      "dti                                        30.46\n",
      "delinq_2yrs                                  0.0\n",
      "earliest_cr_line                        Jan-2012\n",
      "inq_last_6mths                               0.0\n",
      "open_acc                                    11.0\n",
      "pub_rec                                      1.0\n",
      "revol_bal                                  15603\n",
      "revol_util                                  37.0\n",
      "total_acc                                   19.0\n",
      "initial_list_status                            w\n",
      "out_prncp                                    0.0\n",
      "out_prncp_inv                                0.0\n",
      "total_pymnt                           30026.4425\n",
      "total_pymnt_inv                         30026.44\n",
      "total_rec_prncp                          30000.0\n",
      "total_rec_int                              26.44\n",
      "total_rec_late_fee                           0.0\n",
      "recoveries                                   0.0\n",
      "collection_recovery_fee                      0.0\n",
      "last_pymnt_d                            Jan-2019\n",
      "last_pymnt_amnt                         30082.32\n",
      "last_credit_pull_d                      Jan-2019\n",
      "collections_12_mths_ex_med                   0.0\n",
      "policy_code                                    1\n",
      "application_type                       Joint App\n",
      "acc_now_delinq                               0.0\n",
      "tot_coll_amt                                 0.0\n",
      "tot_cur_bal                             472330.0\n",
      "total_rev_hi_lim                         42200.0\n",
      "acc_open_past_24mths                         4.0\n",
      "avg_cur_bal                              42939.0\n",
      "bc_open_to_buy                           15181.0\n",
      "bc_util                                     46.9\n",
      "chargeoff_within_12_mths                     0.0\n",
      "delinq_amnt                                  0.0\n",
      "mo_sin_old_il_acct                          83.0\n",
      "mo_sin_old_rev_tl_op                        73.0\n",
      "mo_sin_rcnt_rev_tl_op                       23.0\n",
      "mo_sin_rcnt_tl                               2.0\n",
      "mort_acc                                     1.0\n",
      "mths_since_recent_bc                        23.0\n",
      "mths_since_recent_inq                        8.0\n",
      "num_accts_ever_120_pd                        0.0\n",
      "num_actv_bc_tl                               3.0\n",
      "num_actv_rev_tl                              4.0\n",
      "num_bc_sats                                  3.0\n",
      "num_bc_tl                                    5.0\n",
      "num_il_tl                                   10.0\n",
      "num_op_rev_tl                                6.0\n",
      "num_rev_accts                                8.0\n",
      "num_rev_tl_bal_gt_0                          4.0\n",
      "num_sats                                    11.0\n",
      "num_tl_120dpd_2m                             0.0\n",
      "num_tl_30dpd                                 0.0\n",
      "num_tl_90g_dpd_24m                           0.0\n",
      "num_tl_op_past_12m                           2.0\n",
      "pct_tl_nvr_dlq                              89.5\n",
      "percent_bc_gt_75                            33.3\n",
      "pub_rec_bankruptcies                         1.0\n",
      "tax_liens                                    0.0\n",
      "tot_hi_cred_lim                         527120.0\n",
      "total_bal_ex_mort                        98453.0\n",
      "total_bc_limit                           28600.0\n",
      "total_il_high_credit_limit              101984.0\n",
      "hardship_flag                                  N\n",
      "disbursement_method                         Cash\n",
      "debt_settlement_flag                           N\n"
     ]
    }
   ],
   "source": [
    "print(data.iloc[0].to_string())"
   ]
  },
  {
   "cell_type": "code",
   "execution_count": 46,
   "id": "5fae5bbf",
   "metadata": {},
   "outputs": [
    {
     "name": "stdout",
     "output_type": "stream",
     "text": [
      "loan_amnt                       int64\n",
      "funded_amnt                     int64\n",
      "funded_amnt_inv               float64\n",
      "term                           object\n",
      "int_rate                      float64\n",
      "installment                   float64\n",
      "grade                          object\n",
      "sub_grade                      object\n",
      "emp_title                      object\n",
      "emp_length                     object\n",
      "home_ownership                 object\n",
      "annual_inc                    float64\n",
      "verification_status            object\n",
      "issue_d                        object\n",
      "loan_status                    object\n",
      "pymnt_plan                     object\n",
      "purpose                        object\n",
      "title                          object\n",
      "zip_code                       object\n",
      "addr_state                     object\n",
      "dti                           float64\n",
      "delinq_2yrs                   float64\n",
      "earliest_cr_line               object\n",
      "inq_last_6mths                float64\n",
      "open_acc                      float64\n",
      "pub_rec                       float64\n",
      "revol_bal                       int64\n",
      "revol_util                    float64\n",
      "total_acc                     float64\n",
      "initial_list_status            object\n",
      "out_prncp                     float64\n",
      "out_prncp_inv                 float64\n",
      "total_pymnt                   float64\n",
      "total_pymnt_inv               float64\n",
      "total_rec_prncp               float64\n",
      "total_rec_int                 float64\n",
      "total_rec_late_fee            float64\n",
      "recoveries                    float64\n",
      "collection_recovery_fee       float64\n",
      "last_pymnt_d                   object\n",
      "last_pymnt_amnt               float64\n",
      "last_credit_pull_d             object\n",
      "collections_12_mths_ex_med    float64\n",
      "policy_code                     int64\n",
      "application_type               object\n",
      "acc_now_delinq                float64\n",
      "tot_coll_amt                  float64\n",
      "tot_cur_bal                   float64\n",
      "total_rev_hi_lim              float64\n",
      "acc_open_past_24mths          float64\n",
      "avg_cur_bal                   float64\n",
      "bc_open_to_buy                float64\n",
      "bc_util                       float64\n",
      "chargeoff_within_12_mths      float64\n",
      "delinq_amnt                   float64\n",
      "mo_sin_old_il_acct            float64\n",
      "mo_sin_old_rev_tl_op          float64\n",
      "mo_sin_rcnt_rev_tl_op         float64\n",
      "mo_sin_rcnt_tl                float64\n",
      "mort_acc                      float64\n",
      "mths_since_recent_bc          float64\n",
      "mths_since_recent_inq         float64\n",
      "num_accts_ever_120_pd         float64\n",
      "num_actv_bc_tl                float64\n",
      "num_actv_rev_tl               float64\n",
      "num_bc_sats                   float64\n",
      "num_bc_tl                     float64\n",
      "num_il_tl                     float64\n",
      "num_op_rev_tl                 float64\n",
      "num_rev_accts                 float64\n",
      "num_rev_tl_bal_gt_0           float64\n",
      "num_sats                      float64\n",
      "num_tl_120dpd_2m              float64\n",
      "num_tl_30dpd                  float64\n",
      "num_tl_90g_dpd_24m            float64\n",
      "num_tl_op_past_12m            float64\n",
      "pct_tl_nvr_dlq                float64\n",
      "percent_bc_gt_75              float64\n",
      "pub_rec_bankruptcies          float64\n",
      "tax_liens                     float64\n",
      "tot_hi_cred_lim               float64\n",
      "total_bal_ex_mort             float64\n",
      "total_bc_limit                float64\n",
      "total_il_high_credit_limit    float64\n",
      "hardship_flag                  object\n",
      "disbursement_method            object\n",
      "debt_settlement_flag           object\n"
     ]
    }
   ],
   "source": [
    "print(data.dtypes.to_string())"
   ]
  },
  {
   "cell_type": "markdown",
   "id": "b489e737",
   "metadata": {},
   "source": [
    "Firstly dealing with Object DataType"
   ]
  },
  {
   "cell_type": "code",
   "execution_count": 47,
   "id": "a30c539d",
   "metadata": {},
   "outputs": [
    {
     "name": "stdout",
     "output_type": "stream",
     "text": [
      "--------- term ---------\n",
      " 36 months    990652\n",
      " 60 months    320563\n",
      "Name: term, dtype: int64\n",
      "--------- grade ---------\n",
      "B    380499\n",
      "C    373550\n",
      "A    225401\n",
      "D    198159\n",
      "E     92748\n",
      "F     31746\n",
      "G      9112\n",
      "Name: grade, dtype: int64\n",
      "--------- sub_grade ---------\n",
      "C1    83180\n",
      "B4    80677\n",
      "B5    79887\n",
      "B3    79400\n",
      "C2    77423\n",
      "C3    73451\n",
      "C4    73088\n",
      "B2    71658\n",
      "B1    68877\n",
      "C5    66408\n",
      "A5    61965\n",
      "A4    50400\n",
      "D1    50396\n",
      "D2    44022\n",
      "A1    40931\n",
      "D3    38900\n",
      "A3    36506\n",
      "A2    35599\n",
      "D4    35114\n",
      "D5    29727\n",
      "E1    23381\n",
      "E2    21127\n",
      "E3    18230\n",
      "E4    15580\n",
      "E5    14430\n",
      "F1     9859\n",
      "F2     7082\n",
      "F3     6053\n",
      "F4     4825\n",
      "F5     3927\n",
      "G1     2967\n",
      "G2     2124\n",
      "G3     1601\n",
      "G4     1274\n",
      "G5     1146\n",
      "Name: sub_grade, dtype: int64\n",
      "--------- emp_title ---------\n",
      "Teacher                    103122\n",
      "Manager                     18888\n",
      "Owner                        9927\n",
      "Registered Nurse             8510\n",
      "RN                           8324\n",
      "                            ...  \n",
      "Wait Staff Manager              1\n",
      "GSM2                            1\n",
      "Transition Liaision             1\n",
      "Licensed Vocation Nurse         1\n",
      "Acft mechanic                   1\n",
      "Name: emp_title, Length: 373028, dtype: int64\n",
      "--------- emp_length ---------\n",
      "10+ years    505597\n",
      "2 years      118831\n",
      "< 1 year     106057\n",
      "3 years      105050\n",
      "1 year        85892\n",
      "5 years       82247\n",
      "4 years       78705\n",
      "6 years       61348\n",
      "8 years       59323\n",
      "7 years       58478\n",
      "9 years       49687\n",
      "Name: emp_length, dtype: int64\n",
      "--------- home_ownership ---------\n",
      "MORTGAGE    648597\n",
      "RENT        521344\n",
      "OWN         140769\n",
      "ANY            280\n",
      "OTHER          180\n",
      "NONE            45\n",
      "Name: home_ownership, dtype: int64\n",
      "--------- verification_status ---------\n",
      "Source Verified    506847\n",
      "Verified           409880\n",
      "Not Verified       394488\n",
      "Name: verification_status, dtype: int64\n",
      "--------- issue_d ---------\n",
      "Oct-2015    42908\n",
      "Jul-2015    40966\n",
      "Dec-2015    38883\n",
      "Mar-2016    38211\n",
      "Oct-2014    35915\n",
      "            ...  \n",
      "Jan-2008       17\n",
      "Feb-2008       12\n",
      "Dec-2007        6\n",
      "Oct-2007        5\n",
      "Nov-2007        4\n",
      "Name: issue_d, Length: 135, dtype: int64\n",
      "--------- loan_status ---------\n",
      "Fully Paid    1031275\n",
      "Default        279940\n",
      "Name: loan_status, dtype: int64\n",
      "--------- pymnt_plan ---------\n",
      "n    1310557\n",
      "y        658\n",
      "Name: pymnt_plan, dtype: int64\n",
      "--------- purpose ---------\n",
      "debt_consolidation    761483\n",
      "credit_card           286624\n",
      "home_improvement       85064\n",
      "other                  76039\n",
      "major_purchase         28646\n",
      "small_business         15228\n",
      "medical                15139\n",
      "car                    14217\n",
      "moving                  9264\n",
      "vacation                8796\n",
      "house                   7137\n",
      "wedding                 2310\n",
      "renewable_energy         907\n",
      "educational              361\n",
      "Name: purpose, dtype: int64\n",
      "--------- title ---------\n",
      "Debt consolidation                652001\n",
      "Credit card refinancing           245011\n",
      "Home improvement                   73467\n",
      "Other                              65373\n",
      "Major purchase                     23481\n",
      "                                   ...  \n",
      "Debt Free to BE                        1\n",
      "vacation/pay off debt                  1\n",
      "Ford repay                             1\n",
      "Fixing credit card mistakes            1\n",
      "Need in order to payoff bills          1\n",
      "Name: title, Length: 62245, dtype: int64\n",
      "--------- zip_code ---------\n",
      "945xx    14637\n",
      "750xx    14146\n",
      "112xx    13508\n",
      "606xx    12097\n",
      "300xx    11782\n",
      "         ...  \n",
      "817xx        1\n",
      "771xx        1\n",
      "568xx        1\n",
      "649xx        1\n",
      "205xx        1\n",
      "Name: zip_code, Length: 946, dtype: int64\n",
      "--------- addr_state ---------\n",
      "CA    191854\n",
      "TX    107501\n",
      "NY    107083\n",
      "FL     93365\n",
      "IL     50292\n",
      "NJ     47147\n",
      "PA     44488\n",
      "OH     42521\n",
      "GA     42258\n",
      "VA     37134\n",
      "NC     36756\n",
      "MI     34372\n",
      "AZ     31874\n",
      "MD     30543\n",
      "MA     30176\n",
      "CO     28973\n",
      "WA     28385\n",
      "MN     23347\n",
      "IN     21058\n",
      "MO     20759\n",
      "TN     19767\n",
      "NV     19652\n",
      "CT     19209\n",
      "WI     17350\n",
      "AL     16261\n",
      "OR     15995\n",
      "SC     15525\n",
      "LA     15125\n",
      "KY     12517\n",
      "OK     11949\n",
      "KS     10925\n",
      "AR      9795\n",
      "UT      9795\n",
      "NM      7199\n",
      "HI      6600\n",
      "MS      6423\n",
      "NH      6288\n",
      "RI      5723\n",
      "WV      4773\n",
      "MT      3713\n",
      "DE      3682\n",
      "NE      3447\n",
      "DC      3391\n",
      "AK      3114\n",
      "WY      2841\n",
      "SD      2696\n",
      "VT      2571\n",
      "ME      1923\n",
      "ID      1558\n",
      "ND      1512\n",
      "IA        10\n",
      "Name: addr_state, dtype: int64\n",
      "--------- earliest_cr_line ---------\n",
      "Aug-2001    9161\n",
      "Aug-2002    8848\n",
      "Sep-2003    8741\n",
      "Oct-2001    8684\n",
      "Aug-2000    8639\n",
      "            ... \n",
      "Jun-1955       1\n",
      "Sep-1953       1\n",
      "Mar-1958       1\n",
      "Nov-1957       1\n",
      "Dec-1950       1\n",
      "Name: earliest_cr_line, Length: 737, dtype: int64\n",
      "--------- initial_list_status ---------\n",
      "w    756606\n",
      "f    554609\n",
      "Name: initial_list_status, dtype: int64\n",
      "--------- last_pymnt_d ---------\n",
      "Aug-2018    39089\n",
      "Mar-2018    37701\n",
      "Oct-2018    36968\n",
      "Jul-2018    36058\n",
      "Jan-2019    35371\n",
      "            ...  \n",
      "May-2008        9\n",
      "Nov-2008        9\n",
      "Jun-2008        5\n",
      "Apr-2008        3\n",
      "Mar-2008        1\n",
      "Name: last_pymnt_d, Length: 132, dtype: int64\n",
      "--------- last_credit_pull_d ---------\n",
      "Feb-2019    474236\n",
      "Jan-2019     74517\n",
      "Jul-2018     55079\n",
      "Oct-2016     50498\n",
      "Dec-2018     50240\n",
      "             ...  \n",
      "Aug-2008         5\n",
      "Jan-2009         4\n",
      "Dec-2008         4\n",
      "Mar-2019         3\n",
      "Jun-2008         1\n",
      "Name: last_credit_pull_d, Length: 130, dtype: int64\n",
      "--------- application_type ---------\n",
      "Individual    1286459\n",
      "Joint App       24756\n",
      "Name: application_type, dtype: int64\n",
      "--------- hardship_flag ---------\n",
      "N    1310392\n",
      "Y        823\n",
      "Name: hardship_flag, dtype: int64\n",
      "--------- disbursement_method ---------\n",
      "Cash         1305071\n",
      "DirectPay       6144\n",
      "Name: disbursement_method, dtype: int64\n",
      "--------- debt_settlement_flag ---------\n",
      "N    1279043\n",
      "Y      32172\n",
      "Name: debt_settlement_flag, dtype: int64\n"
     ]
    }
   ],
   "source": [
    "obj=[]\n",
    "for i in data.select_dtypes('object').columns:\n",
    "    print('---------',i,'---------')\n",
    "    print(data[i].value_counts())\n",
    "    obj.append(i)"
   ]
  },
  {
   "cell_type": "markdown",
   "id": "b63f3563",
   "metadata": {},
   "source": [
    "1. Dates related to Loans can be removed as they have been already considered in other features"
   ]
  },
  {
   "cell_type": "code",
   "execution_count": 48,
   "id": "0c4a307d",
   "metadata": {},
   "outputs": [],
   "source": [
    "data.drop(['issue_d','earliest_cr_line','last_pymnt_d','last_credit_pull_d'],axis=1,inplace=True)"
   ]
  },
  {
   "cell_type": "markdown",
   "id": "ecd03927",
   "metadata": {},
   "source": [
    "What About Hardships ?\n",
    "1. Hardship Flags shows us the count of customers applied for hardships.\n",
    "2. 885 nos. of customers which is below 1% of the rest dataset so we can ignore them as this data is comparitively low."
   ]
  },
  {
   "cell_type": "code",
   "execution_count": 49,
   "id": "88efb66b",
   "metadata": {},
   "outputs": [],
   "source": [
    "data.drop(['hardship_flag','debt_settlement_flag'],axis=1,inplace=True)"
   ]
  },
  {
   "cell_type": "markdown",
   "id": "b0955a23",
   "metadata": {},
   "source": [
    "1. Grade of loan doesnt matter while repaying the loan"
   ]
  },
  {
   "cell_type": "code",
   "execution_count": 50,
   "id": "a94329a1",
   "metadata": {},
   "outputs": [],
   "source": [
    "data.drop(['grade','sub_grade'],axis=1,inplace=True)"
   ]
  },
  {
   "cell_type": "code",
   "execution_count": 51,
   "id": "c74e32bd",
   "metadata": {},
   "outputs": [
    {
     "name": "stdout",
     "output_type": "stream",
     "text": [
      "--------- term ---------\n",
      " 36 months    990652\n",
      " 60 months    320563\n",
      "Name: term, dtype: int64\n",
      "--------- emp_title ---------\n",
      "Teacher                    103122\n",
      "Manager                     18888\n",
      "Owner                        9927\n",
      "Registered Nurse             8510\n",
      "RN                           8324\n",
      "                            ...  \n",
      "Wait Staff Manager              1\n",
      "GSM2                            1\n",
      "Transition Liaision             1\n",
      "Licensed Vocation Nurse         1\n",
      "Acft mechanic                   1\n",
      "Name: emp_title, Length: 373028, dtype: int64\n",
      "--------- emp_length ---------\n",
      "10+ years    505597\n",
      "2 years      118831\n",
      "< 1 year     106057\n",
      "3 years      105050\n",
      "1 year        85892\n",
      "5 years       82247\n",
      "4 years       78705\n",
      "6 years       61348\n",
      "8 years       59323\n",
      "7 years       58478\n",
      "9 years       49687\n",
      "Name: emp_length, dtype: int64\n",
      "--------- home_ownership ---------\n",
      "MORTGAGE    648597\n",
      "RENT        521344\n",
      "OWN         140769\n",
      "ANY            280\n",
      "OTHER          180\n",
      "NONE            45\n",
      "Name: home_ownership, dtype: int64\n",
      "--------- verification_status ---------\n",
      "Source Verified    506847\n",
      "Verified           409880\n",
      "Not Verified       394488\n",
      "Name: verification_status, dtype: int64\n",
      "--------- loan_status ---------\n",
      "Fully Paid    1031275\n",
      "Default        279940\n",
      "Name: loan_status, dtype: int64\n",
      "--------- pymnt_plan ---------\n",
      "n    1310557\n",
      "y        658\n",
      "Name: pymnt_plan, dtype: int64\n",
      "--------- purpose ---------\n",
      "debt_consolidation    761483\n",
      "credit_card           286624\n",
      "home_improvement       85064\n",
      "other                  76039\n",
      "major_purchase         28646\n",
      "small_business         15228\n",
      "medical                15139\n",
      "car                    14217\n",
      "moving                  9264\n",
      "vacation                8796\n",
      "house                   7137\n",
      "wedding                 2310\n",
      "renewable_energy         907\n",
      "educational              361\n",
      "Name: purpose, dtype: int64\n",
      "--------- title ---------\n",
      "Debt consolidation                652001\n",
      "Credit card refinancing           245011\n",
      "Home improvement                   73467\n",
      "Other                              65373\n",
      "Major purchase                     23481\n",
      "                                   ...  \n",
      "Debt Free to BE                        1\n",
      "vacation/pay off debt                  1\n",
      "Ford repay                             1\n",
      "Fixing credit card mistakes            1\n",
      "Need in order to payoff bills          1\n",
      "Name: title, Length: 62245, dtype: int64\n",
      "--------- zip_code ---------\n",
      "945xx    14637\n",
      "750xx    14146\n",
      "112xx    13508\n",
      "606xx    12097\n",
      "300xx    11782\n",
      "         ...  \n",
      "817xx        1\n",
      "771xx        1\n",
      "568xx        1\n",
      "649xx        1\n",
      "205xx        1\n",
      "Name: zip_code, Length: 946, dtype: int64\n",
      "--------- addr_state ---------\n",
      "CA    191854\n",
      "TX    107501\n",
      "NY    107083\n",
      "FL     93365\n",
      "IL     50292\n",
      "NJ     47147\n",
      "PA     44488\n",
      "OH     42521\n",
      "GA     42258\n",
      "VA     37134\n",
      "NC     36756\n",
      "MI     34372\n",
      "AZ     31874\n",
      "MD     30543\n",
      "MA     30176\n",
      "CO     28973\n",
      "WA     28385\n",
      "MN     23347\n",
      "IN     21058\n",
      "MO     20759\n",
      "TN     19767\n",
      "NV     19652\n",
      "CT     19209\n",
      "WI     17350\n",
      "AL     16261\n",
      "OR     15995\n",
      "SC     15525\n",
      "LA     15125\n",
      "KY     12517\n",
      "OK     11949\n",
      "KS     10925\n",
      "AR      9795\n",
      "UT      9795\n",
      "NM      7199\n",
      "HI      6600\n",
      "MS      6423\n",
      "NH      6288\n",
      "RI      5723\n",
      "WV      4773\n",
      "MT      3713\n",
      "DE      3682\n",
      "NE      3447\n",
      "DC      3391\n",
      "AK      3114\n",
      "WY      2841\n",
      "SD      2696\n",
      "VT      2571\n",
      "ME      1923\n",
      "ID      1558\n",
      "ND      1512\n",
      "IA        10\n",
      "Name: addr_state, dtype: int64\n",
      "--------- initial_list_status ---------\n",
      "w    756606\n",
      "f    554609\n",
      "Name: initial_list_status, dtype: int64\n",
      "--------- application_type ---------\n",
      "Individual    1286459\n",
      "Joint App       24756\n",
      "Name: application_type, dtype: int64\n",
      "--------- disbursement_method ---------\n",
      "Cash         1305071\n",
      "DirectPay       6144\n",
      "Name: disbursement_method, dtype: int64\n"
     ]
    }
   ],
   "source": [
    "obj=[]\n",
    "for i in data.select_dtypes('object').columns:\n",
    "    print('---------',i,'---------')\n",
    "    print(data[i].value_counts())\n",
    "    obj.append(i)"
   ]
  },
  {
   "cell_type": "markdown",
   "id": "d8ad5008",
   "metadata": {},
   "source": [
    "### Pickling the columns for later use"
   ]
  },
  {
   "cell_type": "code",
   "execution_count": 52,
   "id": "9282ce14",
   "metadata": {},
   "outputs": [],
   "source": [
    "export=['emp_title','emp_length','purpose','zip_code','addr_state']\n",
    "for i in export:\n",
    "    blank=[]\n",
    "    blank.append(data[i].unique().tolist())\n",
    "    #pickle.dump(blank,open(i+'.pkl','wb'))"
   ]
  },
  {
   "cell_type": "markdown",
   "id": "72b7373a",
   "metadata": {},
   "source": [
    "Also dropping the following\n",
    "1. Title is already mentioned in data set as purpose\n",
    "2. Payment Plan and Policy code only has 1 value hence it can be drop"
   ]
  },
  {
   "cell_type": "code",
   "execution_count": 53,
   "id": "2cd92661",
   "metadata": {},
   "outputs": [],
   "source": [
    "data.drop(['policy_code','pymnt_plan','title'],axis=1,inplace=True)"
   ]
  },
  {
   "cell_type": "markdown",
   "id": "02320adc",
   "metadata": {},
   "source": [
    "Dropping the features which will be derived after getting the loan"
   ]
  },
  {
   "cell_type": "code",
   "execution_count": 54,
   "id": "ef34efc4",
   "metadata": {},
   "outputs": [],
   "source": [
    "data.drop(['funded_amnt', 'funded_amnt_inv', 'annual_inc', 'dti', 'delinq_2yrs', 'inq_last_6mths', 'open_acc', 'pub_rec', 'revol_bal', 'revol_util', 'total_acc', 'out_prncp', 'out_prncp_inv', 'total_pymnt', 'total_pymnt_inv', 'total_rec_prncp', 'total_rec_int', 'total_rec_late_fee', 'recoveries', 'collection_recovery_fee', 'last_pymnt_amnt', 'collections_12_mths_ex_med', 'acc_now_delinq', 'tot_coll_amt', 'tot_cur_bal', 'total_rev_hi_lim', 'acc_open_past_24mths', 'avg_cur_bal', 'bc_open_to_buy', 'bc_util', 'chargeoff_within_12_mths', 'delinq_amnt', 'mo_sin_old_il_acct', 'mo_sin_old_rev_tl_op', 'mo_sin_rcnt_rev_tl_op', 'mo_sin_rcnt_tl', 'mort_acc', 'mths_since_recent_bc', 'mths_since_recent_inq', 'num_accts_ever_120_pd', 'num_actv_bc_tl', 'num_actv_rev_tl', 'num_bc_sats', 'num_bc_tl', 'num_il_tl', 'num_op_rev_tl', 'num_rev_accts', 'num_rev_tl_bal_gt_0', 'num_sats', 'num_tl_120dpd_2m', 'num_tl_30dpd', 'num_tl_90g_dpd_24m', 'num_tl_op_past_12m', 'pct_tl_nvr_dlq', 'percent_bc_gt_75', 'pub_rec_bankruptcies', 'tax_liens', 'tot_hi_cred_lim', 'total_bal_ex_mort', 'total_bc_limit', 'total_il_high_credit_limit'],axis=1,inplace=True)"
   ]
  },
  {
   "cell_type": "markdown",
   "id": "064bf7ca",
   "metadata": {},
   "source": [
    "## Encode the data "
   ]
  },
  {
   "cell_type": "code",
   "execution_count": 55,
   "id": "6e26e382",
   "metadata": {},
   "outputs": [
    {
     "name": "stdout",
     "output_type": "stream",
     "text": [
      "one hot encode :  ['term', 'home_ownership', 'verification_status', 'initial_list_status', 'application_type', 'disbursement_method']\n",
      "\n",
      "ordinal encode :  ['emp_title', 'emp_length', 'purpose', 'zip_code', 'addr_state']\n",
      "\n",
      "continuos :  ['loan_amnt', 'int_rate', 'installment']\n"
     ]
    }
   ],
   "source": [
    "one=[]\n",
    "ordinal=[]\n",
    "num=[]\n",
    "for i in data.select_dtypes('object').columns:\n",
    "    if i=='loan_status':\n",
    "        continue\n",
    "    elif len(data[i].value_counts())<=6:\n",
    "        one.append(i)\n",
    "    else:\n",
    "        ordinal.append(i)\n",
    "for i in data.select_dtypes(exclude='object').columns:\n",
    "    num.append(i)\n",
    "print('one hot encode : ', one)\n",
    "print()\n",
    "print('ordinal encode : ', ordinal)\n",
    "print()\n",
    "print('continuos : ', num)"
   ]
  },
  {
   "cell_type": "markdown",
   "id": "fb11f7ed",
   "metadata": {},
   "source": [
    "Ordinal Encoding to those columns which contains more unique values than 6"
   ]
  },
  {
   "cell_type": "code",
   "execution_count": 56,
   "id": "1b94f2d3",
   "metadata": {},
   "outputs": [],
   "source": [
    "from sklearn.preprocessing import OrdinalEncoder\n",
    "oe=OrdinalEncoder()\n",
    "data[ordinal]=oe.fit_transform(data[ordinal])"
   ]
  },
  {
   "cell_type": "markdown",
   "id": "dfc7f175",
   "metadata": {},
   "source": [
    "One Hot Encoding to those columns which contains less unique values than 6"
   ]
  },
  {
   "cell_type": "code",
   "execution_count": 57,
   "id": "16762d3e",
   "metadata": {},
   "outputs": [],
   "source": [
    "temp=pd.get_dummies(data, columns = one)"
   ]
  },
  {
   "cell_type": "code",
   "execution_count": 58,
   "id": "8a4f2332",
   "metadata": {},
   "outputs": [],
   "source": [
    "data.drop(one,axis=1,inplace=True)"
   ]
  },
  {
   "cell_type": "code",
   "execution_count": 59,
   "id": "ee2241c3",
   "metadata": {},
   "outputs": [],
   "source": [
    "data[temp.columns]=temp"
   ]
  },
  {
   "cell_type": "code",
   "execution_count": 60,
   "id": "56900706",
   "metadata": {},
   "outputs": [
    {
     "data": {
      "text/plain": [
       "(1311215, 26)"
      ]
     },
     "execution_count": 60,
     "metadata": {},
     "output_type": "execute_result"
    }
   ],
   "source": [
    "data.shape"
   ]
  },
  {
   "cell_type": "code",
   "execution_count": 61,
   "id": "85a0de9e",
   "metadata": {},
   "outputs": [
    {
     "data": {
      "text/plain": [
       "Index(['loan_amnt', 'int_rate', 'installment', 'emp_title', 'emp_length',\n",
       "       'loan_status', 'purpose', 'zip_code', 'addr_state', 'term_ 36 months',\n",
       "       'term_ 60 months', 'home_ownership_ANY', 'home_ownership_MORTGAGE',\n",
       "       'home_ownership_NONE', 'home_ownership_OTHER', 'home_ownership_OWN',\n",
       "       'home_ownership_RENT', 'verification_status_Not Verified',\n",
       "       'verification_status_Source Verified', 'verification_status_Verified',\n",
       "       'initial_list_status_f', 'initial_list_status_w',\n",
       "       'application_type_Individual', 'application_type_Joint App',\n",
       "       'disbursement_method_Cash', 'disbursement_method_DirectPay'],\n",
       "      dtype='object')"
      ]
     },
     "execution_count": 61,
     "metadata": {},
     "output_type": "execute_result"
    }
   ],
   "source": [
    "data.columns"
   ]
  },
  {
   "cell_type": "markdown",
   "id": "3db1a365",
   "metadata": {},
   "source": [
    "## Seperating X and Y "
   ]
  },
  {
   "cell_type": "code",
   "execution_count": 62,
   "id": "f3d6a44d",
   "metadata": {},
   "outputs": [],
   "source": [
    "x=data.loc[:,data.columns!='loan_status']"
   ]
  },
  {
   "cell_type": "code",
   "execution_count": 63,
   "id": "84fcbe4c",
   "metadata": {},
   "outputs": [],
   "source": [
    "y=data.loc[:,'loan_status']"
   ]
  },
  {
   "cell_type": "markdown",
   "id": "93db97a7",
   "metadata": {},
   "source": [
    "## Data Balancing"
   ]
  },
  {
   "cell_type": "markdown",
   "id": "8eac2d31",
   "metadata": {},
   "source": [
    "1. There are many Methods for data balancing from which I have chose SMOTE.\n",
    "2. Because SMOTE creates synthetic data points to balance the data, hence accuracy is not affected."
   ]
  },
  {
   "cell_type": "code",
   "execution_count": 64,
   "id": "6f263d1e",
   "metadata": {},
   "outputs": [],
   "source": [
    "from imblearn.over_sampling import SMOTE\n",
    "sm = SMOTE(sampling_strategy='minority', random_state=1)\n",
    "x, y = sm.fit_resample(x, y)\n",
    "#data = pd.concat([pd.DataFrame(oversampled_Y), pd.DataFrame(oversampled_X)], axis=1)"
   ]
  },
  {
   "cell_type": "markdown",
   "id": "e159ad23",
   "metadata": {},
   "source": [
    "## Standarizing Data"
   ]
  },
  {
   "cell_type": "markdown",
   "id": "7a7ff899",
   "metadata": {},
   "source": [
    "Above Mentioned Columns have Outliers Removing them by Standardizing the data\n",
    "1. Standard Scaler (Using This)\n",
    "2. MinMax Scaler"
   ]
  },
  {
   "cell_type": "raw",
   "id": "8d3dd803",
   "metadata": {},
   "source": [
    "from sklearn.preprocessing import StandardScaler"
   ]
  },
  {
   "cell_type": "raw",
   "id": "68e0bee0",
   "metadata": {},
   "source": [
    "sc=StandardScaler()\n",
    "z=sc.fit_transform(x[num])\n",
    "count=0\n",
    "for i in num :\n",
    "    x[i]=z[:,count]\n",
    "    count=count+1"
   ]
  },
  {
   "cell_type": "raw",
   "id": "91fe7020",
   "metadata": {
    "collapsed": true
   },
   "source": [
    "x.head()"
   ]
  },
  {
   "cell_type": "markdown",
   "id": "977e6b7b",
   "metadata": {},
   "source": [
    "By Standarizing the data Accuracy of the model drops quite significatly hence avoiding it"
   ]
  },
  {
   "cell_type": "markdown",
   "id": "6ea8a918",
   "metadata": {},
   "source": [
    "## Correlation with target column"
   ]
  },
  {
   "cell_type": "markdown",
   "id": "eadb1301",
   "metadata": {},
   "source": [
    "To ckeck the Correlation between target column we cant use Corr function as target column is a classificaton problem.\n",
    "So to check its correlation we have two methods :\n",
    "1. One Way ANNOVA test (continous vs discrete)\n",
    "2. Chi-Square test (discrete vs discrete)\n",
    "3. Point Biserialr (continous vs discrete)\n",
    "\n",
    "Lets Declare Hypothesis:\n",
    "1. Null Hypothesis : there is NO correlation between independent and target column\n",
    "2. Alternate Hypothesis : there is correlation between independent and target column\n",
    "\n",
    "Conditions:\n",
    "1. P-value <= 0.05 : we reject Null Hypothesis and accept Alternate Hypothesis\n",
    "2. P-value > 0.05 : we accept Null Hypothesis and reject Alternate Hypothesis\n",
    "\n",
    "Note: I will not be performing Chi-Square test as Discrete columns are already being filtered out using domain knowledge"
   ]
  },
  {
   "cell_type": "code",
   "execution_count": 65,
   "id": "511bda3d",
   "metadata": {},
   "outputs": [],
   "source": [
    "data = pd.concat([pd.DataFrame(y), pd.DataFrame(x)], axis=1)"
   ]
  },
  {
   "cell_type": "markdown",
   "id": "277db420",
   "metadata": {},
   "source": [
    "### CHI-Square Test"
   ]
  },
  {
   "cell_type": "code",
   "execution_count": 66,
   "id": "7dbae8c1",
   "metadata": {},
   "outputs": [],
   "source": [
    "from sklearn.feature_selection import SelectKBest\n",
    "from sklearn.feature_selection import chi2"
   ]
  },
  {
   "cell_type": "code",
   "execution_count": 67,
   "id": "f175be5f",
   "metadata": {},
   "outputs": [],
   "source": [
    "test = SelectKBest(score_func=chi2, k='all')\n",
    "fit = test.fit(data[ordinal], data['loan_status'])\n",
    "chisquare=pd.DataFrame({'Name':fit.feature_names_in_,'P-Values':fit.pvalues_})"
   ]
  },
  {
   "cell_type": "code",
   "execution_count": 68,
   "id": "ed1154fd",
   "metadata": {},
   "outputs": [
    {
     "data": {
      "text/html": [
       "<div>\n",
       "<style scoped>\n",
       "    .dataframe tbody tr th:only-of-type {\n",
       "        vertical-align: middle;\n",
       "    }\n",
       "\n",
       "    .dataframe tbody tr th {\n",
       "        vertical-align: top;\n",
       "    }\n",
       "\n",
       "    .dataframe thead th {\n",
       "        text-align: right;\n",
       "    }\n",
       "</style>\n",
       "<table border=\"1\" class=\"dataframe\">\n",
       "  <thead>\n",
       "    <tr style=\"text-align: right;\">\n",
       "      <th></th>\n",
       "      <th>Name</th>\n",
       "      <th>P-Values</th>\n",
       "    </tr>\n",
       "  </thead>\n",
       "  <tbody>\n",
       "    <tr>\n",
       "      <th>0</th>\n",
       "      <td>emp_title</td>\n",
       "      <td>0.000000</td>\n",
       "    </tr>\n",
       "    <tr>\n",
       "      <th>1</th>\n",
       "      <td>emp_length</td>\n",
       "      <td>0.000783</td>\n",
       "    </tr>\n",
       "    <tr>\n",
       "      <th>2</th>\n",
       "      <td>purpose</td>\n",
       "      <td>0.000000</td>\n",
       "    </tr>\n",
       "    <tr>\n",
       "      <th>3</th>\n",
       "      <td>zip_code</td>\n",
       "      <td>0.000000</td>\n",
       "    </tr>\n",
       "    <tr>\n",
       "      <th>4</th>\n",
       "      <td>addr_state</td>\n",
       "      <td>0.058215</td>\n",
       "    </tr>\n",
       "  </tbody>\n",
       "</table>\n",
       "</div>"
      ],
      "text/plain": [
       "         Name  P-Values\n",
       "0   emp_title  0.000000\n",
       "1  emp_length  0.000783\n",
       "2     purpose  0.000000\n",
       "3    zip_code  0.000000\n",
       "4  addr_state  0.058215"
      ]
     },
     "execution_count": 68,
     "metadata": {},
     "output_type": "execute_result"
    }
   ],
   "source": [
    "chisquare"
   ]
  },
  {
   "cell_type": "code",
   "execution_count": 69,
   "id": "dd65915a",
   "metadata": {},
   "outputs": [],
   "source": [
    "drop_col=chisquare['Name'][chisquare['P-Values']>0.05].tolist()"
   ]
  },
  {
   "cell_type": "markdown",
   "id": "e2c88218",
   "metadata": {},
   "source": [
    "We can see that none of those columns have P-values greater than 0.05 so those columns are related to target column"
   ]
  },
  {
   "cell_type": "markdown",
   "id": "f3e26d05",
   "metadata": {},
   "source": [
    "### One Way ANNOVA Test"
   ]
  },
  {
   "cell_type": "markdown",
   "id": "86072d81",
   "metadata": {},
   "source": [
    "from scipy.stats import f_oneway"
   ]
  },
  {
   "cell_type": "raw",
   "id": "2a85c4f2",
   "metadata": {
    "collapsed": true
   },
   "source": [
    "drop_col=[]\n",
    "for i in num:\n",
    "    print(i,' ',f_oneway(*data.groupby('loan_status')[i].apply(list)))\n",
    "    if f_oneway(*data.groupby('loan_status')[i].apply(list))[1] > 0.05:\n",
    "        drop_col.append(i)"
   ]
  },
  {
   "cell_type": "raw",
   "id": "46868116",
   "metadata": {},
   "source": [
    "drop_col"
   ]
  },
  {
   "cell_type": "markdown",
   "id": "95d35e33",
   "metadata": {},
   "source": [
    "data.drop(drop_col,axis=1,inplace=True)"
   ]
  },
  {
   "cell_type": "markdown",
   "id": "be67c901",
   "metadata": {},
   "source": [
    "1. Tried with One Way Annova, while it does tell us the related columns but it doesnt tell us that how much related it is to target column\n",
    "2. Hence choose Point Biserial because it also tell use the correlation "
   ]
  },
  {
   "cell_type": "markdown",
   "id": "7a9db87a",
   "metadata": {},
   "source": [
    "### Point Biserialr"
   ]
  },
  {
   "cell_type": "raw",
   "id": "b45ca204",
   "metadata": {},
   "source": [
    "from scipy.stats import pointbiserialr"
   ]
  },
  {
   "cell_type": "raw",
   "id": "e68e7f97",
   "metadata": {},
   "source": [
    "data['loan_status']=OrdinalEncoder().fit_transform(data[['loan_status']])"
   ]
  },
  {
   "cell_type": "raw",
   "id": "4b8f0a91",
   "metadata": {
    "scrolled": true
   },
   "source": [
    "abs(pointbiserialr(data['loan_status'], x['loan_amnt'])[0])>0.3"
   ]
  },
  {
   "cell_type": "raw",
   "id": "08b9e7e1",
   "metadata": {},
   "source": [
    "drop_col=[]\n",
    "for i in num:    \n",
    "    #print(i,'---',pointbiserialr(data['loan_status'], x[i])[0])\n",
    "    if abs(pointbiserialr(data['loan_status'], x[i])[0])<0.3:\n",
    "        print(i,'---',abs(pointbiserialr(data['loan_status'], x[i])[0]))\n",
    "        drop_col.append(i)"
   ]
  },
  {
   "cell_type": "code",
   "execution_count": 70,
   "id": "31da8d6a",
   "metadata": {},
   "outputs": [
    {
     "data": {
      "text/plain": [
       "Index(['loan_amnt', 'int_rate', 'installment', 'emp_title', 'emp_length',\n",
       "       'purpose', 'zip_code', 'addr_state', 'term_ 36 months',\n",
       "       'term_ 60 months', 'home_ownership_ANY', 'home_ownership_MORTGAGE',\n",
       "       'home_ownership_NONE', 'home_ownership_OTHER', 'home_ownership_OWN',\n",
       "       'home_ownership_RENT', 'verification_status_Not Verified',\n",
       "       'verification_status_Source Verified', 'verification_status_Verified',\n",
       "       'initial_list_status_f', 'initial_list_status_w',\n",
       "       'application_type_Individual', 'application_type_Joint App',\n",
       "       'disbursement_method_Cash', 'disbursement_method_DirectPay'],\n",
       "      dtype='object')"
      ]
     },
     "execution_count": 70,
     "metadata": {},
     "output_type": "execute_result"
    }
   ],
   "source": [
    "x.columns"
   ]
  },
  {
   "cell_type": "markdown",
   "id": "0645886d",
   "metadata": {},
   "source": [
    "## Building a Base Model"
   ]
  },
  {
   "cell_type": "markdown",
   "id": "71ee56a4",
   "metadata": {},
   "source": [
    "Various Types of Machine Learning Algorith are present:\n",
    "1. Logistic Regression\n",
    "2. Descision Tree\n",
    "3. SVM Classifier\n",
    "4. KNN\n",
    "\n",
    "From which we choose Logistic Regression as our base model because target contains binary classification"
   ]
  },
  {
   "cell_type": "markdown",
   "id": "23b1a54d",
   "metadata": {},
   "source": [
    "### Shuffle the data"
   ]
  },
  {
   "cell_type": "code",
   "execution_count": 71,
   "id": "a30f0549",
   "metadata": {},
   "outputs": [],
   "source": [
    "data = pd.concat([pd.DataFrame(y), pd.DataFrame(x)], axis=1)"
   ]
  },
  {
   "cell_type": "code",
   "execution_count": 72,
   "id": "92692850",
   "metadata": {},
   "outputs": [],
   "source": [
    "from sklearn.utils import shuffle"
   ]
  },
  {
   "cell_type": "code",
   "execution_count": 73,
   "id": "0061ab60",
   "metadata": {},
   "outputs": [],
   "source": [
    "data = shuffle(data).reset_index(drop=True)"
   ]
  },
  {
   "cell_type": "code",
   "execution_count": 74,
   "id": "e7432f65",
   "metadata": {},
   "outputs": [
    {
     "data": {
      "text/html": [
       "<div>\n",
       "<style scoped>\n",
       "    .dataframe tbody tr th:only-of-type {\n",
       "        vertical-align: middle;\n",
       "    }\n",
       "\n",
       "    .dataframe tbody tr th {\n",
       "        vertical-align: top;\n",
       "    }\n",
       "\n",
       "    .dataframe thead th {\n",
       "        text-align: right;\n",
       "    }\n",
       "</style>\n",
       "<table border=\"1\" class=\"dataframe\">\n",
       "  <thead>\n",
       "    <tr style=\"text-align: right;\">\n",
       "      <th></th>\n",
       "      <th>loan_status</th>\n",
       "      <th>loan_amnt</th>\n",
       "      <th>int_rate</th>\n",
       "      <th>installment</th>\n",
       "      <th>emp_title</th>\n",
       "      <th>emp_length</th>\n",
       "      <th>purpose</th>\n",
       "      <th>zip_code</th>\n",
       "      <th>addr_state</th>\n",
       "      <th>term_ 36 months</th>\n",
       "      <th>...</th>\n",
       "      <th>home_ownership_RENT</th>\n",
       "      <th>verification_status_Not Verified</th>\n",
       "      <th>verification_status_Source Verified</th>\n",
       "      <th>verification_status_Verified</th>\n",
       "      <th>initial_list_status_f</th>\n",
       "      <th>initial_list_status_w</th>\n",
       "      <th>application_type_Individual</th>\n",
       "      <th>application_type_Joint App</th>\n",
       "      <th>disbursement_method_Cash</th>\n",
       "      <th>disbursement_method_DirectPay</th>\n",
       "    </tr>\n",
       "  </thead>\n",
       "  <tbody>\n",
       "    <tr>\n",
       "      <th>0</th>\n",
       "      <td>Fully Paid</td>\n",
       "      <td>22000</td>\n",
       "      <td>11.440000</td>\n",
       "      <td>724.850000</td>\n",
       "      <td>182642.000000</td>\n",
       "      <td>1.000000</td>\n",
       "      <td>2.000000</td>\n",
       "      <td>569.000000</td>\n",
       "      <td>14.0000</td>\n",
       "      <td>1</td>\n",
       "      <td>...</td>\n",
       "      <td>0</td>\n",
       "      <td>0</td>\n",
       "      <td>0</td>\n",
       "      <td>1</td>\n",
       "      <td>1</td>\n",
       "      <td>0</td>\n",
       "      <td>1</td>\n",
       "      <td>0</td>\n",
       "      <td>1</td>\n",
       "      <td>0</td>\n",
       "    </tr>\n",
       "    <tr>\n",
       "      <th>1</th>\n",
       "      <td>Default</td>\n",
       "      <td>7550</td>\n",
       "      <td>13.980000</td>\n",
       "      <td>257.970000</td>\n",
       "      <td>180491.000000</td>\n",
       "      <td>1.000000</td>\n",
       "      <td>2.000000</td>\n",
       "      <td>199.000000</td>\n",
       "      <td>20.0000</td>\n",
       "      <td>1</td>\n",
       "      <td>...</td>\n",
       "      <td>0</td>\n",
       "      <td>1</td>\n",
       "      <td>0</td>\n",
       "      <td>0</td>\n",
       "      <td>0</td>\n",
       "      <td>1</td>\n",
       "      <td>1</td>\n",
       "      <td>0</td>\n",
       "      <td>1</td>\n",
       "      <td>0</td>\n",
       "    </tr>\n",
       "    <tr>\n",
       "      <th>2</th>\n",
       "      <td>Default</td>\n",
       "      <td>10000</td>\n",
       "      <td>9.119299</td>\n",
       "      <td>318.693512</td>\n",
       "      <td>10291.942085</td>\n",
       "      <td>3.607018</td>\n",
       "      <td>6.187718</td>\n",
       "      <td>143.629842</td>\n",
       "      <td>38.4193</td>\n",
       "      <td>1</td>\n",
       "      <td>...</td>\n",
       "      <td>1</td>\n",
       "      <td>0</td>\n",
       "      <td>0</td>\n",
       "      <td>0</td>\n",
       "      <td>1</td>\n",
       "      <td>0</td>\n",
       "      <td>1</td>\n",
       "      <td>0</td>\n",
       "      <td>1</td>\n",
       "      <td>0</td>\n",
       "    </tr>\n",
       "    <tr>\n",
       "      <th>3</th>\n",
       "      <td>Default</td>\n",
       "      <td>35000</td>\n",
       "      <td>23.880000</td>\n",
       "      <td>1370.950000</td>\n",
       "      <td>93392.000000</td>\n",
       "      <td>10.000000</td>\n",
       "      <td>2.000000</td>\n",
       "      <td>135.000000</td>\n",
       "      <td>34.0000</td>\n",
       "      <td>1</td>\n",
       "      <td>...</td>\n",
       "      <td>0</td>\n",
       "      <td>0</td>\n",
       "      <td>0</td>\n",
       "      <td>1</td>\n",
       "      <td>0</td>\n",
       "      <td>1</td>\n",
       "      <td>0</td>\n",
       "      <td>1</td>\n",
       "      <td>1</td>\n",
       "      <td>0</td>\n",
       "    </tr>\n",
       "    <tr>\n",
       "      <th>4</th>\n",
       "      <td>Fully Paid</td>\n",
       "      <td>35000</td>\n",
       "      <td>7.260000</td>\n",
       "      <td>1084.870000</td>\n",
       "      <td>217657.000000</td>\n",
       "      <td>3.000000</td>\n",
       "      <td>2.000000</td>\n",
       "      <td>891.000000</td>\n",
       "      <td>4.0000</td>\n",
       "      <td>1</td>\n",
       "      <td>...</td>\n",
       "      <td>0</td>\n",
       "      <td>0</td>\n",
       "      <td>1</td>\n",
       "      <td>0</td>\n",
       "      <td>0</td>\n",
       "      <td>1</td>\n",
       "      <td>1</td>\n",
       "      <td>0</td>\n",
       "      <td>1</td>\n",
       "      <td>0</td>\n",
       "    </tr>\n",
       "  </tbody>\n",
       "</table>\n",
       "<p>5 rows × 26 columns</p>\n",
       "</div>"
      ],
      "text/plain": [
       "  loan_status  loan_amnt   int_rate  installment      emp_title  emp_length  \\\n",
       "0  Fully Paid      22000  11.440000   724.850000  182642.000000    1.000000   \n",
       "1     Default       7550  13.980000   257.970000  180491.000000    1.000000   \n",
       "2     Default      10000   9.119299   318.693512   10291.942085    3.607018   \n",
       "3     Default      35000  23.880000  1370.950000   93392.000000   10.000000   \n",
       "4  Fully Paid      35000   7.260000  1084.870000  217657.000000    3.000000   \n",
       "\n",
       "    purpose    zip_code  addr_state  term_ 36 months  ...  \\\n",
       "0  2.000000  569.000000     14.0000                1  ...   \n",
       "1  2.000000  199.000000     20.0000                1  ...   \n",
       "2  6.187718  143.629842     38.4193                1  ...   \n",
       "3  2.000000  135.000000     34.0000                1  ...   \n",
       "4  2.000000  891.000000      4.0000                1  ...   \n",
       "\n",
       "   home_ownership_RENT  verification_status_Not Verified  \\\n",
       "0                    0                                 0   \n",
       "1                    0                                 1   \n",
       "2                    1                                 0   \n",
       "3                    0                                 0   \n",
       "4                    0                                 0   \n",
       "\n",
       "   verification_status_Source Verified  verification_status_Verified  \\\n",
       "0                                    0                             1   \n",
       "1                                    0                             0   \n",
       "2                                    0                             0   \n",
       "3                                    0                             1   \n",
       "4                                    1                             0   \n",
       "\n",
       "   initial_list_status_f  initial_list_status_w  application_type_Individual  \\\n",
       "0                      1                      0                            1   \n",
       "1                      0                      1                            1   \n",
       "2                      1                      0                            1   \n",
       "3                      0                      1                            0   \n",
       "4                      0                      1                            1   \n",
       "\n",
       "   application_type_Joint App  disbursement_method_Cash  \\\n",
       "0                           0                         1   \n",
       "1                           0                         1   \n",
       "2                           0                         1   \n",
       "3                           1                         1   \n",
       "4                           0                         1   \n",
       "\n",
       "   disbursement_method_DirectPay  \n",
       "0                              0  \n",
       "1                              0  \n",
       "2                              0  \n",
       "3                              0  \n",
       "4                              0  \n",
       "\n",
       "[5 rows x 26 columns]"
      ]
     },
     "execution_count": 74,
     "metadata": {},
     "output_type": "execute_result"
    }
   ],
   "source": [
    "data.head()"
   ]
  },
  {
   "cell_type": "markdown",
   "id": "1472fa6f",
   "metadata": {},
   "source": [
    "### Seperating x & y into training and testing data"
   ]
  },
  {
   "cell_type": "code",
   "execution_count": 75,
   "id": "070cc506",
   "metadata": {},
   "outputs": [],
   "source": [
    "x=data.loc[:,data.columns!='loan_status']"
   ]
  },
  {
   "cell_type": "code",
   "execution_count": 76,
   "id": "5cf0f75f",
   "metadata": {},
   "outputs": [],
   "source": [
    "y=data.loc[:,'loan_status']"
   ]
  },
  {
   "cell_type": "code",
   "execution_count": 77,
   "id": "b1ca4276",
   "metadata": {},
   "outputs": [],
   "source": [
    "from sklearn.model_selection import train_test_split\n",
    "xtrain,xtest,ytrain,ytest=train_test_split(x,y,train_size=0.7,test_size=0.3,random_state=64)"
   ]
  },
  {
   "cell_type": "markdown",
   "id": "59e1de48",
   "metadata": {},
   "source": [
    "### Building a model"
   ]
  },
  {
   "cell_type": "markdown",
   "id": "7e9994af",
   "metadata": {},
   "source": [
    "Before building a Prediction model:\n",
    "1. This is a classification model as we require to predict the Loan Status (Fully Paid, Default)\n",
    "2. We have to predict that a person will pay the loan or not\n",
    "\n",
    "We can check the accuracy of a model by confusion matrix\n",
    "1. In this case we have to focus on correctly prediciting a person who will not pay back\n",
    "2. this is shown by True Positive from Confusion Matrix\n",
    "3. As we know TP is indirectly propottional to TN we can only increase one by chaging the threshold\n",
    "3. Even if our model predicts True Positive a bit less accurate that person can get a loan from anywhere less but we cant afford loosing money of our peers\n"
   ]
  },
  {
   "cell_type": "code",
   "execution_count": 78,
   "id": "f16f98d8",
   "metadata": {},
   "outputs": [],
   "source": [
    "from sklearn.linear_model import LogisticRegression"
   ]
  },
  {
   "cell_type": "code",
   "execution_count": 79,
   "id": "ea658cb4",
   "metadata": {},
   "outputs": [],
   "source": [
    "lr=LogisticRegression()"
   ]
  },
  {
   "cell_type": "code",
   "execution_count": 80,
   "id": "d2c310b7",
   "metadata": {},
   "outputs": [
    {
     "data": {
      "text/html": [
       "<style>#sk-container-id-1 {color: black;background-color: white;}#sk-container-id-1 pre{padding: 0;}#sk-container-id-1 div.sk-toggleable {background-color: white;}#sk-container-id-1 label.sk-toggleable__label {cursor: pointer;display: block;width: 100%;margin-bottom: 0;padding: 0.3em;box-sizing: border-box;text-align: center;}#sk-container-id-1 label.sk-toggleable__label-arrow:before {content: \"▸\";float: left;margin-right: 0.25em;color: #696969;}#sk-container-id-1 label.sk-toggleable__label-arrow:hover:before {color: black;}#sk-container-id-1 div.sk-estimator:hover label.sk-toggleable__label-arrow:before {color: black;}#sk-container-id-1 div.sk-toggleable__content {max-height: 0;max-width: 0;overflow: hidden;text-align: left;background-color: #f0f8ff;}#sk-container-id-1 div.sk-toggleable__content pre {margin: 0.2em;color: black;border-radius: 0.25em;background-color: #f0f8ff;}#sk-container-id-1 input.sk-toggleable__control:checked~div.sk-toggleable__content {max-height: 200px;max-width: 100%;overflow: auto;}#sk-container-id-1 input.sk-toggleable__control:checked~label.sk-toggleable__label-arrow:before {content: \"▾\";}#sk-container-id-1 div.sk-estimator input.sk-toggleable__control:checked~label.sk-toggleable__label {background-color: #d4ebff;}#sk-container-id-1 div.sk-label input.sk-toggleable__control:checked~label.sk-toggleable__label {background-color: #d4ebff;}#sk-container-id-1 input.sk-hidden--visually {border: 0;clip: rect(1px 1px 1px 1px);clip: rect(1px, 1px, 1px, 1px);height: 1px;margin: -1px;overflow: hidden;padding: 0;position: absolute;width: 1px;}#sk-container-id-1 div.sk-estimator {font-family: monospace;background-color: #f0f8ff;border: 1px dotted black;border-radius: 0.25em;box-sizing: border-box;margin-bottom: 0.5em;}#sk-container-id-1 div.sk-estimator:hover {background-color: #d4ebff;}#sk-container-id-1 div.sk-parallel-item::after {content: \"\";width: 100%;border-bottom: 1px solid gray;flex-grow: 1;}#sk-container-id-1 div.sk-label:hover label.sk-toggleable__label {background-color: #d4ebff;}#sk-container-id-1 div.sk-serial::before {content: \"\";position: absolute;border-left: 1px solid gray;box-sizing: border-box;top: 0;bottom: 0;left: 50%;z-index: 0;}#sk-container-id-1 div.sk-serial {display: flex;flex-direction: column;align-items: center;background-color: white;padding-right: 0.2em;padding-left: 0.2em;position: relative;}#sk-container-id-1 div.sk-item {position: relative;z-index: 1;}#sk-container-id-1 div.sk-parallel {display: flex;align-items: stretch;justify-content: center;background-color: white;position: relative;}#sk-container-id-1 div.sk-item::before, #sk-container-id-1 div.sk-parallel-item::before {content: \"\";position: absolute;border-left: 1px solid gray;box-sizing: border-box;top: 0;bottom: 0;left: 50%;z-index: -1;}#sk-container-id-1 div.sk-parallel-item {display: flex;flex-direction: column;z-index: 1;position: relative;background-color: white;}#sk-container-id-1 div.sk-parallel-item:first-child::after {align-self: flex-end;width: 50%;}#sk-container-id-1 div.sk-parallel-item:last-child::after {align-self: flex-start;width: 50%;}#sk-container-id-1 div.sk-parallel-item:only-child::after {width: 0;}#sk-container-id-1 div.sk-dashed-wrapped {border: 1px dashed gray;margin: 0 0.4em 0.5em 0.4em;box-sizing: border-box;padding-bottom: 0.4em;background-color: white;}#sk-container-id-1 div.sk-label label {font-family: monospace;font-weight: bold;display: inline-block;line-height: 1.2em;}#sk-container-id-1 div.sk-label-container {text-align: center;}#sk-container-id-1 div.sk-container {/* jupyter's `normalize.less` sets `[hidden] { display: none; }` but bootstrap.min.css set `[hidden] { display: none !important; }` so we also need the `!important` here to be able to override the default hidden behavior on the sphinx rendered scikit-learn.org. See: https://github.com/scikit-learn/scikit-learn/issues/21755 */display: inline-block !important;position: relative;}#sk-container-id-1 div.sk-text-repr-fallback {display: none;}</style><div id=\"sk-container-id-1\" class=\"sk-top-container\"><div class=\"sk-text-repr-fallback\"><pre>LogisticRegression()</pre><b>In a Jupyter environment, please rerun this cell to show the HTML representation or trust the notebook. <br />On GitHub, the HTML representation is unable to render, please try loading this page with nbviewer.org.</b></div><div class=\"sk-container\" hidden><div class=\"sk-item\"><div class=\"sk-estimator sk-toggleable\"><input class=\"sk-toggleable__control sk-hidden--visually\" id=\"sk-estimator-id-1\" type=\"checkbox\" checked><label for=\"sk-estimator-id-1\" class=\"sk-toggleable__label sk-toggleable__label-arrow\">LogisticRegression</label><div class=\"sk-toggleable__content\"><pre>LogisticRegression()</pre></div></div></div></div></div>"
      ],
      "text/plain": [
       "LogisticRegression()"
      ]
     },
     "execution_count": 80,
     "metadata": {},
     "output_type": "execute_result"
    }
   ],
   "source": [
    "lr.fit(xtrain,ytrain)"
   ]
  },
  {
   "cell_type": "code",
   "execution_count": 81,
   "id": "fa6a6e54",
   "metadata": {},
   "outputs": [],
   "source": [
    "ytest_pred=lr.predict(xtest)"
   ]
  },
  {
   "cell_type": "code",
   "execution_count": 82,
   "id": "a30ae363",
   "metadata": {},
   "outputs": [],
   "source": [
    "ytrain_pred=lr.predict(xtrain)"
   ]
  },
  {
   "cell_type": "markdown",
   "id": "13e6622e",
   "metadata": {},
   "source": [
    "### Checking the accuracy or predicting power of model"
   ]
  },
  {
   "cell_type": "code",
   "execution_count": 83,
   "id": "8ee2b342",
   "metadata": {},
   "outputs": [],
   "source": [
    "from sklearn.metrics import confusion_matrix,f1_score,classification_report\n",
    "from sklearn.metrics import plot_confusion_matrix,ConfusionMatrixDisplay"
   ]
  },
  {
   "cell_type": "code",
   "execution_count": 84,
   "id": "87f86d67",
   "metadata": {},
   "outputs": [
    {
     "data": {
      "image/png": "[encoded data removed]",
      "text/plain": [
       "<Figure size 432x288 with 2 Axes>"
      ]
     },
     "metadata": {
      "needs_background": "light"
     },
     "output_type": "display_data"
    }
   ],
   "source": [
    "plot_confusion_matrix(lr, xtest, ytest, cmap='viridis')\n",
    "plt.show()"
   ]
  },
  {
   "cell_type": "code",
   "execution_count": 85,
   "id": "d9f87df7",
   "metadata": {},
   "outputs": [
    {
     "name": "stdout",
     "output_type": "stream",
     "text": [
      "              precision    recall  f1-score   support\n",
      "\n",
      "     Default       0.60      0.68      0.64    309363\n",
      "  Fully Paid       0.63      0.55      0.59    309402\n",
      "\n",
      "    accuracy                           0.62    618765\n",
      "   macro avg       0.62      0.62      0.62    618765\n",
      "weighted avg       0.62      0.62      0.62    618765\n",
      "\n"
     ]
    }
   ],
   "source": [
    "print(classification_report(ytest,ytest_pred))"
   ]
  },
  {
   "cell_type": "code",
   "execution_count": 86,
   "id": "0d96467b",
   "metadata": {},
   "outputs": [
    {
     "data": {
      "image/png": "[encoded data removed]",
      "text/plain": [
       "<Figure size 432x288 with 2 Axes>"
      ]
     },
     "metadata": {
      "needs_background": "light"
     },
     "output_type": "display_data"
    }
   ],
   "source": [
    "plot_confusion_matrix(lr, xtrain, ytrain, cmap='viridis')\n",
    "plt.show()"
   ]
  },
  {
   "cell_type": "code",
   "execution_count": 87,
   "id": "a49f3ca8",
   "metadata": {},
   "outputs": [
    {
     "name": "stdout",
     "output_type": "stream",
     "text": [
      "              precision    recall  f1-score   support\n",
      "\n",
      "     Default       0.60      0.68      0.64    721912\n",
      "  Fully Paid       0.63      0.55      0.59    721873\n",
      "\n",
      "    accuracy                           0.62   1443785\n",
      "   macro avg       0.62      0.62      0.61   1443785\n",
      "weighted avg       0.62      0.62      0.61   1443785\n",
      "\n"
     ]
    }
   ],
   "source": [
    "print(classification_report(ytrain,ytrain_pred))"
   ]
  },
  {
   "cell_type": "markdown",
   "id": "c4c5d69f",
   "metadata": {},
   "source": [
    "Accuracy of the model doesnt seem high we have to fix it by trying different algoritms"
   ]
  },
  {
   "cell_type": "markdown",
   "id": "2c907307",
   "metadata": {},
   "source": [
    "### Trying out Random Forest"
   ]
  },
  {
   "cell_type": "code",
   "execution_count": 88,
   "id": "957ae7a9",
   "metadata": {},
   "outputs": [],
   "source": [
    "from sklearn.ensemble import RandomForestClassifier "
   ]
  },
  {
   "cell_type": "code",
   "execution_count": 90,
   "id": "a59b3bee",
   "metadata": {},
   "outputs": [],
   "source": [
    "rf=RandomForestClassifier(n_estimators=50,verbose=3)"
   ]
  },
  {
   "cell_type": "code",
   "execution_count": 91,
   "id": "90463cff",
   "metadata": {},
   "outputs": [
    {
     "name": "stderr",
     "output_type": "stream",
     "text": [
      "[Parallel(n_jobs=1)]: Using backend SequentialBackend with 1 concurrent workers.\n"
     ]
    },
    {
     "name": "stdout",
     "output_type": "stream",
     "text": [
      "building tree 1 of 50\n"
     ]
    },
    {
     "name": "stderr",
     "output_type": "stream",
     "text": [
      "[Parallel(n_jobs=1)]: Done   1 out of   1 | elapsed:    3.3s remaining:    0.0s\n"
     ]
    },
    {
     "name": "stdout",
     "output_type": "stream",
     "text": [
      "building tree 2 of 50\n"
     ]
    },
    {
     "name": "stderr",
     "output_type": "stream",
     "text": [
      "[Parallel(n_jobs=1)]: Done   2 out of   2 | elapsed:    6.7s remaining:    0.0s\n"
     ]
    },
    {
     "name": "stdout",
     "output_type": "stream",
     "text": [
      "building tree 3 of 50\n",
      "building tree 4 of 50\n",
      "building tree 5 of 50\n",
      "building tree 6 of 50\n",
      "building tree 7 of 50\n",
      "building tree 8 of 50\n",
      "building tree 9 of 50\n",
      "building tree 10 of 50\n",
      "building tree 11 of 50\n",
      "building tree 12 of 50\n",
      "building tree 13 of 50\n",
      "building tree 14 of 50\n",
      "building tree 15 of 50\n",
      "building tree 16 of 50\n",
      "building tree 17 of 50\n",
      "building tree 18 of 50\n",
      "building tree 19 of 50\n",
      "building tree 20 of 50\n",
      "building tree 21 of 50\n",
      "building tree 22 of 50\n",
      "building tree 23 of 50\n",
      "building tree 24 of 50\n",
      "building tree 25 of 50\n",
      "building tree 26 of 50\n",
      "building tree 27 of 50\n",
      "building tree 28 of 50\n",
      "building tree 29 of 50\n",
      "building tree 30 of 50\n",
      "building tree 31 of 50\n",
      "building tree 32 of 50\n",
      "building tree 33 of 50\n",
      "building tree 34 of 50\n",
      "building tree 35 of 50\n",
      "building tree 36 of 50\n",
      "building tree 37 of 50\n",
      "building tree 38 of 50\n",
      "building tree 39 of 50\n",
      "building tree 40 of 50\n",
      "building tree 41 of 50\n",
      "building tree 42 of 50\n",
      "building tree 43 of 50\n",
      "building tree 44 of 50\n",
      "building tree 45 of 50\n",
      "building tree 46 of 50\n",
      "building tree 47 of 50\n",
      "building tree 48 of 50\n",
      "building tree 49 of 50\n",
      "building tree 50 of 50\n"
     ]
    },
    {
     "name": "stderr",
     "output_type": "stream",
     "text": [
      "[Parallel(n_jobs=1)]: Done  50 out of  50 | elapsed:  3.0min finished\n"
     ]
    },
    {
     "data": {
      "text/html": [
       "<style>#sk-container-id-2 {color: black;background-color: white;}#sk-container-id-2 pre{padding: 0;}#sk-container-id-2 div.sk-toggleable {background-color: white;}#sk-container-id-2 label.sk-toggleable__label {cursor: pointer;display: block;width: 100%;margin-bottom: 0;padding: 0.3em;box-sizing: border-box;text-align: center;}#sk-container-id-2 label.sk-toggleable__label-arrow:before {content: \"▸\";float: left;margin-right: 0.25em;color: #696969;}#sk-container-id-2 label.sk-toggleable__label-arrow:hover:before {color: black;}#sk-container-id-2 div.sk-estimator:hover label.sk-toggleable__label-arrow:before {color: black;}#sk-container-id-2 div.sk-toggleable__content {max-height: 0;max-width: 0;overflow: hidden;text-align: left;background-color: #f0f8ff;}#sk-container-id-2 div.sk-toggleable__content pre {margin: 0.2em;color: black;border-radius: 0.25em;background-color: #f0f8ff;}#sk-container-id-2 input.sk-toggleable__control:checked~div.sk-toggleable__content {max-height: 200px;max-width: 100%;overflow: auto;}#sk-container-id-2 input.sk-toggleable__control:checked~label.sk-toggleable__label-arrow:before {content: \"▾\";}#sk-container-id-2 div.sk-estimator input.sk-toggleable__control:checked~label.sk-toggleable__label {background-color: #d4ebff;}#sk-container-id-2 div.sk-label input.sk-toggleable__control:checked~label.sk-toggleable__label {background-color: #d4ebff;}#sk-container-id-2 input.sk-hidden--visually {border: 0;clip: rect(1px 1px 1px 1px);clip: rect(1px, 1px, 1px, 1px);height: 1px;margin: -1px;overflow: hidden;padding: 0;position: absolute;width: 1px;}#sk-container-id-2 div.sk-estimator {font-family: monospace;background-color: #f0f8ff;border: 1px dotted black;border-radius: 0.25em;box-sizing: border-box;margin-bottom: 0.5em;}#sk-container-id-2 div.sk-estimator:hover {background-color: #d4ebff;}#sk-container-id-2 div.sk-parallel-item::after {content: \"\";width: 100%;border-bottom: 1px solid gray;flex-grow: 1;}#sk-container-id-2 div.sk-label:hover label.sk-toggleable__label {background-color: #d4ebff;}#sk-container-id-2 div.sk-serial::before {content: \"\";position: absolute;border-left: 1px solid gray;box-sizing: border-box;top: 0;bottom: 0;left: 50%;z-index: 0;}#sk-container-id-2 div.sk-serial {display: flex;flex-direction: column;align-items: center;background-color: white;padding-right: 0.2em;padding-left: 0.2em;position: relative;}#sk-container-id-2 div.sk-item {position: relative;z-index: 1;}#sk-container-id-2 div.sk-parallel {display: flex;align-items: stretch;justify-content: center;background-color: white;position: relative;}#sk-container-id-2 div.sk-item::before, #sk-container-id-2 div.sk-parallel-item::before {content: \"\";position: absolute;border-left: 1px solid gray;box-sizing: border-box;top: 0;bottom: 0;left: 50%;z-index: -1;}#sk-container-id-2 div.sk-parallel-item {display: flex;flex-direction: column;z-index: 1;position: relative;background-color: white;}#sk-container-id-2 div.sk-parallel-item:first-child::after {align-self: flex-end;width: 50%;}#sk-container-id-2 div.sk-parallel-item:last-child::after {align-self: flex-start;width: 50%;}#sk-container-id-2 div.sk-parallel-item:only-child::after {width: 0;}#sk-container-id-2 div.sk-dashed-wrapped {border: 1px dashed gray;margin: 0 0.4em 0.5em 0.4em;box-sizing: border-box;padding-bottom: 0.4em;background-color: white;}#sk-container-id-2 div.sk-label label {font-family: monospace;font-weight: bold;display: inline-block;line-height: 1.2em;}#sk-container-id-2 div.sk-label-container {text-align: center;}#sk-container-id-2 div.sk-container {/* jupyter's `normalize.less` sets `[hidden] { display: none; }` but bootstrap.min.css set `[hidden] { display: none !important; }` so we also need the `!important` here to be able to override the default hidden behavior on the sphinx rendered scikit-learn.org. See: https://github.com/scikit-learn/scikit-learn/issues/21755 */display: inline-block !important;position: relative;}#sk-container-id-2 div.sk-text-repr-fallback {display: none;}</style><div id=\"sk-container-id-2\" class=\"sk-top-container\"><div class=\"sk-text-repr-fallback\"><pre>RandomForestClassifier(n_estimators=50, verbose=3)</pre><b>In a Jupyter environment, please rerun this cell to show the HTML representation or trust the notebook. <br />On GitHub, the HTML representation is unable to render, please try loading this page with nbviewer.org.</b></div><div class=\"sk-container\" hidden><div class=\"sk-item\"><div class=\"sk-estimator sk-toggleable\"><input class=\"sk-toggleable__control sk-hidden--visually\" id=\"sk-estimator-id-2\" type=\"checkbox\" checked><label for=\"sk-estimator-id-2\" class=\"sk-toggleable__label sk-toggleable__label-arrow\">RandomForestClassifier</label><div class=\"sk-toggleable__content\"><pre>RandomForestClassifier(n_estimators=50, verbose=3)</pre></div></div></div></div></div>"
      ],
      "text/plain": [
       "RandomForestClassifier(n_estimators=50, verbose=3)"
      ]
     },
     "execution_count": 91,
     "metadata": {},
     "output_type": "execute_result"
    }
   ],
   "source": [
    "rf.fit(xtrain,ytrain)"
   ]
  },
  {
   "cell_type": "code",
   "execution_count": 92,
   "id": "727c8a5e",
   "metadata": {},
   "outputs": [
    {
     "name": "stderr",
     "output_type": "stream",
     "text": [
      "[Parallel(n_jobs=1)]: Using backend SequentialBackend with 1 concurrent workers.\n",
      "[Parallel(n_jobs=1)]: Done   1 out of   1 | elapsed:    0.2s remaining:    0.0s\n",
      "[Parallel(n_jobs=1)]: Done   2 out of   2 | elapsed:    0.4s remaining:    0.0s\n",
      "[Parallel(n_jobs=1)]: Done  50 out of  50 | elapsed:   12.6s finished\n"
     ]
    }
   ],
   "source": [
    "ytest_pred=rf.predict(xtest)"
   ]
  },
  {
   "cell_type": "code",
   "execution_count": 93,
   "id": "f2934e8b",
   "metadata": {},
   "outputs": [
    {
     "data": {
      "text/plain": [
       "array([[236787,  72576],\n",
       "       [ 17611, 291791]], dtype=int64)"
      ]
     },
     "execution_count": 93,
     "metadata": {},
     "output_type": "execute_result"
    }
   ],
   "source": [
    "confusion_matrix(ytest,ytest_pred)"
   ]
  },
  {
   "cell_type": "code",
   "execution_count": 94,
   "id": "0e1cdec4",
   "metadata": {},
   "outputs": [
    {
     "name": "stdout",
     "output_type": "stream",
     "text": [
      "              precision    recall  f1-score   support\n",
      "\n",
      "     Default       0.93      0.77      0.84    309363\n",
      "  Fully Paid       0.80      0.94      0.87    309402\n",
      "\n",
      "    accuracy                           0.85    618765\n",
      "   macro avg       0.87      0.85      0.85    618765\n",
      "weighted avg       0.87      0.85      0.85    618765\n",
      "\n"
     ]
    }
   ],
   "source": [
    "print(classification_report(ytest,ytest_pred))"
   ]
  },
  {
   "cell_type": "code",
   "execution_count": 95,
   "id": "51d67c9a",
   "metadata": {},
   "outputs": [
    {
     "name": "stderr",
     "output_type": "stream",
     "text": [
      "[Parallel(n_jobs=1)]: Using backend SequentialBackend with 1 concurrent workers.\n",
      "[Parallel(n_jobs=1)]: Done   1 out of   1 | elapsed:    0.5s remaining:    0.0s\n",
      "[Parallel(n_jobs=1)]: Done   2 out of   2 | elapsed:    1.1s remaining:    0.0s\n",
      "[Parallel(n_jobs=1)]: Done  50 out of  50 | elapsed:   29.9s finished\n"
     ]
    }
   ],
   "source": [
    "ytrain_pred=rf.predict(xtrain)"
   ]
  },
  {
   "cell_type": "code",
   "execution_count": 96,
   "id": "ed9c9ff6",
   "metadata": {},
   "outputs": [
    {
     "data": {
      "text/plain": [
       "array([[721704,    208],\n",
       "       [     5, 721868]], dtype=int64)"
      ]
     },
     "execution_count": 96,
     "metadata": {},
     "output_type": "execute_result"
    }
   ],
   "source": [
    "confusion_matrix(ytrain,ytrain_pred)"
   ]
  },
  {
   "cell_type": "code",
   "execution_count": 97,
   "id": "99fa6c61",
   "metadata": {},
   "outputs": [
    {
     "name": "stdout",
     "output_type": "stream",
     "text": [
      "              precision    recall  f1-score   support\n",
      "\n",
      "     Default       1.00      1.00      1.00    721912\n",
      "  Fully Paid       1.00      1.00      1.00    721873\n",
      "\n",
      "    accuracy                           1.00   1443785\n",
      "   macro avg       1.00      1.00      1.00   1443785\n",
      "weighted avg       1.00      1.00      1.00   1443785\n",
      "\n"
     ]
    }
   ],
   "source": [
    "print(classification_report(ytrain,ytrain_pred))"
   ]
  },
  {
   "cell_type": "markdown",
   "id": "a179ee06",
   "metadata": {},
   "source": [
    "### Seems like we have to increase the predicting power of the model"
   ]
  },
  {
   "cell_type": "markdown",
   "id": "5a09a263",
   "metadata": {},
   "source": [
    "We can use boosting techniques for that :\n",
    "1. AdaBoost (Adaptive Boosting)\n",
    "2. Gradient Tree Boosting\n",
    "3. XGBoost"
   ]
  },
  {
   "cell_type": "markdown",
   "id": "774bbbc5",
   "metadata": {},
   "source": [
    "### Adaboost"
   ]
  },
  {
   "cell_type": "code",
   "execution_count": 98,
   "id": "53553297",
   "metadata": {},
   "outputs": [],
   "source": [
    "from sklearn.ensemble import AdaBoostClassifier"
   ]
  },
  {
   "cell_type": "code",
   "execution_count": 99,
   "id": "aac09f5a",
   "metadata": {},
   "outputs": [],
   "source": [
    "abc=AdaBoostClassifier(n_estimators=100,random_state=0)"
   ]
  },
  {
   "cell_type": "code",
   "execution_count": 100,
   "id": "3426ebad",
   "metadata": {},
   "outputs": [
    {
     "data": {
      "text/html": [
       "<style>#sk-container-id-3 {color: black;background-color: white;}#sk-container-id-3 pre{padding: 0;}#sk-container-id-3 div.sk-toggleable {background-color: white;}#sk-container-id-3 label.sk-toggleable__label {cursor: pointer;display: block;width: 100%;margin-bottom: 0;padding: 0.3em;box-sizing: border-box;text-align: center;}#sk-container-id-3 label.sk-toggleable__label-arrow:before {content: \"▸\";float: left;margin-right: 0.25em;color: #696969;}#sk-container-id-3 label.sk-toggleable__label-arrow:hover:before {color: black;}#sk-container-id-3 div.sk-estimator:hover label.sk-toggleable__label-arrow:before {color: black;}#sk-container-id-3 div.sk-toggleable__content {max-height: 0;max-width: 0;overflow: hidden;text-align: left;background-color: #f0f8ff;}#sk-container-id-3 div.sk-toggleable__content pre {margin: 0.2em;color: black;border-radius: 0.25em;background-color: #f0f8ff;}#sk-container-id-3 input.sk-toggleable__control:checked~div.sk-toggleable__content {max-height: 200px;max-width: 100%;overflow: auto;}#sk-container-id-3 input.sk-toggleable__control:checked~label.sk-toggleable__label-arrow:before {content: \"▾\";}#sk-container-id-3 div.sk-estimator input.sk-toggleable__control:checked~label.sk-toggleable__label {background-color: #d4ebff;}#sk-container-id-3 div.sk-label input.sk-toggleable__control:checked~label.sk-toggleable__label {background-color: #d4ebff;}#sk-container-id-3 input.sk-hidden--visually {border: 0;clip: rect(1px 1px 1px 1px);clip: rect(1px, 1px, 1px, 1px);height: 1px;margin: -1px;overflow: hidden;padding: 0;position: absolute;width: 1px;}#sk-container-id-3 div.sk-estimator {font-family: monospace;background-color: #f0f8ff;border: 1px dotted black;border-radius: 0.25em;box-sizing: border-box;margin-bottom: 0.5em;}#sk-container-id-3 div.sk-estimator:hover {background-color: #d4ebff;}#sk-container-id-3 div.sk-parallel-item::after {content: \"\";width: 100%;border-bottom: 1px solid gray;flex-grow: 1;}#sk-container-id-3 div.sk-label:hover label.sk-toggleable__label {background-color: #d4ebff;}#sk-container-id-3 div.sk-serial::before {content: \"\";position: absolute;border-left: 1px solid gray;box-sizing: border-box;top: 0;bottom: 0;left: 50%;z-index: 0;}#sk-container-id-3 div.sk-serial {display: flex;flex-direction: column;align-items: center;background-color: white;padding-right: 0.2em;padding-left: 0.2em;position: relative;}#sk-container-id-3 div.sk-item {position: relative;z-index: 1;}#sk-container-id-3 div.sk-parallel {display: flex;align-items: stretch;justify-content: center;background-color: white;position: relative;}#sk-container-id-3 div.sk-item::before, #sk-container-id-3 div.sk-parallel-item::before {content: \"\";position: absolute;border-left: 1px solid gray;box-sizing: border-box;top: 0;bottom: 0;left: 50%;z-index: -1;}#sk-container-id-3 div.sk-parallel-item {display: flex;flex-direction: column;z-index: 1;position: relative;background-color: white;}#sk-container-id-3 div.sk-parallel-item:first-child::after {align-self: flex-end;width: 50%;}#sk-container-id-3 div.sk-parallel-item:last-child::after {align-self: flex-start;width: 50%;}#sk-container-id-3 div.sk-parallel-item:only-child::after {width: 0;}#sk-container-id-3 div.sk-dashed-wrapped {border: 1px dashed gray;margin: 0 0.4em 0.5em 0.4em;box-sizing: border-box;padding-bottom: 0.4em;background-color: white;}#sk-container-id-3 div.sk-label label {font-family: monospace;font-weight: bold;display: inline-block;line-height: 1.2em;}#sk-container-id-3 div.sk-label-container {text-align: center;}#sk-container-id-3 div.sk-container {/* jupyter's `normalize.less` sets `[hidden] { display: none; }` but bootstrap.min.css set `[hidden] { display: none !important; }` so we also need the `!important` here to be able to override the default hidden behavior on the sphinx rendered scikit-learn.org. See: https://github.com/scikit-learn/scikit-learn/issues/21755 */display: inline-block !important;position: relative;}#sk-container-id-3 div.sk-text-repr-fallback {display: none;}</style><div id=\"sk-container-id-3\" class=\"sk-top-container\"><div class=\"sk-text-repr-fallback\"><pre>AdaBoostClassifier(n_estimators=100, random_state=0)</pre><b>In a Jupyter environment, please rerun this cell to show the HTML representation or trust the notebook. <br />On GitHub, the HTML representation is unable to render, please try loading this page with nbviewer.org.</b></div><div class=\"sk-container\" hidden><div class=\"sk-item\"><div class=\"sk-estimator sk-toggleable\"><input class=\"sk-toggleable__control sk-hidden--visually\" id=\"sk-estimator-id-3\" type=\"checkbox\" checked><label for=\"sk-estimator-id-3\" class=\"sk-toggleable__label sk-toggleable__label-arrow\">AdaBoostClassifier</label><div class=\"sk-toggleable__content\"><pre>AdaBoostClassifier(n_estimators=100, random_state=0)</pre></div></div></div></div></div>"
      ],
      "text/plain": [
       "AdaBoostClassifier(n_estimators=100, random_state=0)"
      ]
     },
     "execution_count": 100,
     "metadata": {},
     "output_type": "execute_result"
    }
   ],
   "source": [
    "abc.fit(xtrain,ytrain)"
   ]
  },
  {
   "cell_type": "code",
   "execution_count": 101,
   "id": "2111ccaa",
   "metadata": {},
   "outputs": [],
   "source": [
    "ytest_pred=abc.predict(xtest)"
   ]
  },
  {
   "cell_type": "code",
   "execution_count": 102,
   "id": "1163926a",
   "metadata": {},
   "outputs": [
    {
     "data": {
      "text/plain": [
       "array([[230725,  78638],\n",
       "       [ 15675, 293727]], dtype=int64)"
      ]
     },
     "execution_count": 102,
     "metadata": {},
     "output_type": "execute_result"
    }
   ],
   "source": [
    "confusion_matrix(ytest,ytest_pred)"
   ]
  },
  {
   "cell_type": "code",
   "execution_count": 103,
   "id": "1a3a7c49",
   "metadata": {},
   "outputs": [
    {
     "name": "stdout",
     "output_type": "stream",
     "text": [
      "              precision    recall  f1-score   support\n",
      "\n",
      "     Default       0.94      0.75      0.83    309363\n",
      "  Fully Paid       0.79      0.95      0.86    309402\n",
      "\n",
      "    accuracy                           0.85    618765\n",
      "   macro avg       0.86      0.85      0.85    618765\n",
      "weighted avg       0.86      0.85      0.85    618765\n",
      "\n"
     ]
    }
   ],
   "source": [
    "print(classification_report(ytest,ytest_pred))"
   ]
  },
  {
   "cell_type": "code",
   "execution_count": 104,
   "id": "9de7bd62",
   "metadata": {},
   "outputs": [],
   "source": [
    "ytrain_pred=abc.predict(xtrain)"
   ]
  },
  {
   "cell_type": "code",
   "execution_count": 105,
   "id": "377967f9",
   "metadata": {},
   "outputs": [
    {
     "data": {
      "text/plain": [
       "array([[538782, 183130],\n",
       "       [ 37007, 684866]], dtype=int64)"
      ]
     },
     "execution_count": 105,
     "metadata": {},
     "output_type": "execute_result"
    }
   ],
   "source": [
    "confusion_matrix(ytrain,ytrain_pred)"
   ]
  },
  {
   "cell_type": "code",
   "execution_count": 106,
   "id": "1c843756",
   "metadata": {},
   "outputs": [
    {
     "name": "stdout",
     "output_type": "stream",
     "text": [
      "              precision    recall  f1-score   support\n",
      "\n",
      "     Default       0.94      0.75      0.83    721912\n",
      "  Fully Paid       0.79      0.95      0.86    721873\n",
      "\n",
      "    accuracy                           0.85   1443785\n",
      "   macro avg       0.86      0.85      0.85   1443785\n",
      "weighted avg       0.86      0.85      0.85   1443785\n",
      "\n"
     ]
    }
   ],
   "source": [
    "print(classification_report(ytrain,ytrain_pred))"
   ]
  },
  {
   "cell_type": "markdown",
   "id": "01ca9f5a",
   "metadata": {},
   "source": [
    "### Gradient Boosting"
   ]
  },
  {
   "cell_type": "code",
   "execution_count": 107,
   "id": "a7ac117d",
   "metadata": {},
   "outputs": [],
   "source": [
    "from sklearn.ensemble import GradientBoostingClassifier"
   ]
  },
  {
   "cell_type": "code",
   "execution_count": 108,
   "id": "f11bc9d8",
   "metadata": {},
   "outputs": [],
   "source": [
    "clf = GradientBoostingClassifier(n_estimators=100, learning_rate=1.0, max_depth=1)"
   ]
  },
  {
   "cell_type": "code",
   "execution_count": 109,
   "id": "c877e7de",
   "metadata": {},
   "outputs": [
    {
     "data": {
      "text/html": [
       "<style>#sk-container-id-4 {color: black;background-color: white;}#sk-container-id-4 pre{padding: 0;}#sk-container-id-4 div.sk-toggleable {background-color: white;}#sk-container-id-4 label.sk-toggleable__label {cursor: pointer;display: block;width: 100%;margin-bottom: 0;padding: 0.3em;box-sizing: border-box;text-align: center;}#sk-container-id-4 label.sk-toggleable__label-arrow:before {content: \"▸\";float: left;margin-right: 0.25em;color: #696969;}#sk-container-id-4 label.sk-toggleable__label-arrow:hover:before {color: black;}#sk-container-id-4 div.sk-estimator:hover label.sk-toggleable__label-arrow:before {color: black;}#sk-container-id-4 div.sk-toggleable__content {max-height: 0;max-width: 0;overflow: hidden;text-align: left;background-color: #f0f8ff;}#sk-container-id-4 div.sk-toggleable__content pre {margin: 0.2em;color: black;border-radius: 0.25em;background-color: #f0f8ff;}#sk-container-id-4 input.sk-toggleable__control:checked~div.sk-toggleable__content {max-height: 200px;max-width: 100%;overflow: auto;}#sk-container-id-4 input.sk-toggleable__control:checked~label.sk-toggleable__label-arrow:before {content: \"▾\";}#sk-container-id-4 div.sk-estimator input.sk-toggleable__control:checked~label.sk-toggleable__label {background-color: #d4ebff;}#sk-container-id-4 div.sk-label input.sk-toggleable__control:checked~label.sk-toggleable__label {background-color: #d4ebff;}#sk-container-id-4 input.sk-hidden--visually {border: 0;clip: rect(1px 1px 1px 1px);clip: rect(1px, 1px, 1px, 1px);height: 1px;margin: -1px;overflow: hidden;padding: 0;position: absolute;width: 1px;}#sk-container-id-4 div.sk-estimator {font-family: monospace;background-color: #f0f8ff;border: 1px dotted black;border-radius: 0.25em;box-sizing: border-box;margin-bottom: 0.5em;}#sk-container-id-4 div.sk-estimator:hover {background-color: #d4ebff;}#sk-container-id-4 div.sk-parallel-item::after {content: \"\";width: 100%;border-bottom: 1px solid gray;flex-grow: 1;}#sk-container-id-4 div.sk-label:hover label.sk-toggleable__label {background-color: #d4ebff;}#sk-container-id-4 div.sk-serial::before {content: \"\";position: absolute;border-left: 1px solid gray;box-sizing: border-box;top: 0;bottom: 0;left: 50%;z-index: 0;}#sk-container-id-4 div.sk-serial {display: flex;flex-direction: column;align-items: center;background-color: white;padding-right: 0.2em;padding-left: 0.2em;position: relative;}#sk-container-id-4 div.sk-item {position: relative;z-index: 1;}#sk-container-id-4 div.sk-parallel {display: flex;align-items: stretch;justify-content: center;background-color: white;position: relative;}#sk-container-id-4 div.sk-item::before, #sk-container-id-4 div.sk-parallel-item::before {content: \"\";position: absolute;border-left: 1px solid gray;box-sizing: border-box;top: 0;bottom: 0;left: 50%;z-index: -1;}#sk-container-id-4 div.sk-parallel-item {display: flex;flex-direction: column;z-index: 1;position: relative;background-color: white;}#sk-container-id-4 div.sk-parallel-item:first-child::after {align-self: flex-end;width: 50%;}#sk-container-id-4 div.sk-parallel-item:last-child::after {align-self: flex-start;width: 50%;}#sk-container-id-4 div.sk-parallel-item:only-child::after {width: 0;}#sk-container-id-4 div.sk-dashed-wrapped {border: 1px dashed gray;margin: 0 0.4em 0.5em 0.4em;box-sizing: border-box;padding-bottom: 0.4em;background-color: white;}#sk-container-id-4 div.sk-label label {font-family: monospace;font-weight: bold;display: inline-block;line-height: 1.2em;}#sk-container-id-4 div.sk-label-container {text-align: center;}#sk-container-id-4 div.sk-container {/* jupyter's `normalize.less` sets `[hidden] { display: none; }` but bootstrap.min.css set `[hidden] { display: none !important; }` so we also need the `!important` here to be able to override the default hidden behavior on the sphinx rendered scikit-learn.org. See: https://github.com/scikit-learn/scikit-learn/issues/21755 */display: inline-block !important;position: relative;}#sk-container-id-4 div.sk-text-repr-fallback {display: none;}</style><div id=\"sk-container-id-4\" class=\"sk-top-container\"><div class=\"sk-text-repr-fallback\"><pre>GradientBoostingClassifier(learning_rate=1.0, max_depth=1)</pre><b>In a Jupyter environment, please rerun this cell to show the HTML representation or trust the notebook. <br />On GitHub, the HTML representation is unable to render, please try loading this page with nbviewer.org.</b></div><div class=\"sk-container\" hidden><div class=\"sk-item\"><div class=\"sk-estimator sk-toggleable\"><input class=\"sk-toggleable__control sk-hidden--visually\" id=\"sk-estimator-id-4\" type=\"checkbox\" checked><label for=\"sk-estimator-id-4\" class=\"sk-toggleable__label sk-toggleable__label-arrow\">GradientBoostingClassifier</label><div class=\"sk-toggleable__content\"><pre>GradientBoostingClassifier(learning_rate=1.0, max_depth=1)</pre></div></div></div></div></div>"
      ],
      "text/plain": [
       "GradientBoostingClassifier(learning_rate=1.0, max_depth=1)"
      ]
     },
     "execution_count": 109,
     "metadata": {},
     "output_type": "execute_result"
    }
   ],
   "source": [
    "clf.fit(xtrain, ytrain)"
   ]
  },
  {
   "cell_type": "code",
   "execution_count": 110,
   "id": "98c418eb",
   "metadata": {},
   "outputs": [],
   "source": [
    "ytest_pred=clf.predict(xtest)"
   ]
  },
  {
   "cell_type": "code",
   "execution_count": 111,
   "id": "5af463a2",
   "metadata": {},
   "outputs": [
    {
     "data": {
      "text/plain": [
       "array([[226114,  83249],\n",
       "       [ 11137, 298265]], dtype=int64)"
      ]
     },
     "execution_count": 111,
     "metadata": {},
     "output_type": "execute_result"
    }
   ],
   "source": [
    "confusion_matrix(ytest,ytest_pred)"
   ]
  },
  {
   "cell_type": "code",
   "execution_count": 112,
   "id": "67b34b9a",
   "metadata": {},
   "outputs": [
    {
     "name": "stdout",
     "output_type": "stream",
     "text": [
      "              precision    recall  f1-score   support\n",
      "\n",
      "     Default       0.95      0.73      0.83    309363\n",
      "  Fully Paid       0.78      0.96      0.86    309402\n",
      "\n",
      "    accuracy                           0.85    618765\n",
      "   macro avg       0.87      0.85      0.85    618765\n",
      "weighted avg       0.87      0.85      0.85    618765\n",
      "\n"
     ]
    }
   ],
   "source": [
    "print(classification_report(ytest,ytest_pred))"
   ]
  },
  {
   "cell_type": "code",
   "execution_count": 113,
   "id": "c17cb03c",
   "metadata": {},
   "outputs": [],
   "source": [
    "ytrain_pred=clf.predict(xtrain)"
   ]
  },
  {
   "cell_type": "code",
   "execution_count": 114,
   "id": "aec0a2a7",
   "metadata": {},
   "outputs": [
    {
     "data": {
      "text/plain": [
       "array([[527947, 193965],\n",
       "       [ 26163, 695710]], dtype=int64)"
      ]
     },
     "execution_count": 114,
     "metadata": {},
     "output_type": "execute_result"
    }
   ],
   "source": [
    "confusion_matrix(ytrain,ytrain_pred)"
   ]
  },
  {
   "cell_type": "code",
   "execution_count": 115,
   "id": "9f47a612",
   "metadata": {},
   "outputs": [
    {
     "name": "stdout",
     "output_type": "stream",
     "text": [
      "              precision    recall  f1-score   support\n",
      "\n",
      "     Default       0.95      0.73      0.83    721912\n",
      "  Fully Paid       0.78      0.96      0.86    721873\n",
      "\n",
      "    accuracy                           0.85   1443785\n",
      "   macro avg       0.87      0.85      0.85   1443785\n",
      "weighted avg       0.87      0.85      0.85   1443785\n",
      "\n"
     ]
    }
   ],
   "source": [
    "print(classification_report(ytrain,ytrain_pred))"
   ]
  },
  {
   "cell_type": "markdown",
   "id": "7f4f349a",
   "metadata": {},
   "source": [
    "### XG Boost"
   ]
  },
  {
   "cell_type": "code",
   "execution_count": 116,
   "id": "bdcf0c3a",
   "metadata": {},
   "outputs": [],
   "source": [
    "from xgboost import XGBClassifier"
   ]
  },
  {
   "cell_type": "code",
   "execution_count": 117,
   "id": "ea91cdcc",
   "metadata": {},
   "outputs": [],
   "source": [
    "xg = XGBClassifier(tree_method='gpu_hist')"
   ]
  },
  {
   "cell_type": "code",
   "execution_count": 118,
   "id": "214ae922",
   "metadata": {},
   "outputs": [],
   "source": [
    "yt = np.where(ytrain=='Default',0,1)"
   ]
  },
  {
   "cell_type": "code",
   "execution_count": 119,
   "id": "c14e3c77",
   "metadata": {},
   "outputs": [],
   "source": [
    "yts=np.where(ytest=='Default',0,1)"
   ]
  },
  {
   "cell_type": "code",
   "execution_count": 120,
   "id": "5ed9b48f",
   "metadata": {},
   "outputs": [
    {
     "data": {
      "text/html": [
       "<style>#sk-container-id-5 {color: black;background-color: white;}#sk-container-id-5 pre{padding: 0;}#sk-container-id-5 div.sk-toggleable {background-color: white;}#sk-container-id-5 label.sk-toggleable__label {cursor: pointer;display: block;width: 100%;margin-bottom: 0;padding: 0.3em;box-sizing: border-box;text-align: center;}#sk-container-id-5 label.sk-toggleable__label-arrow:before {content: \"▸\";float: left;margin-right: 0.25em;color: #696969;}#sk-container-id-5 label.sk-toggleable__label-arrow:hover:before {color: black;}#sk-container-id-5 div.sk-estimator:hover label.sk-toggleable__label-arrow:before {color: black;}#sk-container-id-5 div.sk-toggleable__content {max-height: 0;max-width: 0;overflow: hidden;text-align: left;background-color: #f0f8ff;}#sk-container-id-5 div.sk-toggleable__content pre {margin: 0.2em;color: black;border-radius: 0.25em;background-color: #f0f8ff;}#sk-container-id-5 input.sk-toggleable__control:checked~div.sk-toggleable__content {max-height: 200px;max-width: 100%;overflow: auto;}#sk-container-id-5 input.sk-toggleable__control:checked~label.sk-toggleable__label-arrow:before {content: \"▾\";}#sk-container-id-5 div.sk-estimator input.sk-toggleable__control:checked~label.sk-toggleable__label {background-color: #d4ebff;}#sk-container-id-5 div.sk-label input.sk-toggleable__control:checked~label.sk-toggleable__label {background-color: #d4ebff;}#sk-container-id-5 input.sk-hidden--visually {border: 0;clip: rect(1px 1px 1px 1px);clip: rect(1px, 1px, 1px, 1px);height: 1px;margin: -1px;overflow: hidden;padding: 0;position: absolute;width: 1px;}#sk-container-id-5 div.sk-estimator {font-family: monospace;background-color: #f0f8ff;border: 1px dotted black;border-radius: 0.25em;box-sizing: border-box;margin-bottom: 0.5em;}#sk-container-id-5 div.sk-estimator:hover {background-color: #d4ebff;}#sk-container-id-5 div.sk-parallel-item::after {content: \"\";width: 100%;border-bottom: 1px solid gray;flex-grow: 1;}#sk-container-id-5 div.sk-label:hover label.sk-toggleable__label {background-color: #d4ebff;}#sk-container-id-5 div.sk-serial::before {content: \"\";position: absolute;border-left: 1px solid gray;box-sizing: border-box;top: 0;bottom: 0;left: 50%;z-index: 0;}#sk-container-id-5 div.sk-serial {display: flex;flex-direction: column;align-items: center;background-color: white;padding-right: 0.2em;padding-left: 0.2em;position: relative;}#sk-container-id-5 div.sk-item {position: relative;z-index: 1;}#sk-container-id-5 div.sk-parallel {display: flex;align-items: stretch;justify-content: center;background-color: white;position: relative;}#sk-container-id-5 div.sk-item::before, #sk-container-id-5 div.sk-parallel-item::before {content: \"\";position: absolute;border-left: 1px solid gray;box-sizing: border-box;top: 0;bottom: 0;left: 50%;z-index: -1;}#sk-container-id-5 div.sk-parallel-item {display: flex;flex-direction: column;z-index: 1;position: relative;background-color: white;}#sk-container-id-5 div.sk-parallel-item:first-child::after {align-self: flex-end;width: 50%;}#sk-container-id-5 div.sk-parallel-item:last-child::after {align-self: flex-start;width: 50%;}#sk-container-id-5 div.sk-parallel-item:only-child::after {width: 0;}#sk-container-id-5 div.sk-dashed-wrapped {border: 1px dashed gray;margin: 0 0.4em 0.5em 0.4em;box-sizing: border-box;padding-bottom: 0.4em;background-color: white;}#sk-container-id-5 div.sk-label label {font-family: monospace;font-weight: bold;display: inline-block;line-height: 1.2em;}#sk-container-id-5 div.sk-label-container {text-align: center;}#sk-container-id-5 div.sk-container {/* jupyter's `normalize.less` sets `[hidden] { display: none; }` but bootstrap.min.css set `[hidden] { display: none !important; }` so we also need the `!important` here to be able to override the default hidden behavior on the sphinx rendered scikit-learn.org. See: https://github.com/scikit-learn/scikit-learn/issues/21755 */display: inline-block !important;position: relative;}#sk-container-id-5 div.sk-text-repr-fallback {display: none;}</style><div id=\"sk-container-id-5\" class=\"sk-top-container\"><div class=\"sk-text-repr-fallback\"><pre>XGBClassifier(base_score=0.5, booster=&#x27;gbtree&#x27;, callbacks=None,\n",
       "              colsample_bylevel=1, colsample_bynode=1, colsample_bytree=1,\n",
       "              early_stopping_rounds=None, enable_categorical=False,\n",
       "              eval_metric=None, gamma=0, gpu_id=0, grow_policy=&#x27;depthwise&#x27;,\n",
       "              importance_type=None, interaction_constraints=&#x27;&#x27;,\n",
       "              learning_rate=0.300000012, max_bin=256, max_cat_to_onehot=4,\n",
       "              max_delta_step=0, max_depth=6, max_leaves=0, min_child_weight=1,\n",
       "              missing=nan, monotone_constraints=&#x27;()&#x27;, n_estimators=100,\n",
       "              n_jobs=0, num_parallel_tree=1, predictor=&#x27;auto&#x27;, random_state=0,\n",
       "              reg_alpha=0, reg_lambda=1, ...)</pre><b>In a Jupyter environment, please rerun this cell to show the HTML representation or trust the notebook. <br />On GitHub, the HTML representation is unable to render, please try loading this page with nbviewer.org.</b></div><div class=\"sk-container\" hidden><div class=\"sk-item\"><div class=\"sk-estimator sk-toggleable\"><input class=\"sk-toggleable__control sk-hidden--visually\" id=\"sk-estimator-id-5\" type=\"checkbox\" checked><label for=\"sk-estimator-id-5\" class=\"sk-toggleable__label sk-toggleable__label-arrow\">XGBClassifier</label><div class=\"sk-toggleable__content\"><pre>XGBClassifier(base_score=0.5, booster=&#x27;gbtree&#x27;, callbacks=None,\n",
       "              colsample_bylevel=1, colsample_bynode=1, colsample_bytree=1,\n",
       "              early_stopping_rounds=None, enable_categorical=False,\n",
       "              eval_metric=None, gamma=0, gpu_id=0, grow_policy=&#x27;depthwise&#x27;,\n",
       "              importance_type=None, interaction_constraints=&#x27;&#x27;,\n",
       "              learning_rate=0.300000012, max_bin=256, max_cat_to_onehot=4,\n",
       "              max_delta_step=0, max_depth=6, max_leaves=0, min_child_weight=1,\n",
       "              missing=nan, monotone_constraints=&#x27;()&#x27;, n_estimators=100,\n",
       "              n_jobs=0, num_parallel_tree=1, predictor=&#x27;auto&#x27;, random_state=0,\n",
       "              reg_alpha=0, reg_lambda=1, ...)</pre></div></div></div></div></div>"
      ],
      "text/plain": [
       "XGBClassifier(base_score=0.5, booster='gbtree', callbacks=None,\n",
       "              colsample_bylevel=1, colsample_bynode=1, colsample_bytree=1,\n",
       "              early_stopping_rounds=None, enable_categorical=False,\n",
       "              eval_metric=None, gamma=0, gpu_id=0, grow_policy='depthwise',\n",
       "              importance_type=None, interaction_constraints='',\n",
       "              learning_rate=0.300000012, max_bin=256, max_cat_to_onehot=4,\n",
       "              max_delta_step=0, max_depth=6, max_leaves=0, min_child_weight=1,\n",
       "              missing=nan, monotone_constraints='()', n_estimators=100,\n",
       "              n_jobs=0, num_parallel_tree=1, predictor='auto', random_state=0,\n",
       "              reg_alpha=0, reg_lambda=1, ...)"
      ]
     },
     "execution_count": 120,
     "metadata": {},
     "output_type": "execute_result"
    }
   ],
   "source": [
    "xg.fit(xtrain, yt)"
   ]
  },
  {
   "cell_type": "code",
   "execution_count": 121,
   "id": "9e1c6ad0",
   "metadata": {},
   "outputs": [],
   "source": [
    "ytest_pred=xg.predict(xtest)"
   ]
  },
  {
   "cell_type": "code",
   "execution_count": 122,
   "id": "e6a1a9a2",
   "metadata": {},
   "outputs": [
    {
     "data": {
      "text/plain": [
       "array([[232121,  77242],\n",
       "       [  6645, 302757]], dtype=int64)"
      ]
     },
     "execution_count": 122,
     "metadata": {},
     "output_type": "execute_result"
    }
   ],
   "source": [
    "confusion_matrix(yts,ytest_pred)"
   ]
  },
  {
   "cell_type": "code",
   "execution_count": 123,
   "id": "bcd4f9b2",
   "metadata": {},
   "outputs": [
    {
     "name": "stdout",
     "output_type": "stream",
     "text": [
      "              precision    recall  f1-score   support\n",
      "\n",
      "           0       0.97      0.75      0.85    309363\n",
      "           1       0.80      0.98      0.88    309402\n",
      "\n",
      "    accuracy                           0.86    618765\n",
      "   macro avg       0.88      0.86      0.86    618765\n",
      "weighted avg       0.88      0.86      0.86    618765\n",
      "\n"
     ]
    }
   ],
   "source": [
    "print(classification_report(yts,ytest_pred))"
   ]
  },
  {
   "cell_type": "code",
   "execution_count": 124,
   "id": "b4cb2ce8",
   "metadata": {},
   "outputs": [],
   "source": [
    "ytrain_pred=xg.predict(xtrain)"
   ]
  },
  {
   "cell_type": "code",
   "execution_count": 125,
   "id": "eb3b998b",
   "metadata": {},
   "outputs": [
    {
     "data": {
      "text/plain": [
       "array([[543279, 178633],\n",
       "       [ 14837, 707036]], dtype=int64)"
      ]
     },
     "execution_count": 125,
     "metadata": {},
     "output_type": "execute_result"
    }
   ],
   "source": [
    "confusion_matrix(yt,ytrain_pred)"
   ]
  },
  {
   "cell_type": "code",
   "execution_count": 126,
   "id": "062b3b69",
   "metadata": {},
   "outputs": [
    {
     "name": "stdout",
     "output_type": "stream",
     "text": [
      "              precision    recall  f1-score   support\n",
      "\n",
      "           0       0.97      0.75      0.85    721912\n",
      "           1       0.80      0.98      0.88    721873\n",
      "\n",
      "    accuracy                           0.87   1443785\n",
      "   macro avg       0.89      0.87      0.86   1443785\n",
      "weighted avg       0.89      0.87      0.86   1443785\n",
      "\n"
     ]
    }
   ],
   "source": [
    "print(classification_report(yt,ytrain_pred))"
   ]
  },
  {
   "cell_type": "markdown",
   "id": "a0c43627",
   "metadata": {},
   "source": [
    "Comparing all the Boosting algoritm XG Boost works better and gives higher Accuracy of them all"
   ]
  },
  {
   "cell_type": "markdown",
   "id": "2ae570fd",
   "metadata": {},
   "source": [
    "## Hyperparameter tuning xgboost"
   ]
  },
  {
   "cell_type": "markdown",
   "id": "697e3e1b",
   "metadata": {},
   "source": [
    "### Bayesian Optimization with HYPEROPT \n",
    "\n",
    "Bayesian optimization is optimization or finding the best parameter for a machine learning or deep learning algorithm.\n",
    "\n",
    "Optimization is the process of finding a minimum of cost function , that determines an overall better performance of a model on both train-set and test-set.\n",
    "\n",
    "In this process, we train the model with various possible range of parameters until a best fit model is obtained.\n",
    "\n",
    "Hyperparameter tuning helps in determining the optimal tuned parameters and return the best fit model, which is the best practice to follow while building an ML or DL model.\n"
   ]
  },
  {
   "cell_type": "markdown",
   "id": "8783504b",
   "metadata": {},
   "source": [
    "### What is HYPEROPT \n",
    "\n",
    "HYPEROPT is a powerful python library that search through an hyperparameter space of values and find the best possible values that yield the minimum of the loss function.\n",
    "\n",
    "Bayesian Optimization technique uses Hyperopt to tune the model hyperparameters. Hyperopt is a Python library which is used to tune model hyperparameters.\n",
    "\n",
    "More information on Hyperopt can be found at the following link:-\n",
    "\n",
    "https://hyperopt.github.io/hyperopt/?source=post_page"
   ]
  },
  {
   "cell_type": "markdown",
   "id": "cc826f1a",
   "metadata": {},
   "source": [
    "### Implementation"
   ]
  },
  {
   "cell_type": "raw",
   "id": "eea8db79",
   "metadata": {},
   "source": [
    "from hyperopt import STATUS_OK, Trials, fmin, hp, tpe\n",
    "from sklearn.metrics import accuracy_score"
   ]
  },
  {
   "cell_type": "raw",
   "id": "3c4249fb",
   "metadata": {},
   "source": [
    "space={'max_depth': hp.quniform(\"max_depth\", 3, 18, 1),\n",
    "        'gamma': hp.uniform ('gamma', 1,9),\n",
    "        'reg_alpha' : hp.quniform('reg_alpha', 40,180,1),\n",
    "        'reg_lambda' : hp.uniform('reg_lambda', 0,1),\n",
    "        'colsample_bytree' : hp.uniform('colsample_bytree', 0.5,1),\n",
    "        'min_child_weight' : hp.quniform('min_child_weight', 0, 10, 1),\n",
    "        'n_estimators': 180,\n",
    "        'seed': 0\n",
    "    }"
   ]
  },
  {
   "cell_type": "raw",
   "id": "a21e0168",
   "metadata": {},
   "source": [
    "def objective(space):\n",
    "    clf=XGBClassifier(tree_method='gpu_hist',\n",
    "                    n_estimators =space['n_estimators'], max_depth = int(space['max_depth']), gamma = space['gamma'],\n",
    "                    reg_alpha = int(space['reg_alpha']),min_child_weight=int(space['min_child_weight']),\n",
    "                    colsample_bytree=int(space['colsample_bytree']))\n",
    "    \n",
    "    evaluation = [( xtrain, yt), ( xtest, yts)]\n",
    "    \n",
    "    clf.fit(xtrain, yt,\n",
    "            eval_set=evaluation, eval_metric=\"auc\",\n",
    "            early_stopping_rounds=10,verbose=False)\n",
    "    \n",
    "\n",
    "    pred = clf.predict(xtest)\n",
    "    accuracy = accuracy_score(yts, pred>0.5)\n",
    "    print (\"SCORE:\", accuracy)\n",
    "    return {'loss': -accuracy, 'status': STATUS_OK }"
   ]
  },
  {
   "cell_type": "raw",
   "id": "8ef512ee",
   "metadata": {},
   "source": [
    "trials = Trials()\n",
    "\n",
    "best_hyperparams = fmin(fn = objective,\n",
    "                        space = space,\n",
    "                        algo = tpe.suggest,\n",
    "                        max_evals = 100,\n",
    "                        trials = trials)"
   ]
  },
  {
   "cell_type": "raw",
   "id": "0ff61357",
   "metadata": {},
   "source": [
    "print(\"The best hyperparameters are : \",\"\\n\")\n",
    "print(best_hyperparams)"
   ]
  },
  {
   "cell_type": "markdown",
   "id": "2da4ce0c",
   "metadata": {},
   "source": [
    "After checking the hyperparameter tuner accuracy increases by only 0.1 percent at the cost of 2.3hrs"
   ]
  },
  {
   "cell_type": "markdown",
   "id": "45ce04cb",
   "metadata": {},
   "source": [
    "Hence keeping the default hyperparameters"
   ]
  },
  {
   "cell_type": "markdown",
   "id": "6c1d6655",
   "metadata": {},
   "source": [
    "## Tesing Manually"
   ]
  },
  {
   "cell_type": "code",
   "execution_count": 127,
   "id": "0fee7b03",
   "metadata": {},
   "outputs": [
    {
     "data": {
      "text/plain": [
       "loan_amnt                               27549.000000\n",
       "int_rate                                   18.182626\n",
       "installment                               893.550358\n",
       "emp_title                              361237.677171\n",
       "emp_length                                  6.898812\n",
       "purpose                                     1.379762\n",
       "zip_code                                  851.065551\n",
       "addr_state                                  8.063089\n",
       "term_ 36 months                             0.000000\n",
       "term_ 60 months                             0.000000\n",
       "home_ownership_ANY                          0.000000\n",
       "home_ownership_MORTGAGE                     0.000000\n",
       "home_ownership_NONE                         0.000000\n",
       "home_ownership_OTHER                        0.000000\n",
       "home_ownership_OWN                          0.000000\n",
       "home_ownership_RENT                         1.000000\n",
       "verification_status_Not Verified            0.000000\n",
       "verification_status_Source Verified         0.000000\n",
       "verification_status_Verified                0.000000\n",
       "initial_list_status_f                       0.000000\n",
       "initial_list_status_w                       0.000000\n",
       "application_type_Individual                 1.000000\n",
       "application_type_Joint App                  0.000000\n",
       "disbursement_method_Cash                    1.000000\n",
       "disbursement_method_DirectPay               0.000000\n",
       "Name: 2088, dtype: float64"
      ]
     },
     "execution_count": 127,
     "metadata": {},
     "output_type": "execute_result"
    }
   ],
   "source": [
    "x.iloc[2088]"
   ]
  },
  {
   "cell_type": "code",
   "execution_count": 128,
   "id": "5ed93223",
   "metadata": {},
   "outputs": [
    {
     "data": {
      "text/plain": [
       "'Default'"
      ]
     },
     "execution_count": 128,
     "metadata": {},
     "output_type": "execute_result"
    }
   ],
   "source": [
    "y[2088]"
   ]
  },
  {
   "cell_type": "code",
   "execution_count": 129,
   "id": "27c9afd7",
   "metadata": {},
   "outputs": [],
   "source": [
    "ytry=xg.predict(x.iloc[[2088]])"
   ]
  },
  {
   "cell_type": "code",
   "execution_count": 130,
   "id": "33842101",
   "metadata": {},
   "outputs": [
    {
     "data": {
      "text/plain": [
       "array([0])"
      ]
     },
     "execution_count": 130,
     "metadata": {},
     "output_type": "execute_result"
    }
   ],
   "source": [
    "ytry"
   ]
  },
  {
   "cell_type": "markdown",
   "id": "2665e8d7",
   "metadata": {},
   "source": [
    "### Adjusting the Threshold "
   ]
  },
  {
   "cell_type": "markdown",
   "id": "3aa5e4c1",
   "metadata": {},
   "source": [
    "1. As Default is important to us and it is depicted by positive value or 0\n",
    "2. We need to increase True Positive and Decrease False Negative\n",
    "3. By adjusting the threshold we can achieve this"
   ]
  },
  {
   "cell_type": "code",
   "execution_count": 131,
   "id": "1988e411",
   "metadata": {},
   "outputs": [],
   "source": [
    "ythres=xg.predict_proba(xtest)"
   ]
  },
  {
   "cell_type": "code",
   "execution_count": 132,
   "id": "07025652",
   "metadata": {},
   "outputs": [],
   "source": [
    "ythres=ythres[:,1]"
   ]
  },
  {
   "cell_type": "code",
   "execution_count": 133,
   "id": "84603b52",
   "metadata": {},
   "outputs": [],
   "source": [
    "it=[0.5,0.6,0.7,0.8,0.9]\n",
    "tpr=[]\n",
    "fpr=[]"
   ]
  },
  {
   "cell_type": "code",
   "execution_count": 134,
   "id": "e04252bf",
   "metadata": {},
   "outputs": [],
   "source": [
    "for i in it:\n",
    "    temp=np.where(ythres>i,'Fully Paid','Default')\n",
    "    tn,fp,fn,tp=confusion_matrix(ytest,temp).ravel()\n",
    "    tprs=tp/(tp+fn)\n",
    "    fprs=fp/(tn+fp)\n",
    "    tpr.append(tprs)\n",
    "    fpr.append(fprs)"
   ]
  },
  {
   "cell_type": "code",
   "execution_count": 135,
   "id": "6bf5acd5",
   "metadata": {},
   "outputs": [
    {
     "data": {
      "text/plain": [
       "[<matplotlib.lines.Line2D at 0x19ce59c1390>]"
      ]
     },
     "execution_count": 135,
     "metadata": {},
     "output_type": "execute_result"
    },
    {
     "data": {
      "image/png": "[encoded data removed]",
      "text/plain": [
       "<Figure size 432x288 with 1 Axes>"
      ]
     },
     "metadata": {
      "needs_background": "light"
     },
     "output_type": "display_data"
    }
   ],
   "source": [
    "plt.plot(fpr,tpr,\"-*\")"
   ]
  },
  {
   "cell_type": "markdown",
   "id": "7c53f4f5",
   "metadata": {},
   "source": [
    "Looking at this Reciever Opreating Charateristics:\n",
    "1. after 0.7 curve seems to get stabalized\n",
    "2. hence choosing 0.7 as a threshold"
   ]
  },
  {
   "cell_type": "markdown",
   "id": "32cece5c",
   "metadata": {},
   "source": [
    "### Appling Threshold"
   ]
  },
  {
   "cell_type": "code",
   "execution_count": 136,
   "id": "51e6997c",
   "metadata": {},
   "outputs": [],
   "source": [
    "yth=np.where(ythres>0.7,'Fully Paid','Default')"
   ]
  },
  {
   "cell_type": "code",
   "execution_count": 137,
   "id": "417aaf69",
   "metadata": {},
   "outputs": [
    {
     "data": {
      "text/plain": [
       "array(['Fully Paid', 'Fully Paid', 'Default', ..., 'Default',\n",
       "       'Fully Paid', 'Default'], dtype='<U10')"
      ]
     },
     "execution_count": 137,
     "metadata": {},
     "output_type": "execute_result"
    }
   ],
   "source": [
    "yth"
   ]
  },
  {
   "cell_type": "code",
   "execution_count": 138,
   "id": "d30b3ede",
   "metadata": {},
   "outputs": [],
   "source": [
    "mat=confusion_matrix(ytest,yth)"
   ]
  },
  {
   "cell_type": "code",
   "execution_count": 139,
   "id": "3b903658",
   "metadata": {},
   "outputs": [
    {
     "data": {
      "image/png": "[encoded data removed]",
      "text/plain": [
       "<Figure size 432x288 with 2 Axes>"
      ]
     },
     "metadata": {
      "needs_background": "light"
     },
     "output_type": "display_data"
    }
   ],
   "source": [
    "ConfusionMatrixDisplay(confusion_matrix=mat,display_labels=('Default','Fully Paid')).plot()\n",
    "plt.show()"
   ]
  },
  {
   "cell_type": "code",
   "execution_count": 140,
   "id": "5a76a5d1",
   "metadata": {},
   "outputs": [
    {
     "name": "stdout",
     "output_type": "stream",
     "text": [
      "              precision    recall  f1-score   support\n",
      "\n",
      "     Default       0.82      0.85      0.83    309363\n",
      "  Fully Paid       0.84      0.81      0.83    309402\n",
      "\n",
      "    accuracy                           0.83    618765\n",
      "   macro avg       0.83      0.83      0.83    618765\n",
      "weighted avg       0.83      0.83      0.83    618765\n",
      "\n"
     ]
    }
   ],
   "source": [
    "print(classification_report(ytest,yth))"
   ]
  },
  {
   "cell_type": "markdown",
   "id": "ae115dac",
   "metadata": {},
   "source": [
    "As Default is important to us we can see the Recall rising after increasing the threshold to 0.7"
   ]
  },
  {
   "cell_type": "markdown",
   "id": "5eb5a026",
   "metadata": {},
   "source": [
    "## Pickling the Required Objects for Deploying the project"
   ]
  },
  {
   "cell_type": "code",
   "execution_count": 141,
   "id": "4641d987",
   "metadata": {},
   "outputs": [],
   "source": [
    "#pickle.dump(xg,open('logistic.pkl','wb'))"
   ]
  },
  {
   "cell_type": "code",
   "execution_count": 142,
   "id": "a393d3ae",
   "metadata": {},
   "outputs": [],
   "source": [
    "#pickle.dump(oe,open('ordinal.pkl','wb'))"
   ]
  },
  {
   "cell_type": "markdown",
   "id": "62f6881b",
   "metadata": {},
   "source": [
    "<br>"
   ]
  },
  {
   "cell_type": "markdown",
   "id": "3fc3e425",
   "metadata": {},
   "source": [
    "## For deployement"
   ]
  },
  {
   "cell_type": "code",
   "execution_count": 143,
   "id": "f20e9721",
   "metadata": {},
   "outputs": [],
   "source": [
    "col=list(x.columns)"
   ]
  },
  {
   "cell_type": "code",
   "execution_count": 144,
   "id": "e2762bd0",
   "metadata": {},
   "outputs": [],
   "source": [
    "#pickle.dump(col,open('columns.pkl','wb'))"
   ]
  },
  {
   "cell_type": "code",
   "execution_count": 145,
   "id": "c740a2b6",
   "metadata": {},
   "outputs": [
    {
     "data": {
      "text/plain": [
       "['loan_amnt',\n",
       " 'int_rate',\n",
       " 'installment',\n",
       " 'emp_title',\n",
       " 'emp_length',\n",
       " 'purpose',\n",
       " 'zip_code',\n",
       " 'addr_state',\n",
       " 'term_ 36 months',\n",
       " 'term_ 60 months',\n",
       " 'home_ownership_ANY',\n",
       " 'home_ownership_MORTGAGE',\n",
       " 'home_ownership_NONE',\n",
       " 'home_ownership_OTHER',\n",
       " 'home_ownership_OWN',\n",
       " 'home_ownership_RENT',\n",
       " 'verification_status_Not Verified',\n",
       " 'verification_status_Source Verified',\n",
       " 'verification_status_Verified',\n",
       " 'initial_list_status_f',\n",
       " 'initial_list_status_w',\n",
       " 'application_type_Individual',\n",
       " 'application_type_Joint App',\n",
       " 'disbursement_method_Cash',\n",
       " 'disbursement_method_DirectPay']"
      ]
     },
     "execution_count": 145,
     "metadata": {},
     "output_type": "execute_result"
    }
   ],
   "source": [
    "col"
   ]
  },
  {
   "cell_type": "code",
   "execution_count": 146,
   "id": "c77c158d",
   "metadata": {},
   "outputs": [],
   "source": [
    "o=[\"< 1 year\",\"1 year\",\"2 years\",\"3 years\",\"4 years\",\"5 years\",\"6 years\",\"7 years\",\"8 years\",\"9 years\",\"10+ years\"]\n",
    "#pickle.dump(o,open('emp_length.pkl','wb'))"
   ]
  },
  {
   "cell_type": "code",
   "execution_count": null,
   "id": "16cb1d97",
   "metadata": {},
   "outputs": [],
   "source": []
  }
 ],
 "metadata": {
  "kernelspec": {
   "display_name": "Python 3 (ipykernel)",
   "language": "python",
   "name": "python3"
  },
  "language_info": {
   "codemirror_mode": {
    "name": "ipython",
    "version": 3
   },
   "file_extension": ".py",
   "mimetype": "text/x-python",
   "name": "python",
   "nbconvert_exporter": "python",
   "pygments_lexer": "ipython3",
   "version": "3.10.4"
  }
 },
 "nbformat": 4,
 "nbformat_minor": 5
}
